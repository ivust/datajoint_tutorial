{
 "cells": [
  {
   "cell_type": "markdown",
   "id": "f9deab4a",
   "metadata": {},
   "source": [
    "# DataJoint tutorial"
   ]
  },
  {
   "cell_type": "markdown",
   "id": "a69a3159-8d6d-4f7e-a0a2-8121814cc74d",
   "metadata": {},
   "source": [
    "### The code for the interactive notebook is available here: https://github.com/ivust/datajoint_tutorial"
   ]
  },
  {
   "cell_type": "markdown",
   "id": "54e1c790",
   "metadata": {},
   "source": [
    "We run a lot of experiments and keeping track of them is hard (at least for me)\n",
    "![](figures/folders.png)"
   ]
  },
  {
   "cell_type": "markdown",
   "id": "2e88e51f",
   "metadata": {
    "tags": []
   },
   "source": [
    "## What do we want from an experiment tracking tool?"
   ]
  },
  {
   "cell_type": "markdown",
   "id": "b210b7e5",
   "metadata": {
    "tags": []
   },
   "source": [
    "### Storage and quering"
   ]
  },
  {
   "cell_type": "markdown",
   "id": "3270bf3d-8478-4813-801b-9720003c2bc8",
   "metadata": {},
   "source": [
    "- Make sure all the results are accessible and nothing is lost.\n",
    "- Maybe raw data storage should be supported as well.\n",
    "- Easy querying. For example, something like this is inconvenient:\n",
    "```python\n",
    "for param1 in list_of_param1_values:\n",
    "    for param2 in list_of_param2_values:\n",
    "        for param3 in list_of_param3_values:\n",
    "            results_file_path = get_file_path(root_folder, param1, param2, param3)\n",
    "            results = load_results(results_file_path)\n",
    "            ...\n",
    "```\n",
    "- For example, $0.5 \\leq \\text{param1} \\leq 1.5$ and $\\text{param2} \\geq 10 \\cdot \\text{param1}$ need to be coded as `if...else` statements\n",
    "- A table might be a better option\n",
    "\n",
    "![](figures/table.png)\n",
    "\n",
    "- A table needs to be manually kept up-to-date and stored somewhere. Also how do we store different types of data? Links to files?\n",
    "- What about pipelines, where the results of one experiment are inputs to the next one?"
   ]
  },
  {
   "cell_type": "markdown",
   "id": "7599ca55-bc5b-4c86-ad23-c7ec4ce3e3a3",
   "metadata": {
    "tags": []
   },
   "source": [
    "### There is a good solution to storage and querying problem"
   ]
  },
  {
   "cell_type": "markdown",
   "id": "5465988b-4382-446d-b36b-6f2ea475bdd9",
   "metadata": {},
   "source": [
    "Databases! For example, relational databases with SQL language for querying\n",
    "\n",
    "![](figures/database_cartoon.png)"
   ]
  },
  {
   "cell_type": "markdown",
   "id": "4cdb78df-91ec-44fc-a658-d549b8ae5021",
   "metadata": {
    "tags": []
   },
   "source": [
    "![](figures/params_database.jpg)"
   ]
  },
  {
   "cell_type": "markdown",
   "id": "cddc3b03-4e4d-4edd-b863-77a5b5728cba",
   "metadata": {
    "tags": []
   },
   "source": [
    "Querying is much easier than in manual looping over the file system:\n",
    "```sql\n",
    "SELECT res1\n",
    "FROM results\n",
    "    JOIN param1 ON (param1.id = results.id_p1)\n",
    "    JOIN param2 ON (param2.id = results.id_p2)\n",
    "WHERE\n",
    "    param1.value >= 0.5 AND \n",
    "    param1.value <= 1.5 AND \n",
    "    param2.value >= param1.value * 10\n",
    "```"
   ]
  },
  {
   "cell_type": "markdown",
   "id": "692fc605-f456-4998-bd9f-1b27f029c13e",
   "metadata": {},
   "source": [
    "- DataJoint is an easy-to-use wrapper on top of a SQL database. "
   ]
  },
  {
   "cell_type": "markdown",
   "id": "8d861804-b2bd-408c-b23a-e621a45df0a8",
   "metadata": {
    "tags": []
   },
   "source": [
    "### Computation"
   ]
  },
  {
   "cell_type": "markdown",
   "id": "2d41d635-9bd8-4a67-84b3-18e0c27d9580",
   "metadata": {},
   "source": [
    "- DataJoint is not just an SQL database wrapper. It also allows us to define computational pipeline (a bit lime Makefile).\n",
    "- The database tables can be automatically populated based on the data saved in their dependent tables.\n",
    "- The auto population jobs are tracked in a global table enabling parallel computations (see later)."
   ]
  },
  {
   "cell_type": "markdown",
   "id": "933d11a8-86bb-452e-b299-89503b42a8da",
   "metadata": {
    "tags": []
   },
   "source": [
    "## An example"
   ]
  },
  {
   "cell_type": "markdown",
   "id": "a057a349-fea1-43eb-89b8-b4a67eacaa34",
   "metadata": {},
   "source": [
    "Let's train a neural network on MNIST digits and use DataJoint to keep track of the results."
   ]
  },
  {
   "cell_type": "code",
   "execution_count": 1,
   "id": "a333331f-b0b6-40a5-b72e-a6b71c26445d",
   "metadata": {
    "tags": []
   },
   "outputs": [],
   "source": [
    "import torch.optim as optim\n",
    "from datajoint_tutorial.torch_network import Net, get_dataloaders, train, test"
   ]
  },
  {
   "cell_type": "code",
   "execution_count": 2,
   "id": "afd88abd-794a-46ad-b8e4-12a9dac31082",
   "metadata": {
    "tags": []
   },
   "outputs": [],
   "source": [
    "net = Net(num_features_1=32, num_features_2=64, dropout_prob=0.25)"
   ]
  },
  {
   "cell_type": "code",
   "execution_count": 3,
   "id": "b32f6bf6-02ba-4668-b57a-92bb0da24b96",
   "metadata": {
    "tags": []
   },
   "outputs": [],
   "source": [
    "train_loader, test_loader = get_dataloaders(batch_size=4)"
   ]
  },
  {
   "cell_type": "code",
   "execution_count": 4,
   "id": "03ecd338-f9ec-49a4-b758-ac278b029f8e",
   "metadata": {
    "tags": []
   },
   "outputs": [],
   "source": [
    "import matplotlib.pyplot as plt"
   ]
  },
  {
   "cell_type": "code",
   "execution_count": 5,
   "id": "2a0c11a8-44d3-41cb-8af5-58d304aa3d06",
   "metadata": {
    "tags": []
   },
   "outputs": [
    {
     "data": {
      "image/png": "[encoded data removed]",
      "text/plain": [
       "<Figure size 1000x300 with 4 Axes>"
      ]
     },
     "metadata": {},
     "output_type": "display_data"
    }
   ],
   "source": [
    "for (imgs, labels) in train_loader:\n",
    "    break\n",
    "    \n",
    "plt.figure(figsize=(10, 3))\n",
    "\n",
    "for i in range(4):\n",
    "    plt.subplot(1, 4, i + 1)\n",
    "    plt.imshow(imgs[i,0], cmap=\"gray\")\n",
    "    plt.axis(\"off\")"
   ]
  },
  {
   "cell_type": "code",
   "execution_count": 6,
   "id": "fd5b5707-c20d-41ac-8733-e7db1705ffab",
   "metadata": {
    "tags": []
   },
   "outputs": [
    {
     "data": {
      "text/plain": [
       "torch.Size([4, 10])"
      ]
     },
     "execution_count": 6,
     "metadata": {},
     "output_type": "execute_result"
    }
   ],
   "source": [
    "net_output = net(imgs)\n",
    "net_output.shape"
   ]
  },
  {
   "cell_type": "markdown",
   "id": "90c27280-c740-43d6-8f48-19c9cc805387",
   "metadata": {
    "tags": []
   },
   "source": [
    "### Setting up DataJoint schema"
   ]
  },
  {
   "cell_type": "code",
   "execution_count": 7,
   "id": "3d329319",
   "metadata": {
    "tags": []
   },
   "outputs": [],
   "source": [
    "import datajoint as dj"
   ]
  },
  {
   "cell_type": "code",
   "execution_count": 8,
   "id": "8f226384",
   "metadata": {
    "tags": []
   },
   "outputs": [],
   "source": [
    "# Database connection\n",
    "\n",
    "dj.config['database.host'] = 'localhost'\n",
    "dj.config['database.user'] = 'root'\n",
    "dj.config['database.password'] = 'password'"
   ]
  },
  {
   "cell_type": "code",
   "execution_count": 9,
   "id": "016823e0-2387-4782-bab9-ee7ff37693ea",
   "metadata": {
    "tags": []
   },
   "outputs": [],
   "source": [
    "# schema.drop()"
   ]
  },
  {
   "cell_type": "code",
   "execution_count": 10,
   "id": "5f990dbf",
   "metadata": {
    "tags": []
   },
   "outputs": [
    {
     "name": "stderr",
     "output_type": "stream",
     "text": [
      "[2023-04-25 19:14:26,144][INFO]: Connecting root@localhost:3306\n",
      "[2023-04-25 19:14:26,214][INFO]: Connected root@localhost:3306\n"
     ]
    }
   ],
   "source": [
    "# Schema is a collection of tables\n",
    "\n",
    "schema = dj.schema('tutorial', locals())"
   ]
  },
  {
   "cell_type": "markdown",
   "id": "c08a3414-64be-440b-bc93-7f26a5230b24",
   "metadata": {},
   "source": [
    "Our model contains the following parameters:\n",
    "\n",
    "- Number of features in the first and second layer\n",
    "- Dropout probability\n",
    "- Optimizer learning rate\n",
    "- Number of optimization epochs"
   ]
  },
  {
   "cell_type": "code",
   "execution_count": 11,
   "id": "874c076d",
   "metadata": {
    "tags": []
   },
   "outputs": [],
   "source": [
    "@schema\n",
    "class NumFeatures(dj.Manual):\n",
    "    definition = \"\"\"\n",
    "    features_config_id  : tinyint # so-called primary key, must be unique\n",
    "    ---\n",
    "    num_features_1      : int\n",
    "    num_features_2      : int\n",
    "    \"\"\""
   ]
  },
  {
   "cell_type": "code",
   "execution_count": 12,
   "id": "56712ee8",
   "metadata": {
    "tags": []
   },
   "outputs": [
    {
     "data": {
      "text/html": [
       "\n",
       "    \n",
       "    <style type=\"text/css\">\n",
       "        .Table{\n",
       "            border-collapse:collapse;\n",
       "        }\n",
       "        .Table th{\n",
       "            background: #A0A0A0; color: #ffffff; padding:4px; border:#f0e0e0 1px solid;\n",
       "            font-weight: normal; font-family: monospace; font-size: 100%;\n",
       "        }\n",
       "        .Table td{\n",
       "            padding:4px; border:#f0e0e0 1px solid; font-size:100%;\n",
       "        }\n",
       "        .Table tr:nth-child(odd){\n",
       "            background: #ffffff;\n",
       "        }\n",
       "        .Table tr:nth-child(even){\n",
       "            background: #f3f1ff;\n",
       "        }\n",
       "        /* Tooltip container */\n",
       "        .djtooltip {\n",
       "        }\n",
       "        /* Tooltip text */\n",
       "        .djtooltip .djtooltiptext {\n",
       "            visibility: hidden;\n",
       "            width: 120px;\n",
       "            background-color: black;\n",
       "            color: #fff;\n",
       "            text-align: center;\n",
       "            padding: 5px 0;\n",
       "            border-radius: 6px;\n",
       "            /* Position the tooltip text - see examples below! */\n",
       "            position: absolute;\n",
       "            z-index: 1;\n",
       "        }\n",
       "        #primary {\n",
       "            font-weight: bold;\n",
       "            color: black;\n",
       "        }\n",
       "        #nonprimary {\n",
       "            font-weight: normal;\n",
       "            color: white;\n",
       "        }\n",
       "\n",
       "        /* Show the tooltip text when you mouse over the tooltip container */\n",
       "        .djtooltip:hover .djtooltiptext {\n",
       "            visibility: visible;\n",
       "        }\n",
       "    </style>\n",
       "    \n",
       "    <b></b>\n",
       "        <div style=\"max-height:1000px;max-width:1500px;overflow:auto;\">\n",
       "        <table border=\"1\" class=\"Table\">\n",
       "            <thead> <tr style=\"text-align: right;\"> <th> <div class=\"djtooltip\">\n",
       "                            <p id=\"primary\">features_config_id</p>\n",
       "                            <span class=\"djtooltiptext\">so-called primary key, must be unique</span>\n",
       "                        </div></th><th><div class=\"djtooltip\">\n",
       "                            <p id=\"nonprimary\">num_features_1</p>\n",
       "                            <span class=\"djtooltiptext\"></span>\n",
       "                        </div></th><th><div class=\"djtooltip\">\n",
       "                            <p id=\"nonprimary\">num_features_2</p>\n",
       "                            <span class=\"djtooltiptext\"></span>\n",
       "                        </div> </th> </tr> </thead>\n",
       "            <tbody> <tr>  </tr> </tbody>\n",
       "        </table>\n",
       "        \n",
       "        <p>Total: 0</p></div>\n",
       "        "
      ],
      "text/plain": [
       "*features_conf num_features_1 num_features_2\n",
       "+------------+ +------------+ +------------+\n",
       "\n",
       " (Total: 0)"
      ]
     },
     "execution_count": 12,
     "metadata": {},
     "output_type": "execute_result"
    }
   ],
   "source": [
    "NumFeatures()"
   ]
  },
  {
   "cell_type": "code",
   "execution_count": 13,
   "id": "bb3a3253",
   "metadata": {
    "tags": []
   },
   "outputs": [],
   "source": [
    "NumFeatures().insert1([1, 32, 32])"
   ]
  },
  {
   "cell_type": "code",
   "execution_count": 14,
   "id": "dfbb05ce",
   "metadata": {
    "tags": []
   },
   "outputs": [
    {
     "data": {
      "text/html": [
       "\n",
       "    \n",
       "    <style type=\"text/css\">\n",
       "        .Table{\n",
       "            border-collapse:collapse;\n",
       "        }\n",
       "        .Table th{\n",
       "            background: #A0A0A0; color: #ffffff; padding:4px; border:#f0e0e0 1px solid;\n",
       "            font-weight: normal; font-family: monospace; font-size: 100%;\n",
       "        }\n",
       "        .Table td{\n",
       "            padding:4px; border:#f0e0e0 1px solid; font-size:100%;\n",
       "        }\n",
       "        .Table tr:nth-child(odd){\n",
       "            background: #ffffff;\n",
       "        }\n",
       "        .Table tr:nth-child(even){\n",
       "            background: #f3f1ff;\n",
       "        }\n",
       "        /* Tooltip container */\n",
       "        .djtooltip {\n",
       "        }\n",
       "        /* Tooltip text */\n",
       "        .djtooltip .djtooltiptext {\n",
       "            visibility: hidden;\n",
       "            width: 120px;\n",
       "            background-color: black;\n",
       "            color: #fff;\n",
       "            text-align: center;\n",
       "            padding: 5px 0;\n",
       "            border-radius: 6px;\n",
       "            /* Position the tooltip text - see examples below! */\n",
       "            position: absolute;\n",
       "            z-index: 1;\n",
       "        }\n",
       "        #primary {\n",
       "            font-weight: bold;\n",
       "            color: black;\n",
       "        }\n",
       "        #nonprimary {\n",
       "            font-weight: normal;\n",
       "            color: white;\n",
       "        }\n",
       "\n",
       "        /* Show the tooltip text when you mouse over the tooltip container */\n",
       "        .djtooltip:hover .djtooltiptext {\n",
       "            visibility: visible;\n",
       "        }\n",
       "    </style>\n",
       "    \n",
       "    <b></b>\n",
       "        <div style=\"max-height:1000px;max-width:1500px;overflow:auto;\">\n",
       "        <table border=\"1\" class=\"Table\">\n",
       "            <thead> <tr style=\"text-align: right;\"> <th> <div class=\"djtooltip\">\n",
       "                            <p id=\"primary\">features_config_id</p>\n",
       "                            <span class=\"djtooltiptext\">so-called primary key, must be unique</span>\n",
       "                        </div></th><th><div class=\"djtooltip\">\n",
       "                            <p id=\"nonprimary\">num_features_1</p>\n",
       "                            <span class=\"djtooltiptext\"></span>\n",
       "                        </div></th><th><div class=\"djtooltip\">\n",
       "                            <p id=\"nonprimary\">num_features_2</p>\n",
       "                            <span class=\"djtooltiptext\"></span>\n",
       "                        </div> </th> </tr> </thead>\n",
       "            <tbody> <tr> <td>1</td>\n",
       "<td>32</td>\n",
       "<td>32</td> </tr> </tbody>\n",
       "        </table>\n",
       "        \n",
       "        <p>Total: 1</p></div>\n",
       "        "
      ],
      "text/plain": [
       "*features_conf num_features_1 num_features_2\n",
       "+------------+ +------------+ +------------+\n",
       "1              32             32            \n",
       " (Total: 1)"
      ]
     },
     "execution_count": 14,
     "metadata": {},
     "output_type": "execute_result"
    }
   ],
   "source": [
    "NumFeatures()"
   ]
  },
  {
   "cell_type": "code",
   "execution_count": 15,
   "id": "79cbc084",
   "metadata": {
    "tags": []
   },
   "outputs": [],
   "source": [
    "NumFeatures().insert([\n",
    "    [2, 16, 32],\n",
    "    [3, 32, 64],\n",
    "    [4, 64, 64]\n",
    "])"
   ]
  },
  {
   "cell_type": "code",
   "execution_count": 16,
   "id": "7d86b619",
   "metadata": {
    "tags": []
   },
   "outputs": [
    {
     "data": {
      "text/html": [
       "\n",
       "    \n",
       "    <style type=\"text/css\">\n",
       "        .Table{\n",
       "            border-collapse:collapse;\n",
       "        }\n",
       "        .Table th{\n",
       "            background: #A0A0A0; color: #ffffff; padding:4px; border:#f0e0e0 1px solid;\n",
       "            font-weight: normal; font-family: monospace; font-size: 100%;\n",
       "        }\n",
       "        .Table td{\n",
       "            padding:4px; border:#f0e0e0 1px solid; font-size:100%;\n",
       "        }\n",
       "        .Table tr:nth-child(odd){\n",
       "            background: #ffffff;\n",
       "        }\n",
       "        .Table tr:nth-child(even){\n",
       "            background: #f3f1ff;\n",
       "        }\n",
       "        /* Tooltip container */\n",
       "        .djtooltip {\n",
       "        }\n",
       "        /* Tooltip text */\n",
       "        .djtooltip .djtooltiptext {\n",
       "            visibility: hidden;\n",
       "            width: 120px;\n",
       "            background-color: black;\n",
       "            color: #fff;\n",
       "            text-align: center;\n",
       "            padding: 5px 0;\n",
       "            border-radius: 6px;\n",
       "            /* Position the tooltip text - see examples below! */\n",
       "            position: absolute;\n",
       "            z-index: 1;\n",
       "        }\n",
       "        #primary {\n",
       "            font-weight: bold;\n",
       "            color: black;\n",
       "        }\n",
       "        #nonprimary {\n",
       "            font-weight: normal;\n",
       "            color: white;\n",
       "        }\n",
       "\n",
       "        /* Show the tooltip text when you mouse over the tooltip container */\n",
       "        .djtooltip:hover .djtooltiptext {\n",
       "            visibility: visible;\n",
       "        }\n",
       "    </style>\n",
       "    \n",
       "    <b></b>\n",
       "        <div style=\"max-height:1000px;max-width:1500px;overflow:auto;\">\n",
       "        <table border=\"1\" class=\"Table\">\n",
       "            <thead> <tr style=\"text-align: right;\"> <th> <div class=\"djtooltip\">\n",
       "                            <p id=\"primary\">features_config_id</p>\n",
       "                            <span class=\"djtooltiptext\">so-called primary key, must be unique</span>\n",
       "                        </div></th><th><div class=\"djtooltip\">\n",
       "                            <p id=\"nonprimary\">num_features_1</p>\n",
       "                            <span class=\"djtooltiptext\"></span>\n",
       "                        </div></th><th><div class=\"djtooltip\">\n",
       "                            <p id=\"nonprimary\">num_features_2</p>\n",
       "                            <span class=\"djtooltiptext\"></span>\n",
       "                        </div> </th> </tr> </thead>\n",
       "            <tbody> <tr> <td>1</td>\n",
       "<td>32</td>\n",
       "<td>32</td></tr><tr><td>2</td>\n",
       "<td>16</td>\n",
       "<td>32</td></tr><tr><td>3</td>\n",
       "<td>32</td>\n",
       "<td>64</td></tr><tr><td>4</td>\n",
       "<td>64</td>\n",
       "<td>64</td> </tr> </tbody>\n",
       "        </table>\n",
       "        \n",
       "        <p>Total: 4</p></div>\n",
       "        "
      ],
      "text/plain": [
       "*features_conf num_features_1 num_features_2\n",
       "+------------+ +------------+ +------------+\n",
       "1              32             32            \n",
       "2              16             32            \n",
       "3              32             64            \n",
       "4              64             64            \n",
       " (Total: 4)"
      ]
     },
     "execution_count": 16,
     "metadata": {},
     "output_type": "execute_result"
    }
   ],
   "source": [
    "NumFeatures()"
   ]
  },
  {
   "cell_type": "code",
   "execution_count": 17,
   "id": "5d674597-a99a-45bb-ae51-9f285998f5cb",
   "metadata": {
    "tags": []
   },
   "outputs": [],
   "source": [
    "some_features = NumFeatures() & 'num_features_1 > 20'"
   ]
  },
  {
   "cell_type": "code",
   "execution_count": 18,
   "id": "a41f6d70-4d67-42c2-8885-d19f0b533145",
   "metadata": {
    "tags": []
   },
   "outputs": [
    {
     "data": {
      "text/html": [
       "\n",
       "    \n",
       "    <style type=\"text/css\">\n",
       "        .Table{\n",
       "            border-collapse:collapse;\n",
       "        }\n",
       "        .Table th{\n",
       "            background: #A0A0A0; color: #ffffff; padding:4px; border:#f0e0e0 1px solid;\n",
       "            font-weight: normal; font-family: monospace; font-size: 100%;\n",
       "        }\n",
       "        .Table td{\n",
       "            padding:4px; border:#f0e0e0 1px solid; font-size:100%;\n",
       "        }\n",
       "        .Table tr:nth-child(odd){\n",
       "            background: #ffffff;\n",
       "        }\n",
       "        .Table tr:nth-child(even){\n",
       "            background: #f3f1ff;\n",
       "        }\n",
       "        /* Tooltip container */\n",
       "        .djtooltip {\n",
       "        }\n",
       "        /* Tooltip text */\n",
       "        .djtooltip .djtooltiptext {\n",
       "            visibility: hidden;\n",
       "            width: 120px;\n",
       "            background-color: black;\n",
       "            color: #fff;\n",
       "            text-align: center;\n",
       "            padding: 5px 0;\n",
       "            border-radius: 6px;\n",
       "            /* Position the tooltip text - see examples below! */\n",
       "            position: absolute;\n",
       "            z-index: 1;\n",
       "        }\n",
       "        #primary {\n",
       "            font-weight: bold;\n",
       "            color: black;\n",
       "        }\n",
       "        #nonprimary {\n",
       "            font-weight: normal;\n",
       "            color: white;\n",
       "        }\n",
       "\n",
       "        /* Show the tooltip text when you mouse over the tooltip container */\n",
       "        .djtooltip:hover .djtooltiptext {\n",
       "            visibility: visible;\n",
       "        }\n",
       "    </style>\n",
       "    \n",
       "    <b></b>\n",
       "        <div style=\"max-height:1000px;max-width:1500px;overflow:auto;\">\n",
       "        <table border=\"1\" class=\"Table\">\n",
       "            <thead> <tr style=\"text-align: right;\"> <th> <div class=\"djtooltip\">\n",
       "                            <p id=\"primary\">features_config_id</p>\n",
       "                            <span class=\"djtooltiptext\">so-called primary key, must be unique</span>\n",
       "                        </div></th><th><div class=\"djtooltip\">\n",
       "                            <p id=\"nonprimary\">num_features_1</p>\n",
       "                            <span class=\"djtooltiptext\"></span>\n",
       "                        </div></th><th><div class=\"djtooltip\">\n",
       "                            <p id=\"nonprimary\">num_features_2</p>\n",
       "                            <span class=\"djtooltiptext\"></span>\n",
       "                        </div> </th> </tr> </thead>\n",
       "            <tbody> <tr> <td>1</td>\n",
       "<td>32</td>\n",
       "<td>32</td></tr><tr><td>3</td>\n",
       "<td>32</td>\n",
       "<td>64</td></tr><tr><td>4</td>\n",
       "<td>64</td>\n",
       "<td>64</td> </tr> </tbody>\n",
       "        </table>\n",
       "        \n",
       "        <p>Total: 3</p></div>\n",
       "        "
      ],
      "text/plain": [
       "*features_conf num_features_1 num_features_2\n",
       "+------------+ +------------+ +------------+\n",
       "1              32             32            \n",
       "3              32             64            \n",
       "4              64             64            \n",
       " (Total: 3)"
      ]
     },
     "execution_count": 18,
     "metadata": {},
     "output_type": "execute_result"
    }
   ],
   "source": [
    "some_features"
   ]
  },
  {
   "cell_type": "code",
   "execution_count": 19,
   "id": "50917801-534e-48d7-bab6-77355fe041d4",
   "metadata": {
    "tags": []
   },
   "outputs": [],
   "source": [
    "some_features = NumFeatures() & 'num_features_1 > num_features_2'"
   ]
  },
  {
   "cell_type": "code",
   "execution_count": 20,
   "id": "9d621170-7f35-4853-8522-34143dc41e64",
   "metadata": {
    "tags": []
   },
   "outputs": [
    {
     "data": {
      "text/html": [
       "\n",
       "    \n",
       "    <style type=\"text/css\">\n",
       "        .Table{\n",
       "            border-collapse:collapse;\n",
       "        }\n",
       "        .Table th{\n",
       "            background: #A0A0A0; color: #ffffff; padding:4px; border:#f0e0e0 1px solid;\n",
       "            font-weight: normal; font-family: monospace; font-size: 100%;\n",
       "        }\n",
       "        .Table td{\n",
       "            padding:4px; border:#f0e0e0 1px solid; font-size:100%;\n",
       "        }\n",
       "        .Table tr:nth-child(odd){\n",
       "            background: #ffffff;\n",
       "        }\n",
       "        .Table tr:nth-child(even){\n",
       "            background: #f3f1ff;\n",
       "        }\n",
       "        /* Tooltip container */\n",
       "        .djtooltip {\n",
       "        }\n",
       "        /* Tooltip text */\n",
       "        .djtooltip .djtooltiptext {\n",
       "            visibility: hidden;\n",
       "            width: 120px;\n",
       "            background-color: black;\n",
       "            color: #fff;\n",
       "            text-align: center;\n",
       "            padding: 5px 0;\n",
       "            border-radius: 6px;\n",
       "            /* Position the tooltip text - see examples below! */\n",
       "            position: absolute;\n",
       "            z-index: 1;\n",
       "        }\n",
       "        #primary {\n",
       "            font-weight: bold;\n",
       "            color: black;\n",
       "        }\n",
       "        #nonprimary {\n",
       "            font-weight: normal;\n",
       "            color: white;\n",
       "        }\n",
       "\n",
       "        /* Show the tooltip text when you mouse over the tooltip container */\n",
       "        .djtooltip:hover .djtooltiptext {\n",
       "            visibility: visible;\n",
       "        }\n",
       "    </style>\n",
       "    \n",
       "    <b></b>\n",
       "        <div style=\"max-height:1000px;max-width:1500px;overflow:auto;\">\n",
       "        <table border=\"1\" class=\"Table\">\n",
       "            <thead> <tr style=\"text-align: right;\"> <th> <div class=\"djtooltip\">\n",
       "                            <p id=\"primary\">features_config_id</p>\n",
       "                            <span class=\"djtooltiptext\">so-called primary key, must be unique</span>\n",
       "                        </div></th><th><div class=\"djtooltip\">\n",
       "                            <p id=\"nonprimary\">num_features_1</p>\n",
       "                            <span class=\"djtooltiptext\"></span>\n",
       "                        </div></th><th><div class=\"djtooltip\">\n",
       "                            <p id=\"nonprimary\">num_features_2</p>\n",
       "                            <span class=\"djtooltiptext\"></span>\n",
       "                        </div> </th> </tr> </thead>\n",
       "            <tbody> <tr>  </tr> </tbody>\n",
       "        </table>\n",
       "        \n",
       "        <p>Total: 0</p></div>\n",
       "        "
      ],
      "text/plain": [
       "*features_conf num_features_1 num_features_2\n",
       "+------------+ +------------+ +------------+\n",
       "\n",
       " (Total: 0)"
      ]
     },
     "execution_count": 20,
     "metadata": {},
     "output_type": "execute_result"
    }
   ],
   "source": [
    "some_features"
   ]
  },
  {
   "cell_type": "code",
   "execution_count": 21,
   "id": "f7263a95-9ef5-4c9c-93f7-a92dbaa21cc0",
   "metadata": {
    "tags": []
   },
   "outputs": [],
   "source": [
    "some_features = NumFeatures() & 'num_features_1 = num_features_2'"
   ]
  },
  {
   "cell_type": "code",
   "execution_count": 22,
   "id": "915921b3-6534-41e5-b6fa-cd8bc1050124",
   "metadata": {
    "tags": []
   },
   "outputs": [
    {
     "data": {
      "text/html": [
       "\n",
       "    \n",
       "    <style type=\"text/css\">\n",
       "        .Table{\n",
       "            border-collapse:collapse;\n",
       "        }\n",
       "        .Table th{\n",
       "            background: #A0A0A0; color: #ffffff; padding:4px; border:#f0e0e0 1px solid;\n",
       "            font-weight: normal; font-family: monospace; font-size: 100%;\n",
       "        }\n",
       "        .Table td{\n",
       "            padding:4px; border:#f0e0e0 1px solid; font-size:100%;\n",
       "        }\n",
       "        .Table tr:nth-child(odd){\n",
       "            background: #ffffff;\n",
       "        }\n",
       "        .Table tr:nth-child(even){\n",
       "            background: #f3f1ff;\n",
       "        }\n",
       "        /* Tooltip container */\n",
       "        .djtooltip {\n",
       "        }\n",
       "        /* Tooltip text */\n",
       "        .djtooltip .djtooltiptext {\n",
       "            visibility: hidden;\n",
       "            width: 120px;\n",
       "            background-color: black;\n",
       "            color: #fff;\n",
       "            text-align: center;\n",
       "            padding: 5px 0;\n",
       "            border-radius: 6px;\n",
       "            /* Position the tooltip text - see examples below! */\n",
       "            position: absolute;\n",
       "            z-index: 1;\n",
       "        }\n",
       "        #primary {\n",
       "            font-weight: bold;\n",
       "            color: black;\n",
       "        }\n",
       "        #nonprimary {\n",
       "            font-weight: normal;\n",
       "            color: white;\n",
       "        }\n",
       "\n",
       "        /* Show the tooltip text when you mouse over the tooltip container */\n",
       "        .djtooltip:hover .djtooltiptext {\n",
       "            visibility: visible;\n",
       "        }\n",
       "    </style>\n",
       "    \n",
       "    <b></b>\n",
       "        <div style=\"max-height:1000px;max-width:1500px;overflow:auto;\">\n",
       "        <table border=\"1\" class=\"Table\">\n",
       "            <thead> <tr style=\"text-align: right;\"> <th> <div class=\"djtooltip\">\n",
       "                            <p id=\"primary\">features_config_id</p>\n",
       "                            <span class=\"djtooltiptext\">so-called primary key, must be unique</span>\n",
       "                        </div></th><th><div class=\"djtooltip\">\n",
       "                            <p id=\"nonprimary\">num_features_1</p>\n",
       "                            <span class=\"djtooltiptext\"></span>\n",
       "                        </div></th><th><div class=\"djtooltip\">\n",
       "                            <p id=\"nonprimary\">num_features_2</p>\n",
       "                            <span class=\"djtooltiptext\"></span>\n",
       "                        </div> </th> </tr> </thead>\n",
       "            <tbody> <tr> <td>1</td>\n",
       "<td>32</td>\n",
       "<td>32</td></tr><tr><td>4</td>\n",
       "<td>64</td>\n",
       "<td>64</td> </tr> </tbody>\n",
       "        </table>\n",
       "        \n",
       "        <p>Total: 2</p></div>\n",
       "        "
      ],
      "text/plain": [
       "*features_conf num_features_1 num_features_2\n",
       "+------------+ +------------+ +------------+\n",
       "1              32             32            \n",
       "4              64             64            \n",
       " (Total: 2)"
      ]
     },
     "execution_count": 22,
     "metadata": {},
     "output_type": "execute_result"
    }
   ],
   "source": [
    "some_features"
   ]
  },
  {
   "cell_type": "code",
   "execution_count": 23,
   "id": "af4fa017-72b1-45ab-a483-cfd2a80d7c28",
   "metadata": {
    "tags": []
   },
   "outputs": [
    {
     "data": {
      "text/plain": [
       "array([(1, 32, 32), (4, 64, 64)],\n",
       "      dtype=[('features_config_id', '<i8'), ('num_features_1', '<i8'), ('num_features_2', '<i8')])"
      ]
     },
     "execution_count": 23,
     "metadata": {},
     "output_type": "execute_result"
    }
   ],
   "source": [
    "some_features.fetch()"
   ]
  },
  {
   "cell_type": "code",
   "execution_count": 24,
   "id": "384755e5-f0bf-41d2-8607-e29e500fc355",
   "metadata": {
    "tags": []
   },
   "outputs": [
    {
     "data": {
      "text/plain": [
       "[{'features_config_id': 1, 'num_features_1': 32, 'num_features_2': 32},\n",
       " {'features_config_id': 4, 'num_features_1': 64, 'num_features_2': 64}]"
      ]
     },
     "execution_count": 24,
     "metadata": {},
     "output_type": "execute_result"
    }
   ],
   "source": [
    "some_features.fetch(as_dict=True)"
   ]
  },
  {
   "cell_type": "code",
   "execution_count": 25,
   "id": "2cf571c5-0944-4414-afab-c4cc0ecdfb0c",
   "metadata": {
    "tags": []
   },
   "outputs": [
    {
     "data": {
      "text/html": [
       "<div>\n",
       "<style scoped>\n",
       "    .dataframe tbody tr th:only-of-type {\n",
       "        vertical-align: middle;\n",
       "    }\n",
       "\n",
       "    .dataframe tbody tr th {\n",
       "        vertical-align: top;\n",
       "    }\n",
       "\n",
       "    .dataframe thead th {\n",
       "        text-align: right;\n",
       "    }\n",
       "</style>\n",
       "<table border=\"1\" class=\"dataframe\">\n",
       "  <thead>\n",
       "    <tr style=\"text-align: right;\">\n",
       "      <th></th>\n",
       "      <th>num_features_1</th>\n",
       "      <th>num_features_2</th>\n",
       "    </tr>\n",
       "    <tr>\n",
       "      <th>features_config_id</th>\n",
       "      <th></th>\n",
       "      <th></th>\n",
       "    </tr>\n",
       "  </thead>\n",
       "  <tbody>\n",
       "    <tr>\n",
       "      <th>1</th>\n",
       "      <td>32</td>\n",
       "      <td>32</td>\n",
       "    </tr>\n",
       "    <tr>\n",
       "      <th>4</th>\n",
       "      <td>64</td>\n",
       "      <td>64</td>\n",
       "    </tr>\n",
       "  </tbody>\n",
       "</table>\n",
       "</div>"
      ],
      "text/plain": [
       "                    num_features_1  num_features_2\n",
       "features_config_id                                \n",
       "1                               32              32\n",
       "4                               64              64"
      ]
     },
     "execution_count": 25,
     "metadata": {},
     "output_type": "execute_result"
    }
   ],
   "source": [
    "some_features.fetch(format=\"frame\")"
   ]
  },
  {
   "cell_type": "code",
   "execution_count": 26,
   "id": "5da9e7d5-e4c3-485b-af49-ace1c0f05985",
   "metadata": {
    "tags": []
   },
   "outputs": [],
   "source": [
    "some_features = NumFeatures() & dict(features_config_id=1, some_key=\"some_value\")"
   ]
  },
  {
   "cell_type": "code",
   "execution_count": 27,
   "id": "df38cbdf-ebae-421c-a45b-4c038bcfa1ce",
   "metadata": {
    "tags": []
   },
   "outputs": [
    {
     "data": {
      "text/html": [
       "\n",
       "    \n",
       "    <style type=\"text/css\">\n",
       "        .Table{\n",
       "            border-collapse:collapse;\n",
       "        }\n",
       "        .Table th{\n",
       "            background: #A0A0A0; color: #ffffff; padding:4px; border:#f0e0e0 1px solid;\n",
       "            font-weight: normal; font-family: monospace; font-size: 100%;\n",
       "        }\n",
       "        .Table td{\n",
       "            padding:4px; border:#f0e0e0 1px solid; font-size:100%;\n",
       "        }\n",
       "        .Table tr:nth-child(odd){\n",
       "            background: #ffffff;\n",
       "        }\n",
       "        .Table tr:nth-child(even){\n",
       "            background: #f3f1ff;\n",
       "        }\n",
       "        /* Tooltip container */\n",
       "        .djtooltip {\n",
       "        }\n",
       "        /* Tooltip text */\n",
       "        .djtooltip .djtooltiptext {\n",
       "            visibility: hidden;\n",
       "            width: 120px;\n",
       "            background-color: black;\n",
       "            color: #fff;\n",
       "            text-align: center;\n",
       "            padding: 5px 0;\n",
       "            border-radius: 6px;\n",
       "            /* Position the tooltip text - see examples below! */\n",
       "            position: absolute;\n",
       "            z-index: 1;\n",
       "        }\n",
       "        #primary {\n",
       "            font-weight: bold;\n",
       "            color: black;\n",
       "        }\n",
       "        #nonprimary {\n",
       "            font-weight: normal;\n",
       "            color: white;\n",
       "        }\n",
       "\n",
       "        /* Show the tooltip text when you mouse over the tooltip container */\n",
       "        .djtooltip:hover .djtooltiptext {\n",
       "            visibility: visible;\n",
       "        }\n",
       "    </style>\n",
       "    \n",
       "    <b></b>\n",
       "        <div style=\"max-height:1000px;max-width:1500px;overflow:auto;\">\n",
       "        <table border=\"1\" class=\"Table\">\n",
       "            <thead> <tr style=\"text-align: right;\"> <th> <div class=\"djtooltip\">\n",
       "                            <p id=\"primary\">features_config_id</p>\n",
       "                            <span class=\"djtooltiptext\">so-called primary key, must be unique</span>\n",
       "                        </div></th><th><div class=\"djtooltip\">\n",
       "                            <p id=\"nonprimary\">num_features_1</p>\n",
       "                            <span class=\"djtooltiptext\"></span>\n",
       "                        </div></th><th><div class=\"djtooltip\">\n",
       "                            <p id=\"nonprimary\">num_features_2</p>\n",
       "                            <span class=\"djtooltiptext\"></span>\n",
       "                        </div> </th> </tr> </thead>\n",
       "            <tbody> <tr> <td>1</td>\n",
       "<td>32</td>\n",
       "<td>32</td> </tr> </tbody>\n",
       "        </table>\n",
       "        \n",
       "        <p>Total: 1</p></div>\n",
       "        "
      ],
      "text/plain": [
       "*features_conf num_features_1 num_features_2\n",
       "+------------+ +------------+ +------------+\n",
       "1              32             32            \n",
       " (Total: 1)"
      ]
     },
     "execution_count": 27,
     "metadata": {},
     "output_type": "execute_result"
    }
   ],
   "source": [
    "some_features"
   ]
  },
  {
   "cell_type": "code",
   "execution_count": 28,
   "id": "b31f0d5c-f119-4fbf-a689-ec4fa6bd70ff",
   "metadata": {
    "tags": []
   },
   "outputs": [
    {
     "data": {
      "text/plain": [
       "{'features_config_id': 1, 'num_features_1': 32, 'num_features_2': 32}"
      ]
     },
     "execution_count": 28,
     "metadata": {},
     "output_type": "execute_result"
    }
   ],
   "source": [
    "some_features.fetch1()"
   ]
  },
  {
   "cell_type": "code",
   "execution_count": 29,
   "id": "2723bd4b",
   "metadata": {
    "tags": []
   },
   "outputs": [],
   "source": [
    "@schema\n",
    "class DropoutProb(dj.Lookup):\n",
    "    definition = \"\"\"\n",
    "    dropout_config_id  : tinyint # so-called primary key, must be unique\n",
    "    ---\n",
    "    dropout_prob       : float\n",
    "    \"\"\"\n",
    "        \n",
    "    contents = [[1, 0.25], [2, 0.5]]"
   ]
  },
  {
   "cell_type": "code",
   "execution_count": 30,
   "id": "991d5d31-1300-4e29-8156-b5245f6d17d9",
   "metadata": {
    "tags": []
   },
   "outputs": [
    {
     "data": {
      "text/html": [
       "\n",
       "    \n",
       "    <style type=\"text/css\">\n",
       "        .Table{\n",
       "            border-collapse:collapse;\n",
       "        }\n",
       "        .Table th{\n",
       "            background: #A0A0A0; color: #ffffff; padding:4px; border:#f0e0e0 1px solid;\n",
       "            font-weight: normal; font-family: monospace; font-size: 100%;\n",
       "        }\n",
       "        .Table td{\n",
       "            padding:4px; border:#f0e0e0 1px solid; font-size:100%;\n",
       "        }\n",
       "        .Table tr:nth-child(odd){\n",
       "            background: #ffffff;\n",
       "        }\n",
       "        .Table tr:nth-child(even){\n",
       "            background: #f3f1ff;\n",
       "        }\n",
       "        /* Tooltip container */\n",
       "        .djtooltip {\n",
       "        }\n",
       "        /* Tooltip text */\n",
       "        .djtooltip .djtooltiptext {\n",
       "            visibility: hidden;\n",
       "            width: 120px;\n",
       "            background-color: black;\n",
       "            color: #fff;\n",
       "            text-align: center;\n",
       "            padding: 5px 0;\n",
       "            border-radius: 6px;\n",
       "            /* Position the tooltip text - see examples below! */\n",
       "            position: absolute;\n",
       "            z-index: 1;\n",
       "        }\n",
       "        #primary {\n",
       "            font-weight: bold;\n",
       "            color: black;\n",
       "        }\n",
       "        #nonprimary {\n",
       "            font-weight: normal;\n",
       "            color: white;\n",
       "        }\n",
       "\n",
       "        /* Show the tooltip text when you mouse over the tooltip container */\n",
       "        .djtooltip:hover .djtooltiptext {\n",
       "            visibility: visible;\n",
       "        }\n",
       "    </style>\n",
       "    \n",
       "    <b></b>\n",
       "        <div style=\"max-height:1000px;max-width:1500px;overflow:auto;\">\n",
       "        <table border=\"1\" class=\"Table\">\n",
       "            <thead> <tr style=\"text-align: right;\"> <th> <div class=\"djtooltip\">\n",
       "                            <p id=\"primary\">dropout_config_id</p>\n",
       "                            <span class=\"djtooltiptext\">so-called primary key, must be unique</span>\n",
       "                        </div></th><th><div class=\"djtooltip\">\n",
       "                            <p id=\"nonprimary\">dropout_prob</p>\n",
       "                            <span class=\"djtooltiptext\"></span>\n",
       "                        </div> </th> </tr> </thead>\n",
       "            <tbody> <tr> <td>1</td>\n",
       "<td>0.25</td></tr><tr><td>2</td>\n",
       "<td>0.5</td> </tr> </tbody>\n",
       "        </table>\n",
       "        \n",
       "        <p>Total: 2</p></div>\n",
       "        "
      ],
      "text/plain": [
       "*dropout_confi dropout_prob  \n",
       "+------------+ +------------+\n",
       "1              0.25          \n",
       "2              0.5           \n",
       " (Total: 2)"
      ]
     },
     "execution_count": 30,
     "metadata": {},
     "output_type": "execute_result"
    }
   ],
   "source": [
    "DropoutProb()"
   ]
  },
  {
   "cell_type": "code",
   "execution_count": 31,
   "id": "4e7b284a-f247-474c-ae8c-c6e9a206721d",
   "metadata": {
    "tags": []
   },
   "outputs": [],
   "source": [
    "@schema\n",
    "class LearningRate(dj.Lookup):\n",
    "    definition = \"\"\"\n",
    "    lr_config_id  : tinyint # so-called primary key, must be unique\n",
    "    ---\n",
    "    lr            : float\n",
    "    \"\"\"\n",
    "        \n",
    "    contents = [[1, 1e-3], [2, 1e-2]]"
   ]
  },
  {
   "cell_type": "code",
   "execution_count": 32,
   "id": "ebc51b8c-772a-4850-9c1f-c09ed5933e3c",
   "metadata": {
    "tags": []
   },
   "outputs": [
    {
     "data": {
      "text/html": [
       "\n",
       "    \n",
       "    <style type=\"text/css\">\n",
       "        .Table{\n",
       "            border-collapse:collapse;\n",
       "        }\n",
       "        .Table th{\n",
       "            background: #A0A0A0; color: #ffffff; padding:4px; border:#f0e0e0 1px solid;\n",
       "            font-weight: normal; font-family: monospace; font-size: 100%;\n",
       "        }\n",
       "        .Table td{\n",
       "            padding:4px; border:#f0e0e0 1px solid; font-size:100%;\n",
       "        }\n",
       "        .Table tr:nth-child(odd){\n",
       "            background: #ffffff;\n",
       "        }\n",
       "        .Table tr:nth-child(even){\n",
       "            background: #f3f1ff;\n",
       "        }\n",
       "        /* Tooltip container */\n",
       "        .djtooltip {\n",
       "        }\n",
       "        /* Tooltip text */\n",
       "        .djtooltip .djtooltiptext {\n",
       "            visibility: hidden;\n",
       "            width: 120px;\n",
       "            background-color: black;\n",
       "            color: #fff;\n",
       "            text-align: center;\n",
       "            padding: 5px 0;\n",
       "            border-radius: 6px;\n",
       "            /* Position the tooltip text - see examples below! */\n",
       "            position: absolute;\n",
       "            z-index: 1;\n",
       "        }\n",
       "        #primary {\n",
       "            font-weight: bold;\n",
       "            color: black;\n",
       "        }\n",
       "        #nonprimary {\n",
       "            font-weight: normal;\n",
       "            color: white;\n",
       "        }\n",
       "\n",
       "        /* Show the tooltip text when you mouse over the tooltip container */\n",
       "        .djtooltip:hover .djtooltiptext {\n",
       "            visibility: visible;\n",
       "        }\n",
       "    </style>\n",
       "    \n",
       "    <b></b>\n",
       "        <div style=\"max-height:1000px;max-width:1500px;overflow:auto;\">\n",
       "        <table border=\"1\" class=\"Table\">\n",
       "            <thead> <tr style=\"text-align: right;\"> <th> <div class=\"djtooltip\">\n",
       "                            <p id=\"primary\">lr_config_id</p>\n",
       "                            <span class=\"djtooltiptext\">so-called primary key, must be unique</span>\n",
       "                        </div></th><th><div class=\"djtooltip\">\n",
       "                            <p id=\"nonprimary\">lr</p>\n",
       "                            <span class=\"djtooltiptext\"></span>\n",
       "                        </div> </th> </tr> </thead>\n",
       "            <tbody> <tr> <td>1</td>\n",
       "<td>0.001</td></tr><tr><td>2</td>\n",
       "<td>0.01</td> </tr> </tbody>\n",
       "        </table>\n",
       "        \n",
       "        <p>Total: 2</p></div>\n",
       "        "
      ],
      "text/plain": [
       "*lr_config_id  lr       \n",
       "+------------+ +-------+\n",
       "1              0.001    \n",
       "2              0.01     \n",
       " (Total: 2)"
      ]
     },
     "execution_count": 32,
     "metadata": {},
     "output_type": "execute_result"
    }
   ],
   "source": [
    "LearningRate()"
   ]
  },
  {
   "cell_type": "code",
   "execution_count": 33,
   "id": "92626af8-bace-45c8-af33-a07156ff21d4",
   "metadata": {
    "tags": []
   },
   "outputs": [],
   "source": [
    "@schema\n",
    "class NumEpochs(dj.Lookup):\n",
    "    definition = \"\"\"\n",
    "    epochs_config_id  : tinyint # so-called primary key, must be unique\n",
    "    ---\n",
    "    epochs            : int\n",
    "    \"\"\"\n",
    "        \n",
    "    contents = [[1, 1], [2, 10], [3, 50]]"
   ]
  },
  {
   "cell_type": "code",
   "execution_count": 34,
   "id": "fc8111e0-ad86-4481-a77f-f7db63b24846",
   "metadata": {
    "tags": []
   },
   "outputs": [
    {
     "data": {
      "text/html": [
       "\n",
       "    \n",
       "    <style type=\"text/css\">\n",
       "        .Table{\n",
       "            border-collapse:collapse;\n",
       "        }\n",
       "        .Table th{\n",
       "            background: #A0A0A0; color: #ffffff; padding:4px; border:#f0e0e0 1px solid;\n",
       "            font-weight: normal; font-family: monospace; font-size: 100%;\n",
       "        }\n",
       "        .Table td{\n",
       "            padding:4px; border:#f0e0e0 1px solid; font-size:100%;\n",
       "        }\n",
       "        .Table tr:nth-child(odd){\n",
       "            background: #ffffff;\n",
       "        }\n",
       "        .Table tr:nth-child(even){\n",
       "            background: #f3f1ff;\n",
       "        }\n",
       "        /* Tooltip container */\n",
       "        .djtooltip {\n",
       "        }\n",
       "        /* Tooltip text */\n",
       "        .djtooltip .djtooltiptext {\n",
       "            visibility: hidden;\n",
       "            width: 120px;\n",
       "            background-color: black;\n",
       "            color: #fff;\n",
       "            text-align: center;\n",
       "            padding: 5px 0;\n",
       "            border-radius: 6px;\n",
       "            /* Position the tooltip text - see examples below! */\n",
       "            position: absolute;\n",
       "            z-index: 1;\n",
       "        }\n",
       "        #primary {\n",
       "            font-weight: bold;\n",
       "            color: black;\n",
       "        }\n",
       "        #nonprimary {\n",
       "            font-weight: normal;\n",
       "            color: white;\n",
       "        }\n",
       "\n",
       "        /* Show the tooltip text when you mouse over the tooltip container */\n",
       "        .djtooltip:hover .djtooltiptext {\n",
       "            visibility: visible;\n",
       "        }\n",
       "    </style>\n",
       "    \n",
       "    <b></b>\n",
       "        <div style=\"max-height:1000px;max-width:1500px;overflow:auto;\">\n",
       "        <table border=\"1\" class=\"Table\">\n",
       "            <thead> <tr style=\"text-align: right;\"> <th> <div class=\"djtooltip\">\n",
       "                            <p id=\"primary\">epochs_config_id</p>\n",
       "                            <span class=\"djtooltiptext\">so-called primary key, must be unique</span>\n",
       "                        </div></th><th><div class=\"djtooltip\">\n",
       "                            <p id=\"nonprimary\">epochs</p>\n",
       "                            <span class=\"djtooltiptext\"></span>\n",
       "                        </div> </th> </tr> </thead>\n",
       "            <tbody> <tr> <td>1</td>\n",
       "<td>1</td></tr><tr><td>2</td>\n",
       "<td>10</td></tr><tr><td>3</td>\n",
       "<td>50</td> </tr> </tbody>\n",
       "        </table>\n",
       "        \n",
       "        <p>Total: 3</p></div>\n",
       "        "
      ],
      "text/plain": [
       "*epochs_config epochs    \n",
       "+------------+ +--------+\n",
       "1              1         \n",
       "2              10        \n",
       "3              50        \n",
       " (Total: 3)"
      ]
     },
     "execution_count": 34,
     "metadata": {},
     "output_type": "execute_result"
    }
   ],
   "source": [
    "NumEpochs()"
   ]
  },
  {
   "cell_type": "code",
   "execution_count": 35,
   "id": "39e37bf7-6240-44fe-81a8-14b67e99836e",
   "metadata": {
    "tags": []
   },
   "outputs": [
    {
     "data": {
      "text/html": [
       "\n",
       "    \n",
       "    <style type=\"text/css\">\n",
       "        .Table{\n",
       "            border-collapse:collapse;\n",
       "        }\n",
       "        .Table th{\n",
       "            background: #A0A0A0; color: #ffffff; padding:4px; border:#f0e0e0 1px solid;\n",
       "            font-weight: normal; font-family: monospace; font-size: 100%;\n",
       "        }\n",
       "        .Table td{\n",
       "            padding:4px; border:#f0e0e0 1px solid; font-size:100%;\n",
       "        }\n",
       "        .Table tr:nth-child(odd){\n",
       "            background: #ffffff;\n",
       "        }\n",
       "        .Table tr:nth-child(even){\n",
       "            background: #f3f1ff;\n",
       "        }\n",
       "        /* Tooltip container */\n",
       "        .djtooltip {\n",
       "        }\n",
       "        /* Tooltip text */\n",
       "        .djtooltip .djtooltiptext {\n",
       "            visibility: hidden;\n",
       "            width: 120px;\n",
       "            background-color: black;\n",
       "            color: #fff;\n",
       "            text-align: center;\n",
       "            padding: 5px 0;\n",
       "            border-radius: 6px;\n",
       "            /* Position the tooltip text - see examples below! */\n",
       "            position: absolute;\n",
       "            z-index: 1;\n",
       "        }\n",
       "        #primary {\n",
       "            font-weight: bold;\n",
       "            color: black;\n",
       "        }\n",
       "        #nonprimary {\n",
       "            font-weight: normal;\n",
       "            color: white;\n",
       "        }\n",
       "\n",
       "        /* Show the tooltip text when you mouse over the tooltip container */\n",
       "        .djtooltip:hover .djtooltiptext {\n",
       "            visibility: visible;\n",
       "        }\n",
       "    </style>\n",
       "    \n",
       "    <b></b>\n",
       "        <div style=\"max-height:1000px;max-width:1500px;overflow:auto;\">\n",
       "        <table border=\"1\" class=\"Table\">\n",
       "            <thead> <tr style=\"text-align: right;\"> <th> <div class=\"djtooltip\">\n",
       "                            <p id=\"primary\">epochs_config_id</p>\n",
       "                            <span class=\"djtooltiptext\">so-called primary key, must be unique</span>\n",
       "                        </div></th><th><div class=\"djtooltip\">\n",
       "                            <p id=\"nonprimary\">epochs</p>\n",
       "                            <span class=\"djtooltiptext\"></span>\n",
       "                        </div> </th> </tr> </thead>\n",
       "            <tbody> <tr> <td>2</td>\n",
       "<td>10</td> </tr> </tbody>\n",
       "        </table>\n",
       "        \n",
       "        <p>Total: 1</p></div>\n",
       "        "
      ],
      "text/plain": [
       "*epochs_config epochs    \n",
       "+------------+ +--------+\n",
       "2              10        \n",
       " (Total: 1)"
      ]
     },
     "execution_count": 35,
     "metadata": {},
     "output_type": "execute_result"
    }
   ],
   "source": [
    "NumEpochs() & dict(epochs_config_id=2)"
   ]
  },
  {
   "cell_type": "code",
   "execution_count": 36,
   "id": "457f8eb3-2c9d-4cf3-9650-ffdb5b072e1b",
   "metadata": {
    "tags": []
   },
   "outputs": [
    {
     "data": {
      "text/html": [
       "\n",
       "    \n",
       "    <style type=\"text/css\">\n",
       "        .Table{\n",
       "            border-collapse:collapse;\n",
       "        }\n",
       "        .Table th{\n",
       "            background: #A0A0A0; color: #ffffff; padding:4px; border:#f0e0e0 1px solid;\n",
       "            font-weight: normal; font-family: monospace; font-size: 100%;\n",
       "        }\n",
       "        .Table td{\n",
       "            padding:4px; border:#f0e0e0 1px solid; font-size:100%;\n",
       "        }\n",
       "        .Table tr:nth-child(odd){\n",
       "            background: #ffffff;\n",
       "        }\n",
       "        .Table tr:nth-child(even){\n",
       "            background: #f3f1ff;\n",
       "        }\n",
       "        /* Tooltip container */\n",
       "        .djtooltip {\n",
       "        }\n",
       "        /* Tooltip text */\n",
       "        .djtooltip .djtooltiptext {\n",
       "            visibility: hidden;\n",
       "            width: 120px;\n",
       "            background-color: black;\n",
       "            color: #fff;\n",
       "            text-align: center;\n",
       "            padding: 5px 0;\n",
       "            border-radius: 6px;\n",
       "            /* Position the tooltip text - see examples below! */\n",
       "            position: absolute;\n",
       "            z-index: 1;\n",
       "        }\n",
       "        #primary {\n",
       "            font-weight: bold;\n",
       "            color: black;\n",
       "        }\n",
       "        #nonprimary {\n",
       "            font-weight: normal;\n",
       "            color: white;\n",
       "        }\n",
       "\n",
       "        /* Show the tooltip text when you mouse over the tooltip container */\n",
       "        .djtooltip:hover .djtooltiptext {\n",
       "            visibility: visible;\n",
       "        }\n",
       "    </style>\n",
       "    \n",
       "    <b></b>\n",
       "        <div style=\"max-height:1000px;max-width:1500px;overflow:auto;\">\n",
       "        <table border=\"1\" class=\"Table\">\n",
       "            <thead> <tr style=\"text-align: right;\"> <th> <div class=\"djtooltip\">\n",
       "                            <p id=\"primary\">epochs_config_id</p>\n",
       "                            <span class=\"djtooltiptext\">so-called primary key, must be unique</span>\n",
       "                        </div></th><th><div class=\"djtooltip\">\n",
       "                            <p id=\"nonprimary\">epochs</p>\n",
       "                            <span class=\"djtooltiptext\"></span>\n",
       "                        </div> </th> </tr> </thead>\n",
       "            <tbody> <tr> <td>2</td>\n",
       "<td>10</td></tr><tr><td>3</td>\n",
       "<td>50</td> </tr> </tbody>\n",
       "        </table>\n",
       "        \n",
       "        <p>Total: 2</p></div>\n",
       "        "
      ],
      "text/plain": [
       "*epochs_config epochs    \n",
       "+------------+ +--------+\n",
       "2              10        \n",
       "3              50        \n",
       " (Total: 2)"
      ]
     },
     "execution_count": 36,
     "metadata": {},
     "output_type": "execute_result"
    }
   ],
   "source": [
    "NumEpochs() & [dict(epochs_config_id=2), dict(epochs_config_id=3)]"
   ]
  },
  {
   "cell_type": "code",
   "execution_count": 37,
   "id": "58d5e7b3-8193-486a-a59e-8875de776141",
   "metadata": {
    "tags": []
   },
   "outputs": [
    {
     "data": {
      "text/html": [
       "\n",
       "    \n",
       "    <style type=\"text/css\">\n",
       "        .Table{\n",
       "            border-collapse:collapse;\n",
       "        }\n",
       "        .Table th{\n",
       "            background: #A0A0A0; color: #ffffff; padding:4px; border:#f0e0e0 1px solid;\n",
       "            font-weight: normal; font-family: monospace; font-size: 100%;\n",
       "        }\n",
       "        .Table td{\n",
       "            padding:4px; border:#f0e0e0 1px solid; font-size:100%;\n",
       "        }\n",
       "        .Table tr:nth-child(odd){\n",
       "            background: #ffffff;\n",
       "        }\n",
       "        .Table tr:nth-child(even){\n",
       "            background: #f3f1ff;\n",
       "        }\n",
       "        /* Tooltip container */\n",
       "        .djtooltip {\n",
       "        }\n",
       "        /* Tooltip text */\n",
       "        .djtooltip .djtooltiptext {\n",
       "            visibility: hidden;\n",
       "            width: 120px;\n",
       "            background-color: black;\n",
       "            color: #fff;\n",
       "            text-align: center;\n",
       "            padding: 5px 0;\n",
       "            border-radius: 6px;\n",
       "            /* Position the tooltip text - see examples below! */\n",
       "            position: absolute;\n",
       "            z-index: 1;\n",
       "        }\n",
       "        #primary {\n",
       "            font-weight: bold;\n",
       "            color: black;\n",
       "        }\n",
       "        #nonprimary {\n",
       "            font-weight: normal;\n",
       "            color: white;\n",
       "        }\n",
       "\n",
       "        /* Show the tooltip text when you mouse over the tooltip container */\n",
       "        .djtooltip:hover .djtooltiptext {\n",
       "            visibility: visible;\n",
       "        }\n",
       "    </style>\n",
       "    \n",
       "    <b></b>\n",
       "        <div style=\"max-height:1000px;max-width:1500px;overflow:auto;\">\n",
       "        <table border=\"1\" class=\"Table\">\n",
       "            <thead> <tr style=\"text-align: right;\"> <th> <div class=\"djtooltip\">\n",
       "                            <p id=\"primary\">epochs_config_id</p>\n",
       "                            <span class=\"djtooltiptext\">so-called primary key, must be unique</span>\n",
       "                        </div></th><th><div class=\"djtooltip\">\n",
       "                            <p id=\"nonprimary\">epochs</p>\n",
       "                            <span class=\"djtooltiptext\"></span>\n",
       "                        </div> </th> </tr> </thead>\n",
       "            <tbody> <tr> <td>2</td>\n",
       "<td>10</td></tr><tr><td>3</td>\n",
       "<td>50</td> </tr> </tbody>\n",
       "        </table>\n",
       "        \n",
       "        <p>Total: 2</p></div>\n",
       "        "
      ],
      "text/plain": [
       "*epochs_config epochs    \n",
       "+------------+ +--------+\n",
       "2              10        \n",
       "3              50        \n",
       " (Total: 2)"
      ]
     },
     "execution_count": 37,
     "metadata": {},
     "output_type": "execute_result"
    }
   ],
   "source": [
    "NumEpochs() & ['epochs_config_id=2', dict(epochs_config_id=3)]"
   ]
  },
  {
   "cell_type": "code",
   "execution_count": 38,
   "id": "c55ef851-a77d-4ef5-90b9-61e934aa382b",
   "metadata": {
    "tags": []
   },
   "outputs": [
    {
     "name": "stderr",
     "output_type": "stream",
     "text": [
      "[2023-04-25 19:14:36,476][INFO]: Deleting 2 rows from `tutorial`.`#num_epochs`\n"
     ]
    },
    {
     "name": "stdin",
     "output_type": "stream",
     "text": [
      "Commit deletes? [yes, No]:  yes\n"
     ]
    },
    {
     "name": "stderr",
     "output_type": "stream",
     "text": [
      "[2023-04-25 19:14:39,185][INFO]: Deletes committed.\n"
     ]
    },
    {
     "data": {
      "text/plain": [
       "2"
      ]
     },
     "execution_count": 38,
     "metadata": {},
     "output_type": "execute_result"
    }
   ],
   "source": [
    "(NumEpochs() & [dict(epochs_config_id=2), dict(epochs_config_id=3)]).delete()"
   ]
  },
  {
   "cell_type": "code",
   "execution_count": 39,
   "id": "5b88acb2-975a-4bf5-bcc6-41ef07d06db7",
   "metadata": {
    "tags": []
   },
   "outputs": [
    {
     "data": {
      "text/html": [
       "\n",
       "    \n",
       "    <style type=\"text/css\">\n",
       "        .Table{\n",
       "            border-collapse:collapse;\n",
       "        }\n",
       "        .Table th{\n",
       "            background: #A0A0A0; color: #ffffff; padding:4px; border:#f0e0e0 1px solid;\n",
       "            font-weight: normal; font-family: monospace; font-size: 100%;\n",
       "        }\n",
       "        .Table td{\n",
       "            padding:4px; border:#f0e0e0 1px solid; font-size:100%;\n",
       "        }\n",
       "        .Table tr:nth-child(odd){\n",
       "            background: #ffffff;\n",
       "        }\n",
       "        .Table tr:nth-child(even){\n",
       "            background: #f3f1ff;\n",
       "        }\n",
       "        /* Tooltip container */\n",
       "        .djtooltip {\n",
       "        }\n",
       "        /* Tooltip text */\n",
       "        .djtooltip .djtooltiptext {\n",
       "            visibility: hidden;\n",
       "            width: 120px;\n",
       "            background-color: black;\n",
       "            color: #fff;\n",
       "            text-align: center;\n",
       "            padding: 5px 0;\n",
       "            border-radius: 6px;\n",
       "            /* Position the tooltip text - see examples below! */\n",
       "            position: absolute;\n",
       "            z-index: 1;\n",
       "        }\n",
       "        #primary {\n",
       "            font-weight: bold;\n",
       "            color: black;\n",
       "        }\n",
       "        #nonprimary {\n",
       "            font-weight: normal;\n",
       "            color: white;\n",
       "        }\n",
       "\n",
       "        /* Show the tooltip text when you mouse over the tooltip container */\n",
       "        .djtooltip:hover .djtooltiptext {\n",
       "            visibility: visible;\n",
       "        }\n",
       "    </style>\n",
       "    \n",
       "    <b></b>\n",
       "        <div style=\"max-height:1000px;max-width:1500px;overflow:auto;\">\n",
       "        <table border=\"1\" class=\"Table\">\n",
       "            <thead> <tr style=\"text-align: right;\"> <th> <div class=\"djtooltip\">\n",
       "                            <p id=\"primary\">epochs_config_id</p>\n",
       "                            <span class=\"djtooltiptext\">so-called primary key, must be unique</span>\n",
       "                        </div></th><th><div class=\"djtooltip\">\n",
       "                            <p id=\"nonprimary\">epochs</p>\n",
       "                            <span class=\"djtooltiptext\"></span>\n",
       "                        </div> </th> </tr> </thead>\n",
       "            <tbody> <tr> <td>1</td>\n",
       "<td>1</td> </tr> </tbody>\n",
       "        </table>\n",
       "        \n",
       "        <p>Total: 1</p></div>\n",
       "        "
      ],
      "text/plain": [
       "*epochs_config epochs    \n",
       "+------------+ +--------+\n",
       "1              1         \n",
       " (Total: 1)"
      ]
     },
     "execution_count": 39,
     "metadata": {},
     "output_type": "execute_result"
    }
   ],
   "source": [
    "NumEpochs()"
   ]
  },
  {
   "cell_type": "code",
   "execution_count": 40,
   "id": "903d88a2-f0c1-4a2f-8b1b-21c3f3227bb4",
   "metadata": {
    "tags": []
   },
   "outputs": [
    {
     "data": {
      "image/svg+xml": [
       "<svg xmlns=\"http://www.w3.org/2000/svg\" xmlns:xlink=\"http://www.w3.org/1999/xlink\" width=\"364pt\" height=\"43pt\" viewBox=\"0.00 0.00 364.38 42.56\">\n",
       "<g id=\"graph0\" class=\"graph\" transform=\"scale(1 1) rotate(0) translate(4 38.56)\">\n",
       "<polygon fill=\"white\" stroke=\"none\" points=\"-4,4 -4,-38.56 360.38,-38.56 360.38,4 -4,4\"/>\n",
       "<!-- NumEpochs -->\n",
       "<g id=\"node1\" class=\"node\">\n",
       "<title>NumEpochs</title>\n",
       "<g id=\"a_node1\"><a xlink:title=\"epochs_config_id     \r",
       "------------------------------\r",
       "epochs               \r",
       "\">\n",
       "<polygon fill=\"#000000\" fill-opacity=\"0.125490\" stroke=\"none\" points=\"70,-34.56 0,-34.56 0,0 70,0 70,-34.56\"/>\n",
       "<text text-anchor=\"start\" x=\"8\" y=\"-14.78\" font-family=\"arial\" text-decoration=\"underline\" font-size=\"10.00\">NumEpochs</text>\n",
       "</a>\n",
       "</g>\n",
       "</g>\n",
       "<!-- NumFeatures -->\n",
       "<g id=\"node2\" class=\"node\">\n",
       "<title>NumFeatures</title>\n",
       "<g id=\"a_node2\"><a xlink:title=\"features_config_id   \r",
       "------------------------------\r",
       "num_features_1       \r",
       "num_features_2       \r",
       "\">\n",
       "<polygon fill=\"#00ff00\" fill-opacity=\"0.188235\" stroke=\"#00ff00\" stroke-opacity=\"0.188235\" points=\"176.38,-34.56 87.62,-34.56 87.62,0 176.38,0 176.38,-34.56\"/>\n",
       "<text text-anchor=\"start\" x=\"95.62\" y=\"-14.01\" font-family=\"arial\" text-decoration=\"underline\" font-size=\"12.00\" fill=\"darkgreen\">NumFeatures</text>\n",
       "</a>\n",
       "</g>\n",
       "</g>\n",
       "<!-- LearningRate -->\n",
       "<g id=\"node3\" class=\"node\">\n",
       "<title>LearningRate</title>\n",
       "<g id=\"a_node3\"><a xlink:title=\"lr_config_id         \r",
       "------------------------------\r",
       "lr                   \r",
       "\">\n",
       "<polygon fill=\"#000000\" fill-opacity=\"0.125490\" stroke=\"none\" points=\"267.88,-34.56 194.12,-34.56 194.12,0 267.88,0 267.88,-34.56\"/>\n",
       "<text text-anchor=\"start\" x=\"202.12\" y=\"-14.78\" font-family=\"arial\" text-decoration=\"underline\" font-size=\"10.00\">LearningRate</text>\n",
       "</a>\n",
       "</g>\n",
       "</g>\n",
       "<!-- DropoutProb -->\n",
       "<g id=\"node4\" class=\"node\">\n",
       "<title>DropoutProb</title>\n",
       "<g id=\"a_node4\"><a xlink:title=\"dropout_config_id    \r",
       "------------------------------\r",
       "dropout_prob         \r",
       "\">\n",
       "<polygon fill=\"#000000\" fill-opacity=\"0.125490\" stroke=\"none\" points=\"356.38,-34.56 285.62,-34.56 285.62,0 356.38,0 356.38,-34.56\"/>\n",
       "<text text-anchor=\"start\" x=\"293.62\" y=\"-14.78\" font-family=\"arial\" text-decoration=\"underline\" font-size=\"10.00\">DropoutProb</text>\n",
       "</a>\n",
       "</g>\n",
       "</g>\n",
       "</g>\n",
       "</svg>"
      ],
      "text/plain": [
       "<datajoint.diagram.Diagram at 0x168fe7dd0>"
      ]
     },
     "execution_count": 40,
     "metadata": {},
     "output_type": "execute_result"
    }
   ],
   "source": [
    "dj.Diagram(schema)"
   ]
  },
  {
   "cell_type": "code",
   "execution_count": 41,
   "id": "0fe9ff46-adff-47bd-ae69-af9faf128f59",
   "metadata": {
    "tags": []
   },
   "outputs": [],
   "source": [
    "@schema\n",
    "class Train(dj.Computed):\n",
    "    definition = \"\"\"\n",
    "    -> NumFeatures\n",
    "    -> DropoutProb\n",
    "    -> LearningRate\n",
    "    -> NumEpochs\n",
    "    ---\n",
    "    train_loss      : float\n",
    "    model_weights   : longblob\n",
    "    \"\"\"\n",
    "        \n",
    "    def make(self, key):\n",
    "        pass"
   ]
  },
  {
   "cell_type": "code",
   "execution_count": 42,
   "id": "00c75791",
   "metadata": {
    "tags": []
   },
   "outputs": [
    {
     "data": {
      "text/html": [
       "\n",
       "    \n",
       "    <style type=\"text/css\">\n",
       "        .Table{\n",
       "            border-collapse:collapse;\n",
       "        }\n",
       "        .Table th{\n",
       "            background: #A0A0A0; color: #ffffff; padding:4px; border:#f0e0e0 1px solid;\n",
       "            font-weight: normal; font-family: monospace; font-size: 100%;\n",
       "        }\n",
       "        .Table td{\n",
       "            padding:4px; border:#f0e0e0 1px solid; font-size:100%;\n",
       "        }\n",
       "        .Table tr:nth-child(odd){\n",
       "            background: #ffffff;\n",
       "        }\n",
       "        .Table tr:nth-child(even){\n",
       "            background: #f3f1ff;\n",
       "        }\n",
       "        /* Tooltip container */\n",
       "        .djtooltip {\n",
       "        }\n",
       "        /* Tooltip text */\n",
       "        .djtooltip .djtooltiptext {\n",
       "            visibility: hidden;\n",
       "            width: 120px;\n",
       "            background-color: black;\n",
       "            color: #fff;\n",
       "            text-align: center;\n",
       "            padding: 5px 0;\n",
       "            border-radius: 6px;\n",
       "            /* Position the tooltip text - see examples below! */\n",
       "            position: absolute;\n",
       "            z-index: 1;\n",
       "        }\n",
       "        #primary {\n",
       "            font-weight: bold;\n",
       "            color: black;\n",
       "        }\n",
       "        #nonprimary {\n",
       "            font-weight: normal;\n",
       "            color: white;\n",
       "        }\n",
       "\n",
       "        /* Show the tooltip text when you mouse over the tooltip container */\n",
       "        .djtooltip:hover .djtooltiptext {\n",
       "            visibility: visible;\n",
       "        }\n",
       "    </style>\n",
       "    \n",
       "    <b></b>\n",
       "        <div style=\"max-height:1000px;max-width:1500px;overflow:auto;\">\n",
       "        <table border=\"1\" class=\"Table\">\n",
       "            <thead> <tr style=\"text-align: right;\"> <th> <div class=\"djtooltip\">\n",
       "                            <p id=\"primary\">features_config_id</p>\n",
       "                            <span class=\"djtooltiptext\">so-called primary key, must be unique</span>\n",
       "                        </div></th><th><div class=\"djtooltip\">\n",
       "                            <p id=\"primary\">dropout_config_id</p>\n",
       "                            <span class=\"djtooltiptext\">so-called primary key, must be unique</span>\n",
       "                        </div></th><th><div class=\"djtooltip\">\n",
       "                            <p id=\"primary\">lr_config_id</p>\n",
       "                            <span class=\"djtooltiptext\">so-called primary key, must be unique</span>\n",
       "                        </div></th><th><div class=\"djtooltip\">\n",
       "                            <p id=\"primary\">epochs_config_id</p>\n",
       "                            <span class=\"djtooltiptext\">so-called primary key, must be unique</span>\n",
       "                        </div></th><th><div class=\"djtooltip\">\n",
       "                            <p id=\"nonprimary\">train_loss</p>\n",
       "                            <span class=\"djtooltiptext\"></span>\n",
       "                        </div></th><th><div class=\"djtooltip\">\n",
       "                            <p id=\"nonprimary\">model_weights</p>\n",
       "                            <span class=\"djtooltiptext\"></span>\n",
       "                        </div> </th> </tr> </thead>\n",
       "            <tbody> <tr>  </tr> </tbody>\n",
       "        </table>\n",
       "        \n",
       "        <p>Total: 0</p></div>\n",
       "        "
      ],
      "text/plain": [
       "*features_conf *dropout_confi *lr_config_id  *epochs_config train_loss     model_weig\n",
       "+------------+ +------------+ +------------+ +------------+ +------------+ +--------+\n",
       "\n",
       " (Total: 0)"
      ]
     },
     "execution_count": 42,
     "metadata": {},
     "output_type": "execute_result"
    }
   ],
   "source": [
    "Train()"
   ]
  },
  {
   "cell_type": "code",
   "execution_count": 43,
   "id": "f9648f59-b130-4a9d-b6bb-ee1994f0874c",
   "metadata": {
    "tags": []
   },
   "outputs": [
    {
     "data": {
      "image/svg+xml": [
       "<svg xmlns=\"http://www.w3.org/2000/svg\" xmlns:xlink=\"http://www.w3.org/1999/xlink\" width=\"365pt\" height=\"104pt\" viewBox=\"0.00 0.00 365.38 104.48\">\n",
       "<g id=\"graph0\" class=\"graph\" transform=\"scale(1 1) rotate(0) translate(4 100.48)\">\n",
       "<polygon fill=\"white\" stroke=\"none\" points=\"-4,4 -4,-100.48 361.38,-100.48 361.38,4 -4,4\"/>\n",
       "<!-- NumEpochs -->\n",
       "<g id=\"node1\" class=\"node\">\n",
       "<title>NumEpochs</title>\n",
       "<g id=\"a_node1\"><a xlink:title=\"epochs_config_id     \r",
       "------------------------------\r",
       "epochs               \r",
       "\">\n",
       "<polygon fill=\"#000000\" fill-opacity=\"0.125490\" stroke=\"none\" points=\"70,-96.48 0,-96.48 0,-61.92 70,-61.92 70,-96.48\"/>\n",
       "<text text-anchor=\"start\" x=\"8\" y=\"-76.7\" font-family=\"arial\" text-decoration=\"underline\" font-size=\"10.00\">NumEpochs</text>\n",
       "</a>\n",
       "</g>\n",
       "</g>\n",
       "<!-- Train -->\n",
       "<g id=\"node4\" class=\"node\">\n",
       "<title>Train</title>\n",
       "<g id=\"a_node4\"><a xlink:title=\"→ NumFeatures\r",
       "→ DropoutProb\r",
       "→ LearningRate\r",
       "→ NumEpochs\r",
       "------------------------------\r",
       "train_loss           \r",
       "model_weights        \r",
       "\">\n",
       "<ellipse fill=\"#ff0000\" fill-opacity=\"0.125490\" stroke=\"#ff0000\" stroke-opacity=\"0.125490\" cx=\"170\" cy=\"-12.96\" rx=\"12.96\" ry=\"12.96\"/>\n",
       "<text text-anchor=\"middle\" x=\"170\" y=\"-8.69\" font-family=\"arial\" font-size=\"12.00\" fill=\"#7f0000\" fill-opacity=\"0.627451\">Train</text>\n",
       "</a>\n",
       "</g>\n",
       "</g>\n",
       "<!-- NumEpochs&#45;&gt;Train -->\n",
       "<g id=\"edge1\" class=\"edge\">\n",
       "<title>NumEpochs-&gt;Train</title>\n",
       "<path fill=\"none\" stroke=\"#000000\" stroke-width=\"0.75\" stroke-opacity=\"0.250980\" d=\"M69.07,-61.99C98.59,-47.94 139.54,-28.46 158.95,-19.22\"/>\n",
       "</g>\n",
       "<!-- LearningRate -->\n",
       "<g id=\"node2\" class=\"node\">\n",
       "<title>LearningRate</title>\n",
       "<g id=\"a_node2\"><a xlink:title=\"lr_config_id         \r",
       "------------------------------\r",
       "lr                   \r",
       "\">\n",
       "<polygon fill=\"#000000\" fill-opacity=\"0.125490\" stroke=\"none\" points=\"161.88,-96.48 88.12,-96.48 88.12,-61.92 161.88,-61.92 161.88,-96.48\"/>\n",
       "<text text-anchor=\"start\" x=\"96.12\" y=\"-76.7\" font-family=\"arial\" text-decoration=\"underline\" font-size=\"10.00\">LearningRate</text>\n",
       "</a>\n",
       "</g>\n",
       "</g>\n",
       "<!-- LearningRate&#45;&gt;Train -->\n",
       "<g id=\"edge2\" class=\"edge\">\n",
       "<title>LearningRate-&gt;Train</title>\n",
       "<path fill=\"none\" stroke=\"#000000\" stroke-width=\"0.75\" stroke-opacity=\"0.250980\" d=\"M136.36,-61.99C144.79,-49.95 156.02,-33.91 163.13,-23.76\"/>\n",
       "</g>\n",
       "<!-- DropoutProb -->\n",
       "<g id=\"node3\" class=\"node\">\n",
       "<title>DropoutProb</title>\n",
       "<g id=\"a_node3\"><a xlink:title=\"dropout_config_id    \r",
       "------------------------------\r",
       "dropout_prob         \r",
       "\">\n",
       "<polygon fill=\"#000000\" fill-opacity=\"0.125490\" stroke=\"none\" points=\"250.38,-96.48 179.62,-96.48 179.62,-61.92 250.38,-61.92 250.38,-96.48\"/>\n",
       "<text text-anchor=\"start\" x=\"187.62\" y=\"-76.7\" font-family=\"arial\" text-decoration=\"underline\" font-size=\"10.00\">DropoutProb</text>\n",
       "</a>\n",
       "</g>\n",
       "</g>\n",
       "<!-- DropoutProb&#45;&gt;Train -->\n",
       "<g id=\"edge3\" class=\"edge\">\n",
       "<title>DropoutProb-&gt;Train</title>\n",
       "<path fill=\"none\" stroke=\"#000000\" stroke-width=\"0.75\" stroke-opacity=\"0.250980\" d=\"M203.64,-61.99C195.21,-49.95 183.98,-33.91 176.87,-23.76\"/>\n",
       "</g>\n",
       "<!-- NumFeatures -->\n",
       "<g id=\"node5\" class=\"node\">\n",
       "<title>NumFeatures</title>\n",
       "<g id=\"a_node5\"><a xlink:title=\"features_config_id   \r",
       "------------------------------\r",
       "num_features_1       \r",
       "num_features_2       \r",
       "\">\n",
       "<polygon fill=\"#00ff00\" fill-opacity=\"0.188235\" stroke=\"#00ff00\" stroke-opacity=\"0.188235\" points=\"357.38,-96.48 268.62,-96.48 268.62,-61.92 357.38,-61.92 357.38,-96.48\"/>\n",
       "<text text-anchor=\"start\" x=\"276.62\" y=\"-75.92\" font-family=\"arial\" text-decoration=\"underline\" font-size=\"12.00\" fill=\"darkgreen\">NumFeatures</text>\n",
       "</a>\n",
       "</g>\n",
       "</g>\n",
       "<!-- NumFeatures&#45;&gt;Train -->\n",
       "<g id=\"edge4\" class=\"edge\">\n",
       "<title>NumFeatures-&gt;Train</title>\n",
       "<path fill=\"none\" stroke=\"#000000\" stroke-width=\"0.75\" stroke-opacity=\"0.250980\" d=\"M275.8,-61.49C244.36,-47.36 201.31,-28.02 181.2,-18.99\"/>\n",
       "</g>\n",
       "</g>\n",
       "</svg>"
      ],
      "text/plain": [
       "<datajoint.diagram.Diagram at 0x168fef990>"
      ]
     },
     "execution_count": 43,
     "metadata": {},
     "output_type": "execute_result"
    }
   ],
   "source": [
    "dj.Diagram(schema)"
   ]
  },
  {
   "cell_type": "code",
   "execution_count": 44,
   "id": "c5a88188-e4e0-407a-a528-ce89d8b4b6b9",
   "metadata": {
    "tags": []
   },
   "outputs": [
    {
     "data": {
      "text/html": [
       "\n",
       "    \n",
       "    <style type=\"text/css\">\n",
       "        .Table{\n",
       "            border-collapse:collapse;\n",
       "        }\n",
       "        .Table th{\n",
       "            background: #A0A0A0; color: #ffffff; padding:4px; border:#f0e0e0 1px solid;\n",
       "            font-weight: normal; font-family: monospace; font-size: 100%;\n",
       "        }\n",
       "        .Table td{\n",
       "            padding:4px; border:#f0e0e0 1px solid; font-size:100%;\n",
       "        }\n",
       "        .Table tr:nth-child(odd){\n",
       "            background: #ffffff;\n",
       "        }\n",
       "        .Table tr:nth-child(even){\n",
       "            background: #f3f1ff;\n",
       "        }\n",
       "        /* Tooltip container */\n",
       "        .djtooltip {\n",
       "        }\n",
       "        /* Tooltip text */\n",
       "        .djtooltip .djtooltiptext {\n",
       "            visibility: hidden;\n",
       "            width: 120px;\n",
       "            background-color: black;\n",
       "            color: #fff;\n",
       "            text-align: center;\n",
       "            padding: 5px 0;\n",
       "            border-radius: 6px;\n",
       "            /* Position the tooltip text - see examples below! */\n",
       "            position: absolute;\n",
       "            z-index: 1;\n",
       "        }\n",
       "        #primary {\n",
       "            font-weight: bold;\n",
       "            color: black;\n",
       "        }\n",
       "        #nonprimary {\n",
       "            font-weight: normal;\n",
       "            color: white;\n",
       "        }\n",
       "\n",
       "        /* Show the tooltip text when you mouse over the tooltip container */\n",
       "        .djtooltip:hover .djtooltiptext {\n",
       "            visibility: visible;\n",
       "        }\n",
       "    </style>\n",
       "    \n",
       "    \n",
       "        <div style=\"max-height:1000px;max-width:1500px;overflow:auto;\">\n",
       "        <table border=\"1\" class=\"Table\">\n",
       "            <thead> <tr style=\"text-align: right;\"> <th> <div class=\"djtooltip\">\n",
       "                            <p id=\"primary\">features_config_id</p>\n",
       "                            <span class=\"djtooltiptext\">so-called primary key, must be unique</span>\n",
       "                        </div></th><th><div class=\"djtooltip\">\n",
       "                            <p id=\"primary\">dropout_config_id</p>\n",
       "                            <span class=\"djtooltiptext\">so-called primary key, must be unique</span>\n",
       "                        </div></th><th><div class=\"djtooltip\">\n",
       "                            <p id=\"primary\">lr_config_id</p>\n",
       "                            <span class=\"djtooltiptext\">so-called primary key, must be unique</span>\n",
       "                        </div></th><th><div class=\"djtooltip\">\n",
       "                            <p id=\"primary\">epochs_config_id</p>\n",
       "                            <span class=\"djtooltiptext\">so-called primary key, must be unique</span>\n",
       "                        </div></th><th><div class=\"djtooltip\">\n",
       "                            <p id=\"nonprimary\">num_features_1</p>\n",
       "                            <span class=\"djtooltiptext\"></span>\n",
       "                        </div></th><th><div class=\"djtooltip\">\n",
       "                            <p id=\"nonprimary\">num_features_2</p>\n",
       "                            <span class=\"djtooltiptext\"></span>\n",
       "                        </div></th><th><div class=\"djtooltip\">\n",
       "                            <p id=\"nonprimary\">train_loss</p>\n",
       "                            <span class=\"djtooltiptext\"></span>\n",
       "                        </div></th><th><div class=\"djtooltip\">\n",
       "                            <p id=\"nonprimary\">model_weights</p>\n",
       "                            <span class=\"djtooltiptext\"></span>\n",
       "                        </div> </th> </tr> </thead>\n",
       "            <tbody> <tr>  </tr> </tbody>\n",
       "        </table>\n",
       "        \n",
       "        <p>Total: 0</p></div>\n",
       "        "
      ],
      "text/plain": [
       "*features_conf *dropout_confi *lr_config_id  *epochs_config num_features_1 num_features_2 train_loss     model_weig\n",
       "+------------+ +------------+ +------------+ +------------+ +------------+ +------------+ +------------+ +--------+\n",
       "\n",
       " (Total: 0)"
      ]
     },
     "execution_count": 44,
     "metadata": {},
     "output_type": "execute_result"
    }
   ],
   "source": [
    "NumFeatures() * Train()"
   ]
  },
  {
   "cell_type": "code",
   "execution_count": 45,
   "id": "9ec0c4e4-1acf-452f-8d3e-aa4bd51b3293",
   "metadata": {
    "tags": []
   },
   "outputs": [
    {
     "name": "stderr",
     "output_type": "stream",
     "text": [
      "[2023-04-25 19:14:43,350][INFO]: `tutorial`.`__train` (0 tuples)\n"
     ]
    },
    {
     "name": "stdin",
     "output_type": "stream",
     "text": [
      "Proceed? [yes, No]:  yes\n"
     ]
    },
    {
     "name": "stderr",
     "output_type": "stream",
     "text": [
      "[2023-04-25 19:14:44,719][INFO]: Dropped table `tutorial`.`__train`\n",
      "[2023-04-25 19:14:44,731][INFO]: Tables dropped. Restart kernel.\n"
     ]
    }
   ],
   "source": [
    "Train().drop()"
   ]
  },
  {
   "cell_type": "code",
   "execution_count": 46,
   "id": "cdec8e84-e146-4ea9-8bae-f938a75ea83a",
   "metadata": {
    "tags": []
   },
   "outputs": [
    {
     "data": {
      "text/html": [
       "\n",
       "    \n",
       "    <style type=\"text/css\">\n",
       "        .Table{\n",
       "            border-collapse:collapse;\n",
       "        }\n",
       "        .Table th{\n",
       "            background: #A0A0A0; color: #ffffff; padding:4px; border:#f0e0e0 1px solid;\n",
       "            font-weight: normal; font-family: monospace; font-size: 100%;\n",
       "        }\n",
       "        .Table td{\n",
       "            padding:4px; border:#f0e0e0 1px solid; font-size:100%;\n",
       "        }\n",
       "        .Table tr:nth-child(odd){\n",
       "            background: #ffffff;\n",
       "        }\n",
       "        .Table tr:nth-child(even){\n",
       "            background: #f3f1ff;\n",
       "        }\n",
       "        /* Tooltip container */\n",
       "        .djtooltip {\n",
       "        }\n",
       "        /* Tooltip text */\n",
       "        .djtooltip .djtooltiptext {\n",
       "            visibility: hidden;\n",
       "            width: 120px;\n",
       "            background-color: black;\n",
       "            color: #fff;\n",
       "            text-align: center;\n",
       "            padding: 5px 0;\n",
       "            border-radius: 6px;\n",
       "            /* Position the tooltip text - see examples below! */\n",
       "            position: absolute;\n",
       "            z-index: 1;\n",
       "        }\n",
       "        #primary {\n",
       "            font-weight: bold;\n",
       "            color: black;\n",
       "        }\n",
       "        #nonprimary {\n",
       "            font-weight: normal;\n",
       "            color: white;\n",
       "        }\n",
       "\n",
       "        /* Show the tooltip text when you mouse over the tooltip container */\n",
       "        .djtooltip:hover .djtooltiptext {\n",
       "            visibility: visible;\n",
       "        }\n",
       "    </style>\n",
       "    \n",
       "    <b></b>\n",
       "        <div style=\"max-height:1000px;max-width:1500px;overflow:auto;\">\n",
       "        <table border=\"1\" class=\"Table\">\n",
       "            <thead> <tr style=\"text-align: right;\"> <th> <div class=\"djtooltip\">\n",
       "                            <p id=\"primary\">features_config_id</p>\n",
       "                            <span class=\"djtooltiptext\">so-called primary key, must be unique</span>\n",
       "                        </div></th><th><div class=\"djtooltip\">\n",
       "                            <p id=\"nonprimary\">num_features_1</p>\n",
       "                            <span class=\"djtooltiptext\"></span>\n",
       "                        </div></th><th><div class=\"djtooltip\">\n",
       "                            <p id=\"nonprimary\">num_features_2</p>\n",
       "                            <span class=\"djtooltiptext\"></span>\n",
       "                        </div> </th> </tr> </thead>\n",
       "            <tbody> <tr> <td>1</td>\n",
       "<td>32</td>\n",
       "<td>32</td></tr><tr><td>2</td>\n",
       "<td>16</td>\n",
       "<td>32</td></tr><tr><td>3</td>\n",
       "<td>32</td>\n",
       "<td>64</td></tr><tr><td>4</td>\n",
       "<td>64</td>\n",
       "<td>64</td> </tr> </tbody>\n",
       "        </table>\n",
       "        \n",
       "        <p>Total: 4</p></div>\n",
       "        "
      ],
      "text/plain": [
       "*features_conf num_features_1 num_features_2\n",
       "+------------+ +------------+ +------------+\n",
       "1              32             32            \n",
       "2              16             32            \n",
       "3              32             64            \n",
       "4              64             64            \n",
       " (Total: 4)"
      ]
     },
     "execution_count": 46,
     "metadata": {},
     "output_type": "execute_result"
    }
   ],
   "source": [
    "NumFeatures()"
   ]
  },
  {
   "cell_type": "code",
   "execution_count": 47,
   "id": "80293ffb-fd93-4770-9840-8e82c6dd3dcb",
   "metadata": {
    "tags": []
   },
   "outputs": [],
   "source": [
    "@schema\n",
    "class Train(dj.Computed):\n",
    "    definition = \"\"\"\n",
    "    -> NumFeatures\n",
    "    -> DropoutProb\n",
    "    -> LearningRate\n",
    "    -> NumEpochs\n",
    "    ---\n",
    "    train_loss      : float\n",
    "    \"\"\"\n",
    "    \n",
    "    class Weights(dj.Part):\n",
    "        definition = \"\"\"  # weights of the trained model\n",
    "        -> Train\n",
    "        layer    : varchar(64)   # layer name\n",
    "        ---\n",
    "        weights  : longblob      # numpy array of model weigths\n",
    "        \"\"\"\n",
    "        \n",
    "    def make(self, key):\n",
    "        train_loader, test_loader = get_dataloaders(batch_size=64)\n",
    "        \n",
    "        num_features_1, num_features_2 = (NumFeatures() & key).fetch1(\"num_features_1\", \"num_features_2\")\n",
    "        dropout_prob = (DropoutProb() & key).fetch1(\"dropout_prob\")\n",
    "        lr = (LearningRate() & key).fetch1(\"lr\")\n",
    "        num_epochs = (NumEpochs() & key).fetch1(\"epochs\")\n",
    "        \n",
    "        model = Net(num_features_1=num_features_1, num_features_2=num_features_2, dropout_prob=dropout_prob)\n",
    "        optimizer = optim.Adam(model.parameters(), lr=lr)\n",
    "        \n",
    "        for epoch in range(1, num_epochs + 1):\n",
    "            loss = train(model, train_loader, optimizer, epoch)\n",
    "            \n",
    "        key[\"train_loss\"] = float(loss.detach().numpy())\n",
    "        self.insert1(key)\n",
    "        del key[\"train_loss\"]\n",
    "        \n",
    "        for k, v in model.state_dict().items():\n",
    "            key[\"layer\"] = k\n",
    "            key[\"weights\"] = v.numpy()\n",
    "            self.Weights.insert1(key)"
   ]
  },
  {
   "cell_type": "code",
   "execution_count": 48,
   "id": "1f296f46-11a2-4e95-8fc0-bc58377ffd4f",
   "metadata": {
    "tags": []
   },
   "outputs": [
    {
     "name": "stderr",
     "output_type": "stream",
     "text": [
      "[2023-04-25 19:14:46,861][INFO]: Train                Completed 0 of 16 (0.0%)   2023-04-25 19:14:46\n"
     ]
    },
    {
     "data": {
      "text/plain": [
       "(16, 16)"
      ]
     },
     "execution_count": 48,
     "metadata": {},
     "output_type": "execute_result"
    }
   ],
   "source": [
    "Train().progress(display=True)"
   ]
  },
  {
   "cell_type": "code",
   "execution_count": 49,
   "id": "6dd36982-3adf-46d9-8e24-cd889e3b5fdb",
   "metadata": {},
   "outputs": [
    {
     "name": "stdout",
     "output_type": "stream",
     "text": [
      "Train Epoch: 1 [0/60000 (0%)]\tLoss: 2.301472\n",
      "Train Epoch: 1 [6400/60000 (11%)]\tLoss: 2.295039\n",
      "Train Epoch: 1 [12800/60000 (21%)]\tLoss: 2.311407\n",
      "Train Epoch: 1 [19200/60000 (32%)]\tLoss: 2.300512\n",
      "Train Epoch: 1 [25600/60000 (43%)]\tLoss: 2.306663\n",
      "Train Epoch: 1 [32000/60000 (53%)]\tLoss: 2.309425\n",
      "Train Epoch: 1 [38400/60000 (64%)]\tLoss: 2.297946\n",
      "Train Epoch: 1 [44800/60000 (75%)]\tLoss: 2.312702\n",
      "Train Epoch: 1 [51200/60000 (85%)]\tLoss: 2.303078\n",
      "Train Epoch: 1 [57600/60000 (96%)]\tLoss: 2.299091\n"
     ]
    }
   ],
   "source": [
    "Train().populate(max_calls=1)"
   ]
  },
  {
   "cell_type": "code",
   "execution_count": 50,
   "id": "47f94279-6d39-42bc-95f2-a62b6fe0a486",
   "metadata": {
    "tags": []
   },
   "outputs": [
    {
     "data": {
      "text/html": [
       "\n",
       "    \n",
       "    <style type=\"text/css\">\n",
       "        .Table{\n",
       "            border-collapse:collapse;\n",
       "        }\n",
       "        .Table th{\n",
       "            background: #A0A0A0; color: #ffffff; padding:4px; border:#f0e0e0 1px solid;\n",
       "            font-weight: normal; font-family: monospace; font-size: 100%;\n",
       "        }\n",
       "        .Table td{\n",
       "            padding:4px; border:#f0e0e0 1px solid; font-size:100%;\n",
       "        }\n",
       "        .Table tr:nth-child(odd){\n",
       "            background: #ffffff;\n",
       "        }\n",
       "        .Table tr:nth-child(even){\n",
       "            background: #f3f1ff;\n",
       "        }\n",
       "        /* Tooltip container */\n",
       "        .djtooltip {\n",
       "        }\n",
       "        /* Tooltip text */\n",
       "        .djtooltip .djtooltiptext {\n",
       "            visibility: hidden;\n",
       "            width: 120px;\n",
       "            background-color: black;\n",
       "            color: #fff;\n",
       "            text-align: center;\n",
       "            padding: 5px 0;\n",
       "            border-radius: 6px;\n",
       "            /* Position the tooltip text - see examples below! */\n",
       "            position: absolute;\n",
       "            z-index: 1;\n",
       "        }\n",
       "        #primary {\n",
       "            font-weight: bold;\n",
       "            color: black;\n",
       "        }\n",
       "        #nonprimary {\n",
       "            font-weight: normal;\n",
       "            color: white;\n",
       "        }\n",
       "\n",
       "        /* Show the tooltip text when you mouse over the tooltip container */\n",
       "        .djtooltip:hover .djtooltiptext {\n",
       "            visibility: visible;\n",
       "        }\n",
       "    </style>\n",
       "    \n",
       "    <b></b>\n",
       "        <div style=\"max-height:1000px;max-width:1500px;overflow:auto;\">\n",
       "        <table border=\"1\" class=\"Table\">\n",
       "            <thead> <tr style=\"text-align: right;\"> <th> <div class=\"djtooltip\">\n",
       "                            <p id=\"primary\">features_config_id</p>\n",
       "                            <span class=\"djtooltiptext\">so-called primary key, must be unique</span>\n",
       "                        </div></th><th><div class=\"djtooltip\">\n",
       "                            <p id=\"primary\">dropout_config_id</p>\n",
       "                            <span class=\"djtooltiptext\">so-called primary key, must be unique</span>\n",
       "                        </div></th><th><div class=\"djtooltip\">\n",
       "                            <p id=\"primary\">lr_config_id</p>\n",
       "                            <span class=\"djtooltiptext\">so-called primary key, must be unique</span>\n",
       "                        </div></th><th><div class=\"djtooltip\">\n",
       "                            <p id=\"primary\">epochs_config_id</p>\n",
       "                            <span class=\"djtooltiptext\">so-called primary key, must be unique</span>\n",
       "                        </div></th><th><div class=\"djtooltip\">\n",
       "                            <p id=\"nonprimary\">train_loss</p>\n",
       "                            <span class=\"djtooltiptext\"></span>\n",
       "                        </div> </th> </tr> </thead>\n",
       "            <tbody> <tr> <td>1</td>\n",
       "<td>1</td>\n",
       "<td>2</td>\n",
       "<td>1</td>\n",
       "<td>2.30979</td> </tr> </tbody>\n",
       "        </table>\n",
       "        \n",
       "        <p>Total: 1</p></div>\n",
       "        "
      ],
      "text/plain": [
       "*features_conf *dropout_confi *lr_config_id  *epochs_config train_loss    \n",
       "+------------+ +------------+ +------------+ +------------+ +------------+\n",
       "1              1              2              1              2.30979       \n",
       " (Total: 1)"
      ]
     },
     "execution_count": 50,
     "metadata": {},
     "output_type": "execute_result"
    }
   ],
   "source": [
    "Train()"
   ]
  },
  {
   "cell_type": "code",
   "execution_count": 51,
   "id": "2bc71b33-d5a5-4fd0-983a-7bcec0ecc27f",
   "metadata": {
    "tags": []
   },
   "outputs": [
    {
     "name": "stderr",
     "output_type": "stream",
     "text": [
      "[2023-04-25 19:15:27,508][INFO]: Train                Completed 1 of 16 (6.3%)   2023-04-25 19:15:27\n"
     ]
    },
    {
     "data": {
      "text/plain": [
       "(15, 16)"
      ]
     },
     "execution_count": 51,
     "metadata": {},
     "output_type": "execute_result"
    }
   ],
   "source": [
    "Train().progress(display=True)"
   ]
  },
  {
   "cell_type": "code",
   "execution_count": 52,
   "id": "966ebc01-78a5-4f0e-a953-601d79a5e18a",
   "metadata": {
    "tags": []
   },
   "outputs": [
    {
     "data": {
      "text/html": [
       "\n",
       "    \n",
       "    <style type=\"text/css\">\n",
       "        .Table{\n",
       "            border-collapse:collapse;\n",
       "        }\n",
       "        .Table th{\n",
       "            background: #A0A0A0; color: #ffffff; padding:4px; border:#f0e0e0 1px solid;\n",
       "            font-weight: normal; font-family: monospace; font-size: 100%;\n",
       "        }\n",
       "        .Table td{\n",
       "            padding:4px; border:#f0e0e0 1px solid; font-size:100%;\n",
       "        }\n",
       "        .Table tr:nth-child(odd){\n",
       "            background: #ffffff;\n",
       "        }\n",
       "        .Table tr:nth-child(even){\n",
       "            background: #f3f1ff;\n",
       "        }\n",
       "        /* Tooltip container */\n",
       "        .djtooltip {\n",
       "        }\n",
       "        /* Tooltip text */\n",
       "        .djtooltip .djtooltiptext {\n",
       "            visibility: hidden;\n",
       "            width: 120px;\n",
       "            background-color: black;\n",
       "            color: #fff;\n",
       "            text-align: center;\n",
       "            padding: 5px 0;\n",
       "            border-radius: 6px;\n",
       "            /* Position the tooltip text - see examples below! */\n",
       "            position: absolute;\n",
       "            z-index: 1;\n",
       "        }\n",
       "        #primary {\n",
       "            font-weight: bold;\n",
       "            color: black;\n",
       "        }\n",
       "        #nonprimary {\n",
       "            font-weight: normal;\n",
       "            color: white;\n",
       "        }\n",
       "\n",
       "        /* Show the tooltip text when you mouse over the tooltip container */\n",
       "        .djtooltip:hover .djtooltiptext {\n",
       "            visibility: visible;\n",
       "        }\n",
       "    </style>\n",
       "    \n",
       "    <b>weights of the trained model</b>\n",
       "        <div style=\"max-height:1000px;max-width:1500px;overflow:auto;\">\n",
       "        <table border=\"1\" class=\"Table\">\n",
       "            <thead> <tr style=\"text-align: right;\"> <th> <div class=\"djtooltip\">\n",
       "                            <p id=\"primary\">features_config_id</p>\n",
       "                            <span class=\"djtooltiptext\">so-called primary key, must be unique</span>\n",
       "                        </div></th><th><div class=\"djtooltip\">\n",
       "                            <p id=\"primary\">dropout_config_id</p>\n",
       "                            <span class=\"djtooltiptext\">so-called primary key, must be unique</span>\n",
       "                        </div></th><th><div class=\"djtooltip\">\n",
       "                            <p id=\"primary\">lr_config_id</p>\n",
       "                            <span class=\"djtooltiptext\">so-called primary key, must be unique</span>\n",
       "                        </div></th><th><div class=\"djtooltip\">\n",
       "                            <p id=\"primary\">epochs_config_id</p>\n",
       "                            <span class=\"djtooltiptext\">so-called primary key, must be unique</span>\n",
       "                        </div></th><th><div class=\"djtooltip\">\n",
       "                            <p id=\"primary\">layer</p>\n",
       "                            <span class=\"djtooltiptext\">layer name</span>\n",
       "                        </div></th><th><div class=\"djtooltip\">\n",
       "                            <p id=\"nonprimary\">weights</p>\n",
       "                            <span class=\"djtooltiptext\">numpy array of model weigths</span>\n",
       "                        </div> </th> </tr> </thead>\n",
       "            <tbody> <tr> <td>1</td>\n",
       "<td>1</td>\n",
       "<td>2</td>\n",
       "<td>1</td>\n",
       "<td>conv1.bias</td>\n",
       "<td>=BLOB=</td></tr><tr><td>1</td>\n",
       "<td>1</td>\n",
       "<td>2</td>\n",
       "<td>1</td>\n",
       "<td>conv1.weight</td>\n",
       "<td>=BLOB=</td></tr><tr><td>1</td>\n",
       "<td>1</td>\n",
       "<td>2</td>\n",
       "<td>1</td>\n",
       "<td>conv2.bias</td>\n",
       "<td>=BLOB=</td></tr><tr><td>1</td>\n",
       "<td>1</td>\n",
       "<td>2</td>\n",
       "<td>1</td>\n",
       "<td>conv2.weight</td>\n",
       "<td>=BLOB=</td></tr><tr><td>1</td>\n",
       "<td>1</td>\n",
       "<td>2</td>\n",
       "<td>1</td>\n",
       "<td>fc1.bias</td>\n",
       "<td>=BLOB=</td></tr><tr><td>1</td>\n",
       "<td>1</td>\n",
       "<td>2</td>\n",
       "<td>1</td>\n",
       "<td>fc1.weight</td>\n",
       "<td>=BLOB=</td></tr><tr><td>1</td>\n",
       "<td>1</td>\n",
       "<td>2</td>\n",
       "<td>1</td>\n",
       "<td>fc2.bias</td>\n",
       "<td>=BLOB=</td></tr><tr><td>1</td>\n",
       "<td>1</td>\n",
       "<td>2</td>\n",
       "<td>1</td>\n",
       "<td>fc2.weight</td>\n",
       "<td>=BLOB=</td> </tr> </tbody>\n",
       "        </table>\n",
       "        \n",
       "        <p>Total: 8</p></div>\n",
       "        "
      ],
      "text/plain": [
       "*features_conf *dropout_confi *lr_config_id  *epochs_config *layer         weights   \n",
       "+------------+ +------------+ +------------+ +------------+ +------------+ +--------+\n",
       "1              1              2              1              conv1.bias     =BLOB=    \n",
       "1              1              2              1              conv1.weight   =BLOB=    \n",
       "1              1              2              1              conv2.bias     =BLOB=    \n",
       "1              1              2              1              conv2.weight   =BLOB=    \n",
       "1              1              2              1              fc1.bias       =BLOB=    \n",
       "1              1              2              1              fc1.weight     =BLOB=    \n",
       "1              1              2              1              fc2.bias       =BLOB=    \n",
       "1              1              2              1              fc2.weight     =BLOB=    \n",
       " (Total: 8)"
      ]
     },
     "execution_count": 52,
     "metadata": {},
     "output_type": "execute_result"
    }
   ],
   "source": [
    "Train().Weights()"
   ]
  },
  {
   "cell_type": "code",
   "execution_count": 53,
   "id": "198a5de9-4423-4b8a-aae6-c4a914cad9db",
   "metadata": {
    "tags": []
   },
   "outputs": [
    {
     "data": {
      "text/html": [
       "\n",
       "    \n",
       "    <style type=\"text/css\">\n",
       "        .Table{\n",
       "            border-collapse:collapse;\n",
       "        }\n",
       "        .Table th{\n",
       "            background: #A0A0A0; color: #ffffff; padding:4px; border:#f0e0e0 1px solid;\n",
       "            font-weight: normal; font-family: monospace; font-size: 100%;\n",
       "        }\n",
       "        .Table td{\n",
       "            padding:4px; border:#f0e0e0 1px solid; font-size:100%;\n",
       "        }\n",
       "        .Table tr:nth-child(odd){\n",
       "            background: #ffffff;\n",
       "        }\n",
       "        .Table tr:nth-child(even){\n",
       "            background: #f3f1ff;\n",
       "        }\n",
       "        /* Tooltip container */\n",
       "        .djtooltip {\n",
       "        }\n",
       "        /* Tooltip text */\n",
       "        .djtooltip .djtooltiptext {\n",
       "            visibility: hidden;\n",
       "            width: 120px;\n",
       "            background-color: black;\n",
       "            color: #fff;\n",
       "            text-align: center;\n",
       "            padding: 5px 0;\n",
       "            border-radius: 6px;\n",
       "            /* Position the tooltip text - see examples below! */\n",
       "            position: absolute;\n",
       "            z-index: 1;\n",
       "        }\n",
       "        #primary {\n",
       "            font-weight: bold;\n",
       "            color: black;\n",
       "        }\n",
       "        #nonprimary {\n",
       "            font-weight: normal;\n",
       "            color: white;\n",
       "        }\n",
       "\n",
       "        /* Show the tooltip text when you mouse over the tooltip container */\n",
       "        .djtooltip:hover .djtooltiptext {\n",
       "            visibility: visible;\n",
       "        }\n",
       "    </style>\n",
       "    \n",
       "    <b>weights of the trained model</b>\n",
       "        <div style=\"max-height:1000px;max-width:1500px;overflow:auto;\">\n",
       "        <table border=\"1\" class=\"Table\">\n",
       "            <thead> <tr style=\"text-align: right;\"> <th> <div class=\"djtooltip\">\n",
       "                            <p id=\"primary\">features_config_id</p>\n",
       "                            <span class=\"djtooltiptext\">so-called primary key, must be unique</span>\n",
       "                        </div></th><th><div class=\"djtooltip\">\n",
       "                            <p id=\"primary\">dropout_config_id</p>\n",
       "                            <span class=\"djtooltiptext\">so-called primary key, must be unique</span>\n",
       "                        </div></th><th><div class=\"djtooltip\">\n",
       "                            <p id=\"primary\">lr_config_id</p>\n",
       "                            <span class=\"djtooltiptext\">so-called primary key, must be unique</span>\n",
       "                        </div></th><th><div class=\"djtooltip\">\n",
       "                            <p id=\"primary\">epochs_config_id</p>\n",
       "                            <span class=\"djtooltiptext\">so-called primary key, must be unique</span>\n",
       "                        </div></th><th><div class=\"djtooltip\">\n",
       "                            <p id=\"primary\">layer</p>\n",
       "                            <span class=\"djtooltiptext\">layer name</span>\n",
       "                        </div></th><th><div class=\"djtooltip\">\n",
       "                            <p id=\"nonprimary\">weights</p>\n",
       "                            <span class=\"djtooltiptext\">numpy array of model weigths</span>\n",
       "                        </div> </th> </tr> </thead>\n",
       "            <tbody> <tr> <td>1</td>\n",
       "<td>1</td>\n",
       "<td>2</td>\n",
       "<td>1</td>\n",
       "<td>conv2.bias</td>\n",
       "<td>=BLOB=</td> </tr> </tbody>\n",
       "        </table>\n",
       "        \n",
       "        <p>Total: 1</p></div>\n",
       "        "
      ],
      "text/plain": [
       "*features_conf *dropout_confi *lr_config_id  *epochs_config *layer         weights   \n",
       "+------------+ +------------+ +------------+ +------------+ +------------+ +--------+\n",
       "1              1              2              1              conv2.bias     =BLOB=    \n",
       " (Total: 1)"
      ]
     },
     "execution_count": 53,
     "metadata": {},
     "output_type": "execute_result"
    }
   ],
   "source": [
    "Train().Weights() & dict(layer=\"conv2.bias\")"
   ]
  },
  {
   "cell_type": "code",
   "execution_count": 54,
   "id": "f752ed3d-e2e4-44b6-a442-c0aedd3cc2f2",
   "metadata": {
    "tags": []
   },
   "outputs": [
    {
     "data": {
      "text/plain": [
       "array([-0.10307139, -0.08073657, -0.10773873, -0.02578883, -0.02786762,\n",
       "       -0.05198716, -0.02176897, -0.0466007 , -0.04605456, -0.06268577,\n",
       "       -0.06745198, -0.06557348, -0.11862184, -0.10004321, -0.08686852,\n",
       "       -0.10275701, -0.03789702, -0.06232484, -0.11322562, -0.10462096,\n",
       "       -0.05315004, -0.03770746, -0.02087278, -0.03803886, -0.01050316,\n",
       "       -0.06845255, -0.04362513, -0.08462683, -0.09823405, -0.09004518,\n",
       "       -0.01816215, -0.01126364], dtype=float32)"
      ]
     },
     "execution_count": 54,
     "metadata": {},
     "output_type": "execute_result"
    }
   ],
   "source": [
    "(Train().Weights() & dict(layer=\"conv2.bias\")).fetch1(\"weights\")"
   ]
  },
  {
   "cell_type": "code",
   "execution_count": 55,
   "id": "cdc32b5a-4b0e-4f9c-94bf-2ed6da474700",
   "metadata": {
    "tags": []
   },
   "outputs": [
    {
     "data": {
      "text/plain": [
       "[{'features_config_id': 1,\n",
       "  'dropout_config_id': 1,\n",
       "  'lr_config_id': 2,\n",
       "  'epochs_config_id': 1,\n",
       "  'layer': 'conv1.bias',\n",
       "  'weights': array([-0.31935763, -0.11066564, -0.21622226, -0.05833106, -0.3831852 ,\n",
       "          0.25436428,  0.15482643,  0.11579075, -0.22021902, -0.2733959 ,\n",
       "          0.04900852, -0.30479494,  0.28494015, -0.12083602, -0.3947046 ,\n",
       "         -0.1947041 ,  0.24651305, -0.26678064,  0.23653384,  0.14286023,\n",
       "          0.17062037, -0.09738769,  0.17896175,  0.22127801, -0.2409431 ,\n",
       "          0.27290004,  0.11260919, -0.27363387,  0.25557604, -0.03483531,\n",
       "          0.04234095,  0.01979419], dtype=float32)},\n",
       " {'features_config_id': 1,\n",
       "  'dropout_config_id': 1,\n",
       "  'lr_config_id': 2,\n",
       "  'epochs_config_id': 1,\n",
       "  'layer': 'conv1.weight',\n",
       "  'weights': array([[[[ 9.84333828e-02,  2.92270809e-01, -2.09996104e-01],\n",
       "           [-6.75828904e-02,  1.51782379e-01, -2.25927353e-01],\n",
       "           [-3.61601174e-01, -2.90225416e-01,  2.16073799e-03]]],\n",
       "  \n",
       "  \n",
       "         [[[ 1.59069851e-01, -6.89069107e-02,  2.65861362e-01],\n",
       "           [-7.82883614e-02,  1.79609165e-01, -7.76640028e-02],\n",
       "           [-2.15349212e-01, -1.70331270e-01, -3.09220608e-02]]],\n",
       "  \n",
       "  \n",
       "         [[[-7.97343533e-03,  2.27788970e-01,  2.28109360e-01],\n",
       "           [-2.71495014e-01, -1.34818375e-01, -1.82633862e-01],\n",
       "           [-2.21509501e-01,  1.42768830e-01,  2.46729434e-01]]],\n",
       "  \n",
       "  \n",
       "         [[[ 2.23459765e-01,  4.05062474e-02,  1.29543513e-01],\n",
       "           [-2.48446122e-01, -5.92996180e-02, -2.64571339e-01],\n",
       "           [ 2.76833534e-01, -2.77732164e-01,  8.06187745e-03]]],\n",
       "  \n",
       "  \n",
       "         [[[ 9.98235196e-02, -3.63196313e-01,  1.01282801e-02],\n",
       "           [ 2.42045894e-01,  1.50343835e-01, -1.45424262e-01],\n",
       "           [-2.21060172e-01, -1.84854344e-01,  1.57244682e-01]]],\n",
       "  \n",
       "  \n",
       "         [[[-1.96653411e-01, -3.08993101e-01,  1.95423678e-01],\n",
       "           [-3.04663211e-01, -7.48138428e-02,  1.51115492e-01],\n",
       "           [-1.00376047e-01, -6.72176406e-02,  1.81496873e-01]]],\n",
       "  \n",
       "  \n",
       "         [[[ 2.34431587e-02, -8.35923478e-02, -1.25223070e-01],\n",
       "           [ 1.26135617e-01,  9.14951339e-02, -1.93896085e-01],\n",
       "           [ 1.37475252e-01, -3.19450488e-03,  2.32739195e-01]]],\n",
       "  \n",
       "  \n",
       "         [[[-1.50982309e-02, -2.11876303e-01, -4.16525602e-02],\n",
       "           [-5.77526167e-02,  6.55234307e-02, -6.19342774e-02],\n",
       "           [-1.79702878e-01,  1.86261013e-01,  2.94878960e-01]]],\n",
       "  \n",
       "  \n",
       "         [[[-1.52766416e-02, -2.32870489e-01,  8.00037906e-02],\n",
       "           [ 2.91193217e-01,  1.81339741e-01, -2.17967436e-01],\n",
       "           [ 7.07013458e-02, -1.45003438e-01, -2.31588423e-01]]],\n",
       "  \n",
       "  \n",
       "         [[[-3.23985100e-01,  4.51335087e-02,  2.48260990e-01],\n",
       "           [-1.94289118e-01, -6.30216033e-04, -4.66264673e-02],\n",
       "           [-5.74537367e-02,  8.74808878e-02,  2.12323219e-01]]],\n",
       "  \n",
       "  \n",
       "         [[[ 2.20127657e-01, -3.65164757e-01,  2.82436628e-02],\n",
       "           [ 4.35221046e-02, -1.20008498e-01,  2.49861360e-01],\n",
       "           [ 2.44927213e-01,  4.63357531e-02,  1.61278054e-01]]],\n",
       "  \n",
       "  \n",
       "         [[[-1.20472442e-02, -1.94366813e-01,  1.71053886e-01],\n",
       "           [-2.28519320e-01, -8.81597027e-02, -1.61123067e-01],\n",
       "           [-2.07340926e-01, -1.13239042e-01,  7.17111304e-03]]],\n",
       "  \n",
       "  \n",
       "         [[[-1.16574198e-01, -2.04773486e-01, -1.53531924e-01],\n",
       "           [-1.09299034e-01, -5.18624447e-02, -6.25550328e-03],\n",
       "           [ 5.01441024e-02, -6.71676174e-02,  1.51144154e-02]]],\n",
       "  \n",
       "  \n",
       "         [[[-1.74584940e-01, -3.37611198e-01,  5.49894497e-02],\n",
       "           [ 1.42659560e-01,  1.56630620e-01,  1.61702067e-01],\n",
       "           [ 5.63061237e-02, -2.50962198e-01,  1.25485063e-01]]],\n",
       "  \n",
       "  \n",
       "         [[[ 6.13464490e-02, -1.73705280e-01,  2.26497307e-01],\n",
       "           [-3.40452418e-02, -1.72074422e-01,  9.62708518e-02],\n",
       "           [-1.59103006e-01, -6.31978139e-02, -2.52650827e-01]]],\n",
       "  \n",
       "  \n",
       "         [[[-4.07529980e-01, -3.32634807e-01, -2.50114679e-01],\n",
       "           [-4.19547588e-01, -1.09486945e-01,  7.61946589e-02],\n",
       "           [-3.82815689e-01, -3.01796496e-01, -7.97396749e-02]]],\n",
       "  \n",
       "  \n",
       "         [[[-5.32536395e-02,  2.57313848e-01,  1.65973529e-02],\n",
       "           [-1.82132684e-02,  2.54156798e-01, -1.79582134e-01],\n",
       "           [ 4.67685722e-02,  2.43602812e-01, -3.70528460e-01]]],\n",
       "  \n",
       "  \n",
       "         [[[-2.35682756e-01,  3.85486409e-02, -3.29962134e-01],\n",
       "           [ 1.83550164e-01,  1.85449272e-01, -1.93831041e-01],\n",
       "           [ 5.64748645e-02, -2.67751694e-01, -2.00781763e-01]]],\n",
       "  \n",
       "  \n",
       "         [[[ 2.92331465e-02,  2.81367749e-01, -7.24283233e-02],\n",
       "           [-3.12672667e-02,  1.71600595e-01,  3.87538671e-01],\n",
       "           [-1.80860355e-01, -4.67963926e-02, -2.41077214e-01]]],\n",
       "  \n",
       "  \n",
       "         [[[-3.28971539e-04,  1.46203458e-01, -2.70914674e-01],\n",
       "           [ 1.54756159e-01, -2.88379729e-01, -2.61617452e-01],\n",
       "           [-1.25378132e-01,  2.35791713e-01,  1.21507775e-02]]],\n",
       "  \n",
       "  \n",
       "         [[[-1.53639093e-01, -9.25718695e-02, -8.44392851e-02],\n",
       "           [ 1.92599162e-01, -2.31092393e-01,  5.25472090e-02],\n",
       "           [-1.54146358e-01,  1.61706209e-01, -6.01559505e-02]]],\n",
       "  \n",
       "  \n",
       "         [[[-2.70249188e-01,  1.47629961e-01, -1.38064206e-01],\n",
       "           [ 9.37595312e-03,  2.77272910e-02, -4.49657179e-02],\n",
       "           [ 1.45214915e-01,  2.03452274e-01, -1.92475095e-01]]],\n",
       "  \n",
       "  \n",
       "         [[[ 1.81316212e-01,  9.88962594e-03, -2.03337930e-02],\n",
       "           [ 1.60287216e-01, -2.08522677e-01,  1.89424351e-01],\n",
       "           [-8.38447586e-02,  2.41537482e-01, -1.87462851e-01]]],\n",
       "  \n",
       "  \n",
       "         [[[ 8.54365714e-03, -2.30174154e-01,  2.54069492e-02],\n",
       "           [-1.04540408e-01,  2.48790309e-01,  1.67492285e-01],\n",
       "           [ 1.23839989e-01,  3.08281392e-01, -2.59082377e-01]]],\n",
       "  \n",
       "  \n",
       "         [[[-4.17003296e-02, -3.54784355e-03,  6.52093589e-02],\n",
       "           [-1.46534428e-01,  1.62905186e-01,  9.17831063e-03],\n",
       "           [-3.95861328e-01, -5.05978195e-03,  2.71444172e-01]]],\n",
       "  \n",
       "  \n",
       "         [[[-2.69823790e-01, -1.53088182e-01,  5.72652146e-02],\n",
       "           [-9.70790535e-02,  3.60089034e-01, -9.04475525e-02],\n",
       "           [-2.49063037e-02,  4.84741256e-02,  2.74694115e-01]]],\n",
       "  \n",
       "  \n",
       "         [[[ 1.60327256e-01, -6.56090230e-02,  1.43618926e-01],\n",
       "           [-1.06394790e-01, -1.30071014e-01, -1.94833502e-02],\n",
       "           [-3.39097470e-01,  9.33058932e-02,  2.37593532e-01]]],\n",
       "  \n",
       "  \n",
       "         [[[-4.50131372e-02,  1.70512851e-02, -5.50452322e-02],\n",
       "           [ 4.02294025e-02, -4.84777875e-02, -2.23378554e-01],\n",
       "           [-2.18219921e-01,  1.15573116e-01,  3.09960544e-02]]],\n",
       "  \n",
       "  \n",
       "         [[[-2.41983950e-01, -3.05261493e-01, -1.30940109e-01],\n",
       "           [ 3.36275883e-02,  1.41549855e-01, -3.23411763e-01],\n",
       "           [ 1.41132012e-01, -5.33148907e-02,  6.38654381e-02]]],\n",
       "  \n",
       "  \n",
       "         [[[-2.14172482e-01,  1.88694313e-01,  1.69128299e-01],\n",
       "           [-1.03474587e-01, -2.77177930e-01,  5.79667091e-03],\n",
       "           [ 1.41287282e-01,  1.13839060e-01, -2.69540310e-01]]],\n",
       "  \n",
       "  \n",
       "         [[[-3.87637645e-01,  2.58927584e-01, -2.70244539e-01],\n",
       "           [-2.63485193e-01,  1.53188914e-01, -3.34676236e-01],\n",
       "           [-2.23621294e-01, -4.92302328e-03, -2.74318457e-01]]],\n",
       "  \n",
       "  \n",
       "         [[[ 3.41136754e-01, -1.43963009e-01, -6.25878796e-02],\n",
       "           [-1.50038525e-01,  1.31812856e-01,  3.39415163e-01],\n",
       "           [-1.79740757e-01,  2.38688439e-02, -5.71389012e-02]]]],\n",
       "        dtype=float32)},\n",
       " {'features_config_id': 1,\n",
       "  'dropout_config_id': 1,\n",
       "  'lr_config_id': 2,\n",
       "  'epochs_config_id': 1,\n",
       "  'layer': 'conv2.bias',\n",
       "  'weights': array([-0.10307139, -0.08073657, -0.10773873, -0.02578883, -0.02786762,\n",
       "         -0.05198716, -0.02176897, -0.0466007 , -0.04605456, -0.06268577,\n",
       "         -0.06745198, -0.06557348, -0.11862184, -0.10004321, -0.08686852,\n",
       "         -0.10275701, -0.03789702, -0.06232484, -0.11322562, -0.10462096,\n",
       "         -0.05315004, -0.03770746, -0.02087278, -0.03803886, -0.01050316,\n",
       "         -0.06845255, -0.04362513, -0.08462683, -0.09823405, -0.09004518,\n",
       "         -0.01816215, -0.01126364], dtype=float32)},\n",
       " {'features_config_id': 1,\n",
       "  'dropout_config_id': 1,\n",
       "  'lr_config_id': 2,\n",
       "  'epochs_config_id': 1,\n",
       "  'layer': 'conv2.weight',\n",
       "  'weights': array([[[[-0.09706105, -0.01581618, -0.03716152],\n",
       "           [-0.03497019, -0.02921018, -0.14085518],\n",
       "           [-0.1123285 , -0.07336225, -0.04171491]],\n",
       "  \n",
       "          [[-0.05965324, -0.08977479, -0.02867674],\n",
       "           [-0.08342902, -0.0332901 , -0.06313611],\n",
       "           [-0.02863776, -0.06103571, -0.0935805 ]],\n",
       "  \n",
       "          [[-0.10776809, -0.10853765, -0.08488471],\n",
       "           [-0.00867902, -0.04234014, -0.07488018],\n",
       "           [-0.1213818 , -0.11448383, -0.11723267]],\n",
       "  \n",
       "          ...,\n",
       "  \n",
       "          [[-0.12532106, -0.09551837, -0.01936875],\n",
       "           [-0.06959803, -0.12327497, -0.09879916],\n",
       "           [-0.01011859, -0.07335684, -0.09089174]],\n",
       "  \n",
       "          [[-0.11137598, -0.08014043, -0.093566  ],\n",
       "           [-0.09941342, -0.14447407, -0.04918506],\n",
       "           [-0.12163579, -0.08955493, -0.05975852]],\n",
       "  \n",
       "          [[-0.01076481, -0.06886329, -0.1128069 ],\n",
       "           [-0.12358862, -0.09484469, -0.04282195],\n",
       "           [-0.13271597, -0.11473456, -0.03346287]]],\n",
       "  \n",
       "  \n",
       "         [[[-0.13578919, -0.05355719, -0.1088468 ],\n",
       "           [-0.12981136, -0.14648725, -0.03633887],\n",
       "           [-0.05504316, -0.1152413 , -0.0648151 ]],\n",
       "  \n",
       "          [[-0.1317525 , -0.03938713, -0.03162015],\n",
       "           [-0.10229852, -0.01142277, -0.04689772],\n",
       "           [-0.08867185, -0.05141101, -0.08845206]],\n",
       "  \n",
       "          [[-0.10949147, -0.07639737, -0.11908333],\n",
       "           [-0.11640335, -0.02964803, -0.04594999],\n",
       "           [-0.08523691, -0.0492447 , -0.13874128]],\n",
       "  \n",
       "          ...,\n",
       "  \n",
       "          [[-0.03733886, -0.13566495, -0.11440973],\n",
       "           [-0.04124301, -0.04405195, -0.02109578],\n",
       "           [-0.0679808 , -0.07743498, -0.04621663]],\n",
       "  \n",
       "          [[-0.0937577 , -0.12434441, -0.13173376],\n",
       "           [-0.05401523, -0.07153583, -0.14061554],\n",
       "           [-0.1291325 , -0.06223265, -0.1317978 ]],\n",
       "  \n",
       "          [[-0.10258813, -0.11577142, -0.08647877],\n",
       "           [-0.04450847, -0.05438504, -0.13969995],\n",
       "           [-0.04053612, -0.04820424, -0.0972197 ]]],\n",
       "  \n",
       "  \n",
       "         [[[-0.0791804 , -0.11070433, -0.02667093],\n",
       "           [-0.09097163, -0.10450999, -0.10379395],\n",
       "           [-0.09136394, -0.03188078, -0.06864852]],\n",
       "  \n",
       "          [[-0.01459572, -0.01038005, -0.10870954],\n",
       "           [-0.11372897, -0.04049541, -0.09836958],\n",
       "           [-0.04056548, -0.06634969, -0.09124555]],\n",
       "  \n",
       "          [[-0.0459659 , -0.1133769 , -0.05122397],\n",
       "           [-0.01404523, -0.09545097, -0.04729574],\n",
       "           [-0.03677516, -0.02252327, -0.0964302 ]],\n",
       "  \n",
       "          ...,\n",
       "  \n",
       "          [[-0.05429578, -0.11664328, -0.06022813],\n",
       "           [-0.10841744, -0.08197884, -0.0494616 ],\n",
       "           [-0.09171722, -0.11689969, -0.12343154]],\n",
       "  \n",
       "          [[-0.05738475, -0.03312562, -0.00925946],\n",
       "           [-0.12150821, -0.12100744, -0.1071516 ],\n",
       "           [-0.07775854, -0.11347072, -0.02411051]],\n",
       "  \n",
       "          [[-0.02355933, -0.05067173, -0.03830039],\n",
       "           [-0.10690989, -0.08531326, -0.05416698],\n",
       "           [-0.09805129, -0.0310663 , -0.07344387]]],\n",
       "  \n",
       "  \n",
       "         ...,\n",
       "  \n",
       "  \n",
       "         [[[-0.11336617, -0.10304611, -0.00961811],\n",
       "           [-0.09901724, -0.02994438, -0.08452845],\n",
       "           [-0.05791323, -0.01021809, -0.03152575]],\n",
       "  \n",
       "          [[-0.07676917, -0.0688283 , -0.07937124],\n",
       "           [-0.0769285 , -0.11277507, -0.09490488],\n",
       "           [-0.07370218, -0.06296071, -0.06255364]],\n",
       "  \n",
       "          [[-0.07569139, -0.1172668 , -0.11251393],\n",
       "           [-0.08050238, -0.02334142, -0.05088997],\n",
       "           [-0.04840453, -0.05401343, -0.02935146]],\n",
       "  \n",
       "          ...,\n",
       "  \n",
       "          [[-0.03877126, -0.0644128 , -0.03425204],\n",
       "           [-0.03686704, -0.05766189, -0.02827518],\n",
       "           [-0.00132937, -0.02080287, -0.01328723]],\n",
       "  \n",
       "          [[-0.01619377, -0.02668836, -0.1054448 ],\n",
       "           [-0.06421175, -0.01850842, -0.04461013],\n",
       "           [-0.09768282, -0.07194099, -0.03314023]],\n",
       "  \n",
       "          [[-0.04638448, -0.09830243, -0.03097093],\n",
       "           [-0.01708066, -0.01782771, -0.05766499],\n",
       "           [-0.06257574, -0.04937908, -0.04133604]]],\n",
       "  \n",
       "  \n",
       "         [[[-0.10831314, -0.10297   , -0.04463492],\n",
       "           [-0.10830399, -0.07270163, -0.03391061],\n",
       "           [-0.05812223, -0.1036282 , -0.07876161]],\n",
       "  \n",
       "          [[-0.07720681, -0.01423443, -0.0595012 ],\n",
       "           [-0.09023937, -0.06613838, -0.04504112],\n",
       "           [-0.01060987, -0.01431495, -0.10621972]],\n",
       "  \n",
       "          [[-0.05502164, -0.09252626, -0.11549428],\n",
       "           [-0.04375372, -0.11215881, -0.10718473],\n",
       "           [-0.11623677, -0.09344966, -0.12476575]],\n",
       "  \n",
       "          ...,\n",
       "  \n",
       "          [[-0.08768196, -0.04227728, -0.05768486],\n",
       "           [-0.06590361, -0.09311016, -0.08195162],\n",
       "           [-0.01037732, -0.03352417, -0.0577905 ]],\n",
       "  \n",
       "          [[-0.05345609, -0.08242618, -0.0934762 ],\n",
       "           [-0.04200384, -0.10861376, -0.07627728],\n",
       "           [-0.10090008, -0.1219253 , -0.02405199]],\n",
       "  \n",
       "          [[-0.02551054, -0.12265477, -0.03768164],\n",
       "           [-0.05873418, -0.06705499, -0.05354346],\n",
       "           [-0.08365063, -0.10521248, -0.08032152]]],\n",
       "  \n",
       "  \n",
       "         [[[-0.13689442, -0.01389915, -0.12964693],\n",
       "           [-0.06888136, -0.03568966, -0.13805047],\n",
       "           [-0.05789443, -0.05172104, -0.11798568]],\n",
       "  \n",
       "          [[-0.13465418, -0.0172672 , -0.0960253 ],\n",
       "           [-0.11338723, -0.12007341, -0.01337926],\n",
       "           [-0.11621471, -0.080198  , -0.06343527]],\n",
       "  \n",
       "          [[-0.1097847 , -0.06019567, -0.03796938],\n",
       "           [-0.04742097, -0.14127143, -0.0628103 ],\n",
       "           [-0.10792155, -0.11161244, -0.04353042]],\n",
       "  \n",
       "          ...,\n",
       "  \n",
       "          [[-0.01409434, -0.05625261, -0.04689192],\n",
       "           [-0.07808113, -0.10323767, -0.0940996 ],\n",
       "           [-0.08100898, -0.08561876, -0.0110025 ]],\n",
       "  \n",
       "          [[-0.05070617, -0.05831898, -0.0115185 ],\n",
       "           [-0.08753733, -0.10869519, -0.10634425],\n",
       "           [-0.02930177, -0.10175213, -0.12548794]],\n",
       "  \n",
       "          [[-0.08224919, -0.03899024, -0.03339706],\n",
       "           [-0.14426813, -0.07566503, -0.06673656],\n",
       "           [-0.13072585, -0.10819621, -0.13003968]]]], dtype=float32)},\n",
       " {'features_config_id': 1,\n",
       "  'dropout_config_id': 1,\n",
       "  'lr_config_id': 2,\n",
       "  'epochs_config_id': 1,\n",
       "  'layer': 'fc1.bias',\n",
       "  'weights': array([-0.0387611 , -0.04249604, -0.02861511, -0.05078811, -0.01496211,\n",
       "         -0.04931242, -0.02115695, -0.02144876, -0.05213377, -0.06606241,\n",
       "         -0.02508784, -0.0340129 , -0.0152001 , -0.06500326, -0.06624844,\n",
       "         -0.03504343, -0.06866513, -0.03737905, -0.04631758, -0.03936172,\n",
       "         -0.01387708, -0.05176781, -0.02561517, -0.02294677, -0.06086701,\n",
       "         -0.06564844, -0.04098294, -0.06732836, -0.05331394, -0.06107333,\n",
       "         -0.04867131, -0.06096267, -0.0188704 , -0.04340747, -0.01023997,\n",
       "         -0.04321368, -0.03668876, -0.02701342, -0.0530593 , -0.0369795 ,\n",
       "         -0.05832116, -0.04613577, -0.01105247, -0.06983534, -0.05181977,\n",
       "         -0.07435258, -0.06602322, -0.01711197, -0.05919573, -0.04733522,\n",
       "         -0.06440821, -0.06512358, -0.00804236, -0.04783223, -0.03541315,\n",
       "         -0.06135403, -0.04974581, -0.06414595, -0.04942826, -0.07468871,\n",
       "         -0.01504919, -0.02192027, -0.05726966, -0.07384037, -0.04754903,\n",
       "         -0.04823153, -0.07364444, -0.06958301, -0.03018166, -0.0648424 ,\n",
       "         -0.04701778, -0.01498185, -0.05787837, -0.0403694 , -0.07171765,\n",
       "         -0.03020437, -0.04377262, -0.02889367, -0.04407264, -0.01759772,\n",
       "         -0.04743842, -0.03231082, -0.02327405, -0.00408284, -0.04303768,\n",
       "         -0.0569209 , -0.0458655 , -0.04942758, -0.04357611, -0.00948742,\n",
       "         -0.03617777, -0.02085237, -0.05154567, -0.03226854, -0.06260691,\n",
       "         -0.03421533, -0.06963933, -0.03323865, -0.04806751, -0.04666134,\n",
       "         -0.05918791, -0.02206124, -0.05015384, -0.02173347, -0.07337708,\n",
       "         -0.07012165, -0.03437021, -0.02810198, -0.0177535 , -0.01665841,\n",
       "         -0.07118756, -0.00273724, -0.0389367 , -0.06034208, -0.05806576,\n",
       "         -0.01149733, -0.02308193, -0.05170277, -0.03735532, -0.06639028,\n",
       "         -0.02603121, -0.05211543, -0.03576969, -0.04794615, -0.03167356,\n",
       "         -0.06962749, -0.03830018, -0.00860636], dtype=float32)},\n",
       " {'features_config_id': 1,\n",
       "  'dropout_config_id': 1,\n",
       "  'lr_config_id': 2,\n",
       "  'epochs_config_id': 1,\n",
       "  'layer': 'fc1.weight',\n",
       "  'weights': array([[-0.05610866, -0.04694441, -0.04228852, ...,  0.05698719,\n",
       "          -0.01387466,  0.00554492],\n",
       "         [-0.04732955, -0.06237277, -0.05646962, ..., -0.00318371,\n",
       "          -0.00114812,  0.00308286],\n",
       "         [ 0.05986557,  0.0443134 ,  0.04191627, ...,  0.06024469,\n",
       "           0.04957021, -0.01292216],\n",
       "         ...,\n",
       "         [ 0.00672904,  0.00984045, -0.01085687, ..., -0.07093643,\n",
       "           0.01300075,  0.00645693],\n",
       "         [-0.06016909, -0.04956168, -0.06894973, ..., -0.0034243 ,\n",
       "           0.04431019,  0.0136009 ],\n",
       "         [ 0.06533309,  0.05116681,  0.05422353, ..., -0.0632753 ,\n",
       "          -0.00225961,  0.00827688]], dtype=float32)},\n",
       " {'features_config_id': 1,\n",
       "  'dropout_config_id': 1,\n",
       "  'lr_config_id': 2,\n",
       "  'epochs_config_id': 1,\n",
       "  'layer': 'fc2.bias',\n",
       "  'weights': array([-0.01163492,  0.07849746,  0.01180712,  0.0431885 , -0.01171655,\n",
       "         -0.09645274, -0.03641933,  0.1097055 , -0.02225926, -0.03695384],\n",
       "        dtype=float32)},\n",
       " {'features_config_id': 1,\n",
       "  'dropout_config_id': 1,\n",
       "  'lr_config_id': 2,\n",
       "  'epochs_config_id': 1,\n",
       "  'layer': 'fc2.weight',\n",
       "  'weights': array([[ 0.04155058,  0.08324405,  0.08027975, ..., -0.05288898,\n",
       "          -0.02386918,  0.0886848 ],\n",
       "         [-0.03693343,  0.02666433,  0.04614033, ..., -0.00198254,\n",
       "           0.00691372, -0.09114057],\n",
       "         [ 0.00529806,  0.06412075,  0.0490199 , ...,  0.02498348,\n",
       "           0.01553106,  0.13220683],\n",
       "         ...,\n",
       "         [ 0.0460677 ,  0.03058928,  0.00024016, ...,  0.02482107,\n",
       "           0.05440013, -0.04448142],\n",
       "         [ 0.13810714,  0.1291775 ,  0.08838874, ...,  0.07561864,\n",
       "           0.09559534,  0.08018965],\n",
       "         [-0.05329945, -0.05106721, -0.06796344, ...,  0.00333922,\n",
       "          -0.02571797, -0.05107097]], dtype=float32)}]"
      ]
     },
     "execution_count": 55,
     "metadata": {},
     "output_type": "execute_result"
    }
   ],
   "source": [
    "Train().Weights().fetch(as_dict=True)"
   ]
  },
  {
   "cell_type": "markdown",
   "id": "b854d8c6-34a5-48b0-9a82-c16fea0ded9b",
   "metadata": {
    "tags": []
   },
   "source": [
    "### Parallel jobs"
   ]
  },
  {
   "cell_type": "code",
   "execution_count": 57,
   "id": "83aa9f9b-545d-496c-ae8f-4b106c363d4d",
   "metadata": {
    "tags": []
   },
   "outputs": [
    {
     "data": {
      "text/html": [
       "\n",
       "    \n",
       "    <style type=\"text/css\">\n",
       "        .Table{\n",
       "            border-collapse:collapse;\n",
       "        }\n",
       "        .Table th{\n",
       "            background: #A0A0A0; color: #ffffff; padding:4px; border:#f0e0e0 1px solid;\n",
       "            font-weight: normal; font-family: monospace; font-size: 100%;\n",
       "        }\n",
       "        .Table td{\n",
       "            padding:4px; border:#f0e0e0 1px solid; font-size:100%;\n",
       "        }\n",
       "        .Table tr:nth-child(odd){\n",
       "            background: #ffffff;\n",
       "        }\n",
       "        .Table tr:nth-child(even){\n",
       "            background: #f3f1ff;\n",
       "        }\n",
       "        /* Tooltip container */\n",
       "        .djtooltip {\n",
       "        }\n",
       "        /* Tooltip text */\n",
       "        .djtooltip .djtooltiptext {\n",
       "            visibility: hidden;\n",
       "            width: 120px;\n",
       "            background-color: black;\n",
       "            color: #fff;\n",
       "            text-align: center;\n",
       "            padding: 5px 0;\n",
       "            border-radius: 6px;\n",
       "            /* Position the tooltip text - see examples below! */\n",
       "            position: absolute;\n",
       "            z-index: 1;\n",
       "        }\n",
       "        #primary {\n",
       "            font-weight: bold;\n",
       "            color: black;\n",
       "        }\n",
       "        #nonprimary {\n",
       "            font-weight: normal;\n",
       "            color: white;\n",
       "        }\n",
       "\n",
       "        /* Show the tooltip text when you mouse over the tooltip container */\n",
       "        .djtooltip:hover .djtooltiptext {\n",
       "            visibility: visible;\n",
       "        }\n",
       "    </style>\n",
       "    \n",
       "    <b>job reservation table for `tutorial`</b>\n",
       "        <div style=\"max-height:1000px;max-width:1500px;overflow:auto;\">\n",
       "        <table border=\"1\" class=\"Table\">\n",
       "            <thead> <tr style=\"text-align: right;\"> <th> <div class=\"djtooltip\">\n",
       "                            <p id=\"primary\">table_name</p>\n",
       "                            <span class=\"djtooltiptext\">className of the table</span>\n",
       "                        </div></th><th><div class=\"djtooltip\">\n",
       "                            <p id=\"primary\">key_hash</p>\n",
       "                            <span class=\"djtooltiptext\">key hash</span>\n",
       "                        </div></th><th><div class=\"djtooltip\">\n",
       "                            <p id=\"nonprimary\">status</p>\n",
       "                            <span class=\"djtooltiptext\">if tuple is missing, the job is available</span>\n",
       "                        </div></th><th><div class=\"djtooltip\">\n",
       "                            <p id=\"nonprimary\">key</p>\n",
       "                            <span class=\"djtooltiptext\">structure containing the key</span>\n",
       "                        </div></th><th><div class=\"djtooltip\">\n",
       "                            <p id=\"nonprimary\">error_message</p>\n",
       "                            <span class=\"djtooltiptext\">error message returned if failed</span>\n",
       "                        </div></th><th><div class=\"djtooltip\">\n",
       "                            <p id=\"nonprimary\">error_stack</p>\n",
       "                            <span class=\"djtooltiptext\">error stack if failed</span>\n",
       "                        </div></th><th><div class=\"djtooltip\">\n",
       "                            <p id=\"nonprimary\">user</p>\n",
       "                            <span class=\"djtooltiptext\">database user</span>\n",
       "                        </div></th><th><div class=\"djtooltip\">\n",
       "                            <p id=\"nonprimary\">host</p>\n",
       "                            <span class=\"djtooltiptext\">system hostname</span>\n",
       "                        </div></th><th><div class=\"djtooltip\">\n",
       "                            <p id=\"nonprimary\">pid</p>\n",
       "                            <span class=\"djtooltiptext\">system process id</span>\n",
       "                        </div></th><th><div class=\"djtooltip\">\n",
       "                            <p id=\"nonprimary\">connection_id</p>\n",
       "                            <span class=\"djtooltiptext\">connection_id()</span>\n",
       "                        </div></th><th><div class=\"djtooltip\">\n",
       "                            <p id=\"nonprimary\">timestamp</p>\n",
       "                            <span class=\"djtooltiptext\">automatic timestamp</span>\n",
       "                        </div> </th> </tr> </thead>\n",
       "            <tbody> <tr> <td>__train</td>\n",
       "<td>571e0f7e2d992e738adff8b1bd43a521</td>\n",
       "<td>error</td>\n",
       "<td>=BLOB=</td>\n",
       "<td>KeyboardInterrupt</td>\n",
       "<td>=BLOB=</td>\n",
       "<td>root@172.17.0.1</td>\n",
       "<td>Ivans-MacBook-Air.local</td>\n",
       "<td>85740</td>\n",
       "<td>11</td>\n",
       "<td>2023-04-25 16:16:02</td></tr><tr><td>__train</td>\n",
       "<td>b59c67bf196a4758191e42f76670ceba</td>\n",
       "<td>reserved</td>\n",
       "<td>=BLOB=</td>\n",
       "<td></td>\n",
       "<td>=BLOB=</td>\n",
       "<td>root@172.17.0.1</td>\n",
       "<td>Ivans-MacBook-Air.local</td>\n",
       "<td>85740</td>\n",
       "<td>11</td>\n",
       "<td>2023-04-25 16:16:16</td></tr><tr><td>__train</td>\n",
       "<td>f6e794a75c5d51de081dbefa224304f9</td>\n",
       "<td>reserved</td>\n",
       "<td>=BLOB=</td>\n",
       "<td></td>\n",
       "<td>=BLOB=</td>\n",
       "<td>root@172.17.0.1</td>\n",
       "<td>Ivans-MacBook-Air.local</td>\n",
       "<td>85761</td>\n",
       "<td>12</td>\n",
       "<td>2023-04-25 16:16:17</td></tr><tr><td>__train</td>\n",
       "<td>f7f580e11d00a75814d2ded41fe8e8fe</td>\n",
       "<td>error</td>\n",
       "<td>=BLOB=</td>\n",
       "<td>RuntimeError: File not found or corrupted.</td>\n",
       "<td>=BLOB=</td>\n",
       "<td>root@172.17.0.1</td>\n",
       "<td>Ivans-MacBook-Air.local</td>\n",
       "<td>85740</td>\n",
       "<td>11</td>\n",
       "<td>2023-04-25 16:16:16</td></tr><tr><td>__train</td>\n",
       "<td>fe709c654eac84d5239d1a12a4f71877</td>\n",
       "<td>error</td>\n",
       "<td>=BLOB=</td>\n",
       "<td>RuntimeError: File not found or corrupted.</td>\n",
       "<td>=BLOB=</td>\n",
       "<td>root@172.17.0.1</td>\n",
       "<td>Ivans-MacBook-Air.local</td>\n",
       "<td>85761</td>\n",
       "<td>12</td>\n",
       "<td>2023-04-25 16:16:17</td> </tr> </tbody>\n",
       "        </table>\n",
       "        \n",
       "        <p>Total: 5</p></div>\n",
       "        "
      ],
      "text/plain": [
       "*table_name    *key_hash      status       key        error_message  error_stac user           host           pid       connection_id  timestamp     \n",
       "+------------+ +------------+ +----------+ +--------+ +------------+ +--------+ +------------+ +------------+ +-------+ +------------+ +------------+\n",
       "__train        571e0f7e2d992e error        =BLOB=     KeyboardInterr =BLOB=     root@172.17.0. Ivans-MacBook- 85740     11             2023-04-25 16:\n",
       "__train        b59c67bf196a47 reserved     =BLOB=                    =BLOB=     root@172.17.0. Ivans-MacBook- 85740     11             2023-04-25 16:\n",
       "__train        f6e794a75c5d51 reserved     =BLOB=                    =BLOB=     root@172.17.0. Ivans-MacBook- 85761     12             2023-04-25 16:\n",
       "__train        f7f580e11d00a7 error        =BLOB=     RuntimeError:  =BLOB=     root@172.17.0. Ivans-MacBook- 85740     11             2023-04-25 16:\n",
       "__train        fe709c654eac84 error        =BLOB=     RuntimeError:  =BLOB=     root@172.17.0. Ivans-MacBook- 85761     12             2023-04-25 16:\n",
       " (Total: 5)"
      ]
     },
     "execution_count": 57,
     "metadata": {},
     "output_type": "execute_result"
    }
   ],
   "source": [
    "schema.jobs"
   ]
  },
  {
   "cell_type": "code",
   "execution_count": 58,
   "id": "ffac9f3d-80a3-4373-a6a2-d204e496be5a",
   "metadata": {
    "tags": []
   },
   "outputs": [
    {
     "name": "stdout",
     "output_type": "stream",
     "text": [
      "Traceback (most recent call last):\n",
      "  File \"/Users/ivust/TU_Dortmund/Projects/DataJoint_Tutorial/.venv/lib/python3.11/site-packages/datajoint/autopopulate.py\", line 292, in _populate1\n",
      "    make(dict(key), **(make_kwargs or {}))\n",
      "  File \"/Users/ivust/TU_Dortmund/Projects/DataJoint_Tutorial/datajoint_tutorial/schema.py\", line 64, in make\n",
      "    train_loader, test_loader = get_dataloaders(batch_size=64)\n",
      "                                ^^^^^^^^^^^^^^^^^^^^^^^^^^^^^^\n",
      "  File \"/Users/ivust/TU_Dortmund/Projects/DataJoint_Tutorial/datajoint_tutorial/torch_network.py\", line 75, in get_dataloaders\n",
      "    dataset1 = datasets.MNIST('data', train=True, download=True,\n",
      "               ^^^^^^^^^^^^^^^^^^^^^^^^^^^^^^^^^^^^^^^^^^^^^^^^^\n",
      "  File \"/Users/ivust/TU_Dortmund/Projects/DataJoint_Tutorial/.venv/lib/python3.11/site-packages/torchvision/datasets/mnist.py\", line 99, in __init__\n",
      "    self.download()\n",
      "  File \"/Users/ivust/TU_Dortmund/Projects/DataJoint_Tutorial/.venv/lib/python3.11/site-packages/torchvision/datasets/mnist.py\", line 187, in download\n",
      "    download_and_extract_archive(url, download_root=self.raw_folder, filename=filename, md5=md5)\n",
      "  File \"/Users/ivust/TU_Dortmund/Projects/DataJoint_Tutorial/.venv/lib/python3.11/site-packages/torchvision/datasets/utils.py\", line 434, in download_and_extract_archive\n",
      "    download_url(url, download_root, filename, md5)\n",
      "  File \"/Users/ivust/TU_Dortmund/Projects/DataJoint_Tutorial/.venv/lib/python3.11/site-packages/torchvision/datasets/utils.py\", line 144, in download_url\n",
      "    _urlretrieve(url, fpath)\n",
      "  File \"/Users/ivust/TU_Dortmund/Projects/DataJoint_Tutorial/.venv/lib/python3.11/site-packages/torchvision/datasets/utils.py\", line 48, in _urlretrieve\n",
      "    _save_response_content(iter(lambda: response.read(chunk_size), b\"\"), filename, length=response.length)\n",
      "  File \"/Users/ivust/TU_Dortmund/Projects/DataJoint_Tutorial/.venv/lib/python3.11/site-packages/torchvision/datasets/utils.py\", line 37, in _save_response_content\n",
      "    for chunk in content:\n",
      "  File \"/Users/ivust/TU_Dortmund/Projects/DataJoint_Tutorial/.venv/lib/python3.11/site-packages/torchvision/datasets/utils.py\", line 48, in <lambda>\n",
      "    _save_response_content(iter(lambda: response.read(chunk_size), b\"\"), filename, length=response.length)\n",
      "                                        ^^^^^^^^^^^^^^^^^^^^^^^^^\n",
      "  File \"/opt/homebrew/Cellar/python@3.11/3.11.3/Frameworks/Python.framework/Versions/3.11/lib/python3.11/http/client.py\", line 466, in read\n",
      "    s = self.fp.read(amt)\n",
      "        ^^^^^^^^^^^^^^^^^\n",
      "  File \"/opt/homebrew/Cellar/python@3.11/3.11.3/Frameworks/Python.framework/Versions/3.11/lib/python3.11/socket.py\", line 706, in readinto\n",
      "    return self._sock.recv_into(b)\n",
      "           ^^^^^^^^^^^^^^^^^^^^^^^\n",
      "KeyboardInterrupt\n",
      "\n"
     ]
    }
   ],
   "source": [
    "print(schema.jobs.fetch(\"error_stack\", limit=1)[0])"
   ]
  },
  {
   "cell_type": "code",
   "execution_count": 59,
   "id": "3614377c-54cb-4719-aba2-25cc0b651df5",
   "metadata": {
    "tags": []
   },
   "outputs": [
    {
     "data": {
      "text/plain": [
       "array([{'features_config_id': 3, 'dropout_config_id': 1, 'lr_config_id': 2, 'epochs_config_id': 1},\n",
       "       {'features_config_id': 1, 'dropout_config_id': 1, 'lr_config_id': 1, 'epochs_config_id': 1},\n",
       "       {'features_config_id': 3, 'dropout_config_id': 2, 'lr_config_id': 2, 'epochs_config_id': 1},\n",
       "       {'features_config_id': 4, 'dropout_config_id': 1, 'lr_config_id': 1, 'epochs_config_id': 1},\n",
       "       {'features_config_id': 3, 'dropout_config_id': 1, 'lr_config_id': 1, 'epochs_config_id': 1}],\n",
       "      dtype=object)"
      ]
     },
     "execution_count": 59,
     "metadata": {},
     "output_type": "execute_result"
    }
   ],
   "source": [
    "schema.jobs.fetch(\"key\")"
   ]
  },
  {
   "cell_type": "code",
   "execution_count": 67,
   "id": "b20605ba-e238-4302-a84b-2afda499aae4",
   "metadata": {
    "tags": []
   },
   "outputs": [
    {
     "data": {
      "text/html": [
       "\n",
       "    \n",
       "    <style type=\"text/css\">\n",
       "        .Table{\n",
       "            border-collapse:collapse;\n",
       "        }\n",
       "        .Table th{\n",
       "            background: #A0A0A0; color: #ffffff; padding:4px; border:#f0e0e0 1px solid;\n",
       "            font-weight: normal; font-family: monospace; font-size: 100%;\n",
       "        }\n",
       "        .Table td{\n",
       "            padding:4px; border:#f0e0e0 1px solid; font-size:100%;\n",
       "        }\n",
       "        .Table tr:nth-child(odd){\n",
       "            background: #ffffff;\n",
       "        }\n",
       "        .Table tr:nth-child(even){\n",
       "            background: #f3f1ff;\n",
       "        }\n",
       "        /* Tooltip container */\n",
       "        .djtooltip {\n",
       "        }\n",
       "        /* Tooltip text */\n",
       "        .djtooltip .djtooltiptext {\n",
       "            visibility: hidden;\n",
       "            width: 120px;\n",
       "            background-color: black;\n",
       "            color: #fff;\n",
       "            text-align: center;\n",
       "            padding: 5px 0;\n",
       "            border-radius: 6px;\n",
       "            /* Position the tooltip text - see examples below! */\n",
       "            position: absolute;\n",
       "            z-index: 1;\n",
       "        }\n",
       "        #primary {\n",
       "            font-weight: bold;\n",
       "            color: black;\n",
       "        }\n",
       "        #nonprimary {\n",
       "            font-weight: normal;\n",
       "            color: white;\n",
       "        }\n",
       "\n",
       "        /* Show the tooltip text when you mouse over the tooltip container */\n",
       "        .djtooltip:hover .djtooltiptext {\n",
       "            visibility: visible;\n",
       "        }\n",
       "    </style>\n",
       "    \n",
       "    <b></b>\n",
       "        <div style=\"max-height:1000px;max-width:1500px;overflow:auto;\">\n",
       "        <table border=\"1\" class=\"Table\">\n",
       "            <thead> <tr style=\"text-align: right;\"> <th> <div class=\"djtooltip\">\n",
       "                            <p id=\"primary\">features_config_id</p>\n",
       "                            <span class=\"djtooltiptext\">so-called primary key, must be unique</span>\n",
       "                        </div></th><th><div class=\"djtooltip\">\n",
       "                            <p id=\"primary\">dropout_config_id</p>\n",
       "                            <span class=\"djtooltiptext\">so-called primary key, must be unique</span>\n",
       "                        </div></th><th><div class=\"djtooltip\">\n",
       "                            <p id=\"primary\">lr_config_id</p>\n",
       "                            <span class=\"djtooltiptext\">so-called primary key, must be unique</span>\n",
       "                        </div></th><th><div class=\"djtooltip\">\n",
       "                            <p id=\"primary\">epochs_config_id</p>\n",
       "                            <span class=\"djtooltiptext\">so-called primary key, must be unique</span>\n",
       "                        </div></th><th><div class=\"djtooltip\">\n",
       "                            <p id=\"nonprimary\">train_loss</p>\n",
       "                            <span class=\"djtooltiptext\"></span>\n",
       "                        </div> </th> </tr> </thead>\n",
       "            <tbody> <tr> <td>1</td>\n",
       "<td>1</td>\n",
       "<td>1</td>\n",
       "<td>1</td>\n",
       "<td>0.0685394</td></tr><tr><td>1</td>\n",
       "<td>1</td>\n",
       "<td>2</td>\n",
       "<td>1</td>\n",
       "<td>2.30979</td></tr><tr><td>1</td>\n",
       "<td>2</td>\n",
       "<td>1</td>\n",
       "<td>1</td>\n",
       "<td>0.018592</td></tr><tr><td>2</td>\n",
       "<td>1</td>\n",
       "<td>1</td>\n",
       "<td>1</td>\n",
       "<td>0.00668384</td></tr><tr><td>2</td>\n",
       "<td>2</td>\n",
       "<td>2</td>\n",
       "<td>1</td>\n",
       "<td>0.152021</td></tr><tr><td>3</td>\n",
       "<td>2</td>\n",
       "<td>1</td>\n",
       "<td>1</td>\n",
       "<td>0.00224125</td></tr><tr><td>3</td>\n",
       "<td>2</td>\n",
       "<td>2</td>\n",
       "<td>1</td>\n",
       "<td>0.214565</td></tr><tr><td>4</td>\n",
       "<td>2</td>\n",
       "<td>2</td>\n",
       "<td>1</td>\n",
       "<td>0.524754</td> </tr> </tbody>\n",
       "        </table>\n",
       "        \n",
       "        <p>Total: 8</p></div>\n",
       "        "
      ],
      "text/plain": [
       "*features_conf *dropout_confi *lr_config_id  *epochs_config train_loss    \n",
       "+------------+ +------------+ +------------+ +------------+ +------------+\n",
       "1              1              1              1              0.0685394     \n",
       "1              1              2              1              2.30979       \n",
       "1              2              1              1              0.018592      \n",
       "2              1              1              1              0.00668384    \n",
       "2              2              2              1              0.152021      \n",
       "3              2              1              1              0.00224125    \n",
       "3              2              2              1              0.214565      \n",
       "4              2              2              1              0.524754      \n",
       " (Total: 8)"
      ]
     },
     "execution_count": 67,
     "metadata": {},
     "output_type": "execute_result"
    }
   ],
   "source": [
    "Train()"
   ]
  },
  {
   "cell_type": "code",
   "execution_count": 68,
   "id": "2ed3f15b-56ff-4531-9e02-f02ad6c4dfdf",
   "metadata": {
    "tags": []
   },
   "outputs": [],
   "source": [
    "best_loss_key = Train().fetch(\"KEY\", order_by=\"train_loss\", limit=1)"
   ]
  },
  {
   "cell_type": "code",
   "execution_count": 69,
   "id": "d14e3c47-03ca-4ee9-9c57-7bd5e9b2ae54",
   "metadata": {
    "tags": []
   },
   "outputs": [
    {
     "data": {
      "text/plain": [
       "[{'features_config_id': 3,\n",
       "  'dropout_config_id': 2,\n",
       "  'lr_config_id': 1,\n",
       "  'epochs_config_id': 1}]"
      ]
     },
     "execution_count": 69,
     "metadata": {},
     "output_type": "execute_result"
    }
   ],
   "source": [
    "best_loss_key"
   ]
  },
  {
   "cell_type": "code",
   "execution_count": 70,
   "id": "82203afe-606d-40a1-8d5d-e761a46030b9",
   "metadata": {
    "tags": []
   },
   "outputs": [
    {
     "data": {
      "text/html": [
       "\n",
       "    \n",
       "    <style type=\"text/css\">\n",
       "        .Table{\n",
       "            border-collapse:collapse;\n",
       "        }\n",
       "        .Table th{\n",
       "            background: #A0A0A0; color: #ffffff; padding:4px; border:#f0e0e0 1px solid;\n",
       "            font-weight: normal; font-family: monospace; font-size: 100%;\n",
       "        }\n",
       "        .Table td{\n",
       "            padding:4px; border:#f0e0e0 1px solid; font-size:100%;\n",
       "        }\n",
       "        .Table tr:nth-child(odd){\n",
       "            background: #ffffff;\n",
       "        }\n",
       "        .Table tr:nth-child(even){\n",
       "            background: #f3f1ff;\n",
       "        }\n",
       "        /* Tooltip container */\n",
       "        .djtooltip {\n",
       "        }\n",
       "        /* Tooltip text */\n",
       "        .djtooltip .djtooltiptext {\n",
       "            visibility: hidden;\n",
       "            width: 120px;\n",
       "            background-color: black;\n",
       "            color: #fff;\n",
       "            text-align: center;\n",
       "            padding: 5px 0;\n",
       "            border-radius: 6px;\n",
       "            /* Position the tooltip text - see examples below! */\n",
       "            position: absolute;\n",
       "            z-index: 1;\n",
       "        }\n",
       "        #primary {\n",
       "            font-weight: bold;\n",
       "            color: black;\n",
       "        }\n",
       "        #nonprimary {\n",
       "            font-weight: normal;\n",
       "            color: white;\n",
       "        }\n",
       "\n",
       "        /* Show the tooltip text when you mouse over the tooltip container */\n",
       "        .djtooltip:hover .djtooltiptext {\n",
       "            visibility: visible;\n",
       "        }\n",
       "    </style>\n",
       "    \n",
       "    <b></b>\n",
       "        <div style=\"max-height:1000px;max-width:1500px;overflow:auto;\">\n",
       "        <table border=\"1\" class=\"Table\">\n",
       "            <thead> <tr style=\"text-align: right;\"> <th> <div class=\"djtooltip\">\n",
       "                            <p id=\"primary\">features_config_id</p>\n",
       "                            <span class=\"djtooltiptext\">so-called primary key, must be unique</span>\n",
       "                        </div></th><th><div class=\"djtooltip\">\n",
       "                            <p id=\"primary\">dropout_config_id</p>\n",
       "                            <span class=\"djtooltiptext\">so-called primary key, must be unique</span>\n",
       "                        </div></th><th><div class=\"djtooltip\">\n",
       "                            <p id=\"primary\">lr_config_id</p>\n",
       "                            <span class=\"djtooltiptext\">so-called primary key, must be unique</span>\n",
       "                        </div></th><th><div class=\"djtooltip\">\n",
       "                            <p id=\"primary\">epochs_config_id</p>\n",
       "                            <span class=\"djtooltiptext\">so-called primary key, must be unique</span>\n",
       "                        </div></th><th><div class=\"djtooltip\">\n",
       "                            <p id=\"nonprimary\">train_loss</p>\n",
       "                            <span class=\"djtooltiptext\"></span>\n",
       "                        </div> </th> </tr> </thead>\n",
       "            <tbody> <tr> <td>3</td>\n",
       "<td>2</td>\n",
       "<td>1</td>\n",
       "<td>1</td>\n",
       "<td>0.00224125</td> </tr> </tbody>\n",
       "        </table>\n",
       "        \n",
       "        <p>Total: 1</p></div>\n",
       "        "
      ],
      "text/plain": [
       "*features_conf *dropout_confi *lr_config_id  *epochs_config train_loss    \n",
       "+------------+ +------------+ +------------+ +------------+ +------------+\n",
       "3              2              1              1              0.00224125    \n",
       " (Total: 1)"
      ]
     },
     "execution_count": 70,
     "metadata": {},
     "output_type": "execute_result"
    }
   ],
   "source": [
    "Train() & best_loss_key"
   ]
  },
  {
   "cell_type": "code",
   "execution_count": 71,
   "id": "f0d016a6-5516-47e1-997f-5737752dbf6e",
   "metadata": {
    "tags": []
   },
   "outputs": [
    {
     "data": {
      "text/html": [
       "\n",
       "    \n",
       "    <style type=\"text/css\">\n",
       "        .Table{\n",
       "            border-collapse:collapse;\n",
       "        }\n",
       "        .Table th{\n",
       "            background: #A0A0A0; color: #ffffff; padding:4px; border:#f0e0e0 1px solid;\n",
       "            font-weight: normal; font-family: monospace; font-size: 100%;\n",
       "        }\n",
       "        .Table td{\n",
       "            padding:4px; border:#f0e0e0 1px solid; font-size:100%;\n",
       "        }\n",
       "        .Table tr:nth-child(odd){\n",
       "            background: #ffffff;\n",
       "        }\n",
       "        .Table tr:nth-child(even){\n",
       "            background: #f3f1ff;\n",
       "        }\n",
       "        /* Tooltip container */\n",
       "        .djtooltip {\n",
       "        }\n",
       "        /* Tooltip text */\n",
       "        .djtooltip .djtooltiptext {\n",
       "            visibility: hidden;\n",
       "            width: 120px;\n",
       "            background-color: black;\n",
       "            color: #fff;\n",
       "            text-align: center;\n",
       "            padding: 5px 0;\n",
       "            border-radius: 6px;\n",
       "            /* Position the tooltip text - see examples below! */\n",
       "            position: absolute;\n",
       "            z-index: 1;\n",
       "        }\n",
       "        #primary {\n",
       "            font-weight: bold;\n",
       "            color: black;\n",
       "        }\n",
       "        #nonprimary {\n",
       "            font-weight: normal;\n",
       "            color: white;\n",
       "        }\n",
       "\n",
       "        /* Show the tooltip text when you mouse over the tooltip container */\n",
       "        .djtooltip:hover .djtooltiptext {\n",
       "            visibility: visible;\n",
       "        }\n",
       "    </style>\n",
       "    \n",
       "    \n",
       "        <div style=\"max-height:1000px;max-width:1500px;overflow:auto;\">\n",
       "        <table border=\"1\" class=\"Table\">\n",
       "            <thead> <tr style=\"text-align: right;\"> <th> <div class=\"djtooltip\">\n",
       "                            <p id=\"primary\">features_config_id</p>\n",
       "                            <span class=\"djtooltiptext\">so-called primary key, must be unique</span>\n",
       "                        </div></th><th><div class=\"djtooltip\">\n",
       "                            <p id=\"primary\">dropout_config_id</p>\n",
       "                            <span class=\"djtooltiptext\">so-called primary key, must be unique</span>\n",
       "                        </div></th><th><div class=\"djtooltip\">\n",
       "                            <p id=\"primary\">lr_config_id</p>\n",
       "                            <span class=\"djtooltiptext\">so-called primary key, must be unique</span>\n",
       "                        </div></th><th><div class=\"djtooltip\">\n",
       "                            <p id=\"primary\">epochs_config_id</p>\n",
       "                            <span class=\"djtooltiptext\">so-called primary key, must be unique</span>\n",
       "                        </div></th><th><div class=\"djtooltip\">\n",
       "                            <p id=\"nonprimary\">train_loss</p>\n",
       "                            <span class=\"djtooltiptext\"></span>\n",
       "                        </div></th><th><div class=\"djtooltip\">\n",
       "                            <p id=\"nonprimary\">num_features_1</p>\n",
       "                            <span class=\"djtooltiptext\"></span>\n",
       "                        </div></th><th><div class=\"djtooltip\">\n",
       "                            <p id=\"nonprimary\">num_features_2</p>\n",
       "                            <span class=\"djtooltiptext\"></span>\n",
       "                        </div></th><th><div class=\"djtooltip\">\n",
       "                            <p id=\"nonprimary\">dropout_prob</p>\n",
       "                            <span class=\"djtooltiptext\"></span>\n",
       "                        </div> </th> </tr> </thead>\n",
       "            <tbody> <tr> <td>3</td>\n",
       "<td>2</td>\n",
       "<td>1</td>\n",
       "<td>1</td>\n",
       "<td>0.00224125</td>\n",
       "<td>32</td>\n",
       "<td>64</td>\n",
       "<td>0.5</td> </tr> </tbody>\n",
       "        </table>\n",
       "        \n",
       "        <p>Total: 1</p></div>\n",
       "        "
      ],
      "text/plain": [
       "*features_conf *dropout_confi *lr_config_id  *epochs_config train_loss     num_features_1 num_features_2 dropout_prob  \n",
       "+------------+ +------------+ +------------+ +------------+ +------------+ +------------+ +------------+ +------------+\n",
       "3              2              1              1              0.00224125     32             64             0.5           \n",
       " (Total: 1)"
      ]
     },
     "execution_count": 71,
     "metadata": {},
     "output_type": "execute_result"
    }
   ],
   "source": [
    "Train() * NumFeatures() * DropoutProb() & best_loss_key"
   ]
  },
  {
   "cell_type": "code",
   "execution_count": 72,
   "id": "9a8521f4-5b53-44e7-b0a5-6960161309e5",
   "metadata": {
    "tags": []
   },
   "outputs": [
    {
     "data": {
      "text/html": [
       "\n",
       "    \n",
       "    <style type=\"text/css\">\n",
       "        .Table{\n",
       "            border-collapse:collapse;\n",
       "        }\n",
       "        .Table th{\n",
       "            background: #A0A0A0; color: #ffffff; padding:4px; border:#f0e0e0 1px solid;\n",
       "            font-weight: normal; font-family: monospace; font-size: 100%;\n",
       "        }\n",
       "        .Table td{\n",
       "            padding:4px; border:#f0e0e0 1px solid; font-size:100%;\n",
       "        }\n",
       "        .Table tr:nth-child(odd){\n",
       "            background: #ffffff;\n",
       "        }\n",
       "        .Table tr:nth-child(even){\n",
       "            background: #f3f1ff;\n",
       "        }\n",
       "        /* Tooltip container */\n",
       "        .djtooltip {\n",
       "        }\n",
       "        /* Tooltip text */\n",
       "        .djtooltip .djtooltiptext {\n",
       "            visibility: hidden;\n",
       "            width: 120px;\n",
       "            background-color: black;\n",
       "            color: #fff;\n",
       "            text-align: center;\n",
       "            padding: 5px 0;\n",
       "            border-radius: 6px;\n",
       "            /* Position the tooltip text - see examples below! */\n",
       "            position: absolute;\n",
       "            z-index: 1;\n",
       "        }\n",
       "        #primary {\n",
       "            font-weight: bold;\n",
       "            color: black;\n",
       "        }\n",
       "        #nonprimary {\n",
       "            font-weight: normal;\n",
       "            color: white;\n",
       "        }\n",
       "\n",
       "        /* Show the tooltip text when you mouse over the tooltip container */\n",
       "        .djtooltip:hover .djtooltiptext {\n",
       "            visibility: visible;\n",
       "        }\n",
       "    </style>\n",
       "    \n",
       "    <b>weights of the trained model</b>\n",
       "        <div style=\"max-height:1000px;max-width:1500px;overflow:auto;\">\n",
       "        <table border=\"1\" class=\"Table\">\n",
       "            <thead> <tr style=\"text-align: right;\"> <th> <div class=\"djtooltip\">\n",
       "                            <p id=\"primary\">features_config_id</p>\n",
       "                            <span class=\"djtooltiptext\">so-called primary key, must be unique</span>\n",
       "                        </div></th><th><div class=\"djtooltip\">\n",
       "                            <p id=\"primary\">dropout_config_id</p>\n",
       "                            <span class=\"djtooltiptext\">so-called primary key, must be unique</span>\n",
       "                        </div></th><th><div class=\"djtooltip\">\n",
       "                            <p id=\"primary\">lr_config_id</p>\n",
       "                            <span class=\"djtooltiptext\">so-called primary key, must be unique</span>\n",
       "                        </div></th><th><div class=\"djtooltip\">\n",
       "                            <p id=\"primary\">epochs_config_id</p>\n",
       "                            <span class=\"djtooltiptext\">so-called primary key, must be unique</span>\n",
       "                        </div></th><th><div class=\"djtooltip\">\n",
       "                            <p id=\"primary\">layer</p>\n",
       "                            <span class=\"djtooltiptext\">layer name</span>\n",
       "                        </div></th><th><div class=\"djtooltip\">\n",
       "                            <p id=\"nonprimary\">weights</p>\n",
       "                            <span class=\"djtooltiptext\">numpy array of model weigths</span>\n",
       "                        </div> </th> </tr> </thead>\n",
       "            <tbody> <tr> <td>3</td>\n",
       "<td>2</td>\n",
       "<td>1</td>\n",
       "<td>1</td>\n",
       "<td>conv1.bias</td>\n",
       "<td>=BLOB=</td></tr><tr><td>3</td>\n",
       "<td>2</td>\n",
       "<td>1</td>\n",
       "<td>1</td>\n",
       "<td>conv1.weight</td>\n",
       "<td>=BLOB=</td></tr><tr><td>3</td>\n",
       "<td>2</td>\n",
       "<td>1</td>\n",
       "<td>1</td>\n",
       "<td>conv2.bias</td>\n",
       "<td>=BLOB=</td></tr><tr><td>3</td>\n",
       "<td>2</td>\n",
       "<td>1</td>\n",
       "<td>1</td>\n",
       "<td>conv2.weight</td>\n",
       "<td>=BLOB=</td></tr><tr><td>3</td>\n",
       "<td>2</td>\n",
       "<td>1</td>\n",
       "<td>1</td>\n",
       "<td>fc1.bias</td>\n",
       "<td>=BLOB=</td></tr><tr><td>3</td>\n",
       "<td>2</td>\n",
       "<td>1</td>\n",
       "<td>1</td>\n",
       "<td>fc1.weight</td>\n",
       "<td>=BLOB=</td></tr><tr><td>3</td>\n",
       "<td>2</td>\n",
       "<td>1</td>\n",
       "<td>1</td>\n",
       "<td>fc2.bias</td>\n",
       "<td>=BLOB=</td></tr><tr><td>3</td>\n",
       "<td>2</td>\n",
       "<td>1</td>\n",
       "<td>1</td>\n",
       "<td>fc2.weight</td>\n",
       "<td>=BLOB=</td> </tr> </tbody>\n",
       "        </table>\n",
       "        \n",
       "        <p>Total: 8</p></div>\n",
       "        "
      ],
      "text/plain": [
       "*features_conf *dropout_confi *lr_config_id  *epochs_config *layer         weights   \n",
       "+------------+ +------------+ +------------+ +------------+ +------------+ +--------+\n",
       "3              2              1              1              conv1.bias     =BLOB=    \n",
       "3              2              1              1              conv1.weight   =BLOB=    \n",
       "3              2              1              1              conv2.bias     =BLOB=    \n",
       "3              2              1              1              conv2.weight   =BLOB=    \n",
       "3              2              1              1              fc1.bias       =BLOB=    \n",
       "3              2              1              1              fc1.weight     =BLOB=    \n",
       "3              2              1              1              fc2.bias       =BLOB=    \n",
       "3              2              1              1              fc2.weight     =BLOB=    \n",
       " (Total: 8)"
      ]
     },
     "execution_count": 72,
     "metadata": {},
     "output_type": "execute_result"
    }
   ],
   "source": [
    "Train().Weights() & best_loss_key"
   ]
  },
  {
   "cell_type": "markdown",
   "id": "5f60e1ae-bc6c-4b10-a0b9-2fd31c954174",
   "metadata": {
    "tags": []
   },
   "source": [
    "### Results consistency"
   ]
  },
  {
   "cell_type": "code",
   "execution_count": 73,
   "id": "71f70904-db20-4c7e-a1b4-35ee47d75745",
   "metadata": {},
   "outputs": [
    {
     "data": {
      "text/html": [
       "\n",
       "    \n",
       "    <style type=\"text/css\">\n",
       "        .Table{\n",
       "            border-collapse:collapse;\n",
       "        }\n",
       "        .Table th{\n",
       "            background: #A0A0A0; color: #ffffff; padding:4px; border:#f0e0e0 1px solid;\n",
       "            font-weight: normal; font-family: monospace; font-size: 100%;\n",
       "        }\n",
       "        .Table td{\n",
       "            padding:4px; border:#f0e0e0 1px solid; font-size:100%;\n",
       "        }\n",
       "        .Table tr:nth-child(odd){\n",
       "            background: #ffffff;\n",
       "        }\n",
       "        .Table tr:nth-child(even){\n",
       "            background: #f3f1ff;\n",
       "        }\n",
       "        /* Tooltip container */\n",
       "        .djtooltip {\n",
       "        }\n",
       "        /* Tooltip text */\n",
       "        .djtooltip .djtooltiptext {\n",
       "            visibility: hidden;\n",
       "            width: 120px;\n",
       "            background-color: black;\n",
       "            color: #fff;\n",
       "            text-align: center;\n",
       "            padding: 5px 0;\n",
       "            border-radius: 6px;\n",
       "            /* Position the tooltip text - see examples below! */\n",
       "            position: absolute;\n",
       "            z-index: 1;\n",
       "        }\n",
       "        #primary {\n",
       "            font-weight: bold;\n",
       "            color: black;\n",
       "        }\n",
       "        #nonprimary {\n",
       "            font-weight: normal;\n",
       "            color: white;\n",
       "        }\n",
       "\n",
       "        /* Show the tooltip text when you mouse over the tooltip container */\n",
       "        .djtooltip:hover .djtooltiptext {\n",
       "            visibility: visible;\n",
       "        }\n",
       "    </style>\n",
       "    \n",
       "    <b></b>\n",
       "        <div style=\"max-height:1000px;max-width:1500px;overflow:auto;\">\n",
       "        <table border=\"1\" class=\"Table\">\n",
       "            <thead> <tr style=\"text-align: right;\"> <th> <div class=\"djtooltip\">\n",
       "                            <p id=\"primary\">dropout_config_id</p>\n",
       "                            <span class=\"djtooltiptext\">so-called primary key, must be unique</span>\n",
       "                        </div></th><th><div class=\"djtooltip\">\n",
       "                            <p id=\"nonprimary\">dropout_prob</p>\n",
       "                            <span class=\"djtooltiptext\"></span>\n",
       "                        </div> </th> </tr> </thead>\n",
       "            <tbody> <tr> <td>1</td>\n",
       "<td>0.25</td></tr><tr><td>2</td>\n",
       "<td>0.5</td> </tr> </tbody>\n",
       "        </table>\n",
       "        \n",
       "        <p>Total: 2</p></div>\n",
       "        "
      ],
      "text/plain": [
       "*dropout_confi dropout_prob  \n",
       "+------------+ +------------+\n",
       "1              0.25          \n",
       "2              0.5           \n",
       " (Total: 2)"
      ]
     },
     "execution_count": 73,
     "metadata": {},
     "output_type": "execute_result"
    }
   ],
   "source": [
    "DropoutProb()"
   ]
  },
  {
   "cell_type": "code",
   "execution_count": 74,
   "id": "00dd857a-b7b8-44c3-8a0c-f52c15cb7ad3",
   "metadata": {
    "tags": []
   },
   "outputs": [
    {
     "data": {
      "text/html": [
       "\n",
       "    \n",
       "    <style type=\"text/css\">\n",
       "        .Table{\n",
       "            border-collapse:collapse;\n",
       "        }\n",
       "        .Table th{\n",
       "            background: #A0A0A0; color: #ffffff; padding:4px; border:#f0e0e0 1px solid;\n",
       "            font-weight: normal; font-family: monospace; font-size: 100%;\n",
       "        }\n",
       "        .Table td{\n",
       "            padding:4px; border:#f0e0e0 1px solid; font-size:100%;\n",
       "        }\n",
       "        .Table tr:nth-child(odd){\n",
       "            background: #ffffff;\n",
       "        }\n",
       "        .Table tr:nth-child(even){\n",
       "            background: #f3f1ff;\n",
       "        }\n",
       "        /* Tooltip container */\n",
       "        .djtooltip {\n",
       "        }\n",
       "        /* Tooltip text */\n",
       "        .djtooltip .djtooltiptext {\n",
       "            visibility: hidden;\n",
       "            width: 120px;\n",
       "            background-color: black;\n",
       "            color: #fff;\n",
       "            text-align: center;\n",
       "            padding: 5px 0;\n",
       "            border-radius: 6px;\n",
       "            /* Position the tooltip text - see examples below! */\n",
       "            position: absolute;\n",
       "            z-index: 1;\n",
       "        }\n",
       "        #primary {\n",
       "            font-weight: bold;\n",
       "            color: black;\n",
       "        }\n",
       "        #nonprimary {\n",
       "            font-weight: normal;\n",
       "            color: white;\n",
       "        }\n",
       "\n",
       "        /* Show the tooltip text when you mouse over the tooltip container */\n",
       "        .djtooltip:hover .djtooltiptext {\n",
       "            visibility: visible;\n",
       "        }\n",
       "    </style>\n",
       "    \n",
       "    <b></b>\n",
       "        <div style=\"max-height:1000px;max-width:1500px;overflow:auto;\">\n",
       "        <table border=\"1\" class=\"Table\">\n",
       "            <thead> <tr style=\"text-align: right;\"> <th> <div class=\"djtooltip\">\n",
       "                            <p id=\"primary\">features_config_id</p>\n",
       "                            <span class=\"djtooltiptext\">so-called primary key, must be unique</span>\n",
       "                        </div></th><th><div class=\"djtooltip\">\n",
       "                            <p id=\"primary\">dropout_config_id</p>\n",
       "                            <span class=\"djtooltiptext\">so-called primary key, must be unique</span>\n",
       "                        </div></th><th><div class=\"djtooltip\">\n",
       "                            <p id=\"primary\">lr_config_id</p>\n",
       "                            <span class=\"djtooltiptext\">so-called primary key, must be unique</span>\n",
       "                        </div></th><th><div class=\"djtooltip\">\n",
       "                            <p id=\"primary\">epochs_config_id</p>\n",
       "                            <span class=\"djtooltiptext\">so-called primary key, must be unique</span>\n",
       "                        </div></th><th><div class=\"djtooltip\">\n",
       "                            <p id=\"nonprimary\">train_loss</p>\n",
       "                            <span class=\"djtooltiptext\"></span>\n",
       "                        </div> </th> </tr> </thead>\n",
       "            <tbody> <tr> <td>1</td>\n",
       "<td>1</td>\n",
       "<td>1</td>\n",
       "<td>1</td>\n",
       "<td>0.0685394</td></tr><tr><td>1</td>\n",
       "<td>1</td>\n",
       "<td>2</td>\n",
       "<td>1</td>\n",
       "<td>2.30979</td></tr><tr><td>1</td>\n",
       "<td>2</td>\n",
       "<td>1</td>\n",
       "<td>1</td>\n",
       "<td>0.018592</td></tr><tr><td>1</td>\n",
       "<td>2</td>\n",
       "<td>2</td>\n",
       "<td>1</td>\n",
       "<td>0.579606</td></tr><tr><td>2</td>\n",
       "<td>1</td>\n",
       "<td>1</td>\n",
       "<td>1</td>\n",
       "<td>0.00668384</td></tr><tr><td>2</td>\n",
       "<td>1</td>\n",
       "<td>2</td>\n",
       "<td>1</td>\n",
       "<td>0.275638</td></tr><tr><td>2</td>\n",
       "<td>2</td>\n",
       "<td>1</td>\n",
       "<td>1</td>\n",
       "<td>0.151909</td></tr><tr><td>2</td>\n",
       "<td>2</td>\n",
       "<td>2</td>\n",
       "<td>1</td>\n",
       "<td>0.152021</td></tr><tr><td>3</td>\n",
       "<td>2</td>\n",
       "<td>1</td>\n",
       "<td>1</td>\n",
       "<td>0.00224125</td></tr><tr><td>3</td>\n",
       "<td>2</td>\n",
       "<td>2</td>\n",
       "<td>1</td>\n",
       "<td>0.214565</td></tr><tr><td>4</td>\n",
       "<td>1</td>\n",
       "<td>2</td>\n",
       "<td>1</td>\n",
       "<td>2.30982</td></tr><tr><td>4</td>\n",
       "<td>2</td>\n",
       "<td>2</td>\n",
       "<td>1</td>\n",
       "<td>0.524754</td> </tr> </tbody>\n",
       "        </table>\n",
       "        \n",
       "        <p>Total: 12</p></div>\n",
       "        "
      ],
      "text/plain": [
       "*features_conf *dropout_confi *lr_config_id  *epochs_config train_loss    \n",
       "+------------+ +------------+ +------------+ +------------+ +------------+\n",
       "1              1              1              1              0.0685394     \n",
       "1              1              2              1              2.30979       \n",
       "1              2              1              1              0.018592      \n",
       "1              2              2              1              0.579606      \n",
       "2              1              1              1              0.00668384    \n",
       "2              1              2              1              0.275638      \n",
       "2              2              1              1              0.151909      \n",
       "2              2              2              1              0.152021      \n",
       "3              2              1              1              0.00224125    \n",
       "3              2              2              1              0.214565      \n",
       "4              1              2              1              2.30982       \n",
       "4              2              2              1              0.524754      \n",
       " (Total: 12)"
      ]
     },
     "execution_count": 74,
     "metadata": {},
     "output_type": "execute_result"
    }
   ],
   "source": [
    "Train()"
   ]
  },
  {
   "cell_type": "code",
   "execution_count": 75,
   "id": "71f54a83-73f8-4e96-93f3-3d8941685a54",
   "metadata": {
    "tags": []
   },
   "outputs": [
    {
     "data": {
      "text/html": [
       "\n",
       "    \n",
       "    <style type=\"text/css\">\n",
       "        .Table{\n",
       "            border-collapse:collapse;\n",
       "        }\n",
       "        .Table th{\n",
       "            background: #A0A0A0; color: #ffffff; padding:4px; border:#f0e0e0 1px solid;\n",
       "            font-weight: normal; font-family: monospace; font-size: 100%;\n",
       "        }\n",
       "        .Table td{\n",
       "            padding:4px; border:#f0e0e0 1px solid; font-size:100%;\n",
       "        }\n",
       "        .Table tr:nth-child(odd){\n",
       "            background: #ffffff;\n",
       "        }\n",
       "        .Table tr:nth-child(even){\n",
       "            background: #f3f1ff;\n",
       "        }\n",
       "        /* Tooltip container */\n",
       "        .djtooltip {\n",
       "        }\n",
       "        /* Tooltip text */\n",
       "        .djtooltip .djtooltiptext {\n",
       "            visibility: hidden;\n",
       "            width: 120px;\n",
       "            background-color: black;\n",
       "            color: #fff;\n",
       "            text-align: center;\n",
       "            padding: 5px 0;\n",
       "            border-radius: 6px;\n",
       "            /* Position the tooltip text - see examples below! */\n",
       "            position: absolute;\n",
       "            z-index: 1;\n",
       "        }\n",
       "        #primary {\n",
       "            font-weight: bold;\n",
       "            color: black;\n",
       "        }\n",
       "        #nonprimary {\n",
       "            font-weight: normal;\n",
       "            color: white;\n",
       "        }\n",
       "\n",
       "        /* Show the tooltip text when you mouse over the tooltip container */\n",
       "        .djtooltip:hover .djtooltiptext {\n",
       "            visibility: visible;\n",
       "        }\n",
       "    </style>\n",
       "    \n",
       "    <b></b>\n",
       "        <div style=\"max-height:1000px;max-width:1500px;overflow:auto;\">\n",
       "        <table border=\"1\" class=\"Table\">\n",
       "            <thead> <tr style=\"text-align: right;\"> <th> <div class=\"djtooltip\">\n",
       "                            <p id=\"primary\">dropout_config_id</p>\n",
       "                            <span class=\"djtooltiptext\">so-called primary key, must be unique</span>\n",
       "                        </div></th><th><div class=\"djtooltip\">\n",
       "                            <p id=\"nonprimary\">dropout_prob</p>\n",
       "                            <span class=\"djtooltiptext\"></span>\n",
       "                        </div> </th> </tr> </thead>\n",
       "            <tbody> <tr> <td>2</td>\n",
       "<td>0.5</td> </tr> </tbody>\n",
       "        </table>\n",
       "        \n",
       "        <p>Total: 1</p></div>\n",
       "        "
      ],
      "text/plain": [
       "*dropout_confi dropout_prob  \n",
       "+------------+ +------------+\n",
       "2              0.5           \n",
       " (Total: 1)"
      ]
     },
     "execution_count": 75,
     "metadata": {},
     "output_type": "execute_result"
    }
   ],
   "source": [
    "DropoutProb() & \"dropout_prob = 0.5\""
   ]
  },
  {
   "cell_type": "code",
   "execution_count": 76,
   "id": "5c8294f8-efa1-446d-b0e0-ef7a81f366e5",
   "metadata": {
    "tags": []
   },
   "outputs": [
    {
     "name": "stderr",
     "output_type": "stream",
     "text": [
      "[2023-04-25 19:21:11,495][INFO]: Deleting 56 rows from `tutorial`.`__train__weights`\n",
      "[2023-04-25 19:21:11,503][INFO]: Deleting 7 rows from `tutorial`.`__train`\n",
      "[2023-04-25 19:21:11,512][INFO]: Deleting 1 rows from `tutorial`.`#dropout_prob`\n"
     ]
    },
    {
     "name": "stdin",
     "output_type": "stream",
     "text": [
      "Commit deletes? [yes, No]:  yes\n"
     ]
    },
    {
     "name": "stderr",
     "output_type": "stream",
     "text": [
      "[2023-04-25 19:21:13,249][INFO]: Deletes committed.\n"
     ]
    },
    {
     "data": {
      "text/plain": [
       "1"
      ]
     },
     "execution_count": 76,
     "metadata": {},
     "output_type": "execute_result"
    }
   ],
   "source": [
    "(DropoutProb() & \"dropout_prob = 0.5\").delete()"
   ]
  },
  {
   "cell_type": "code",
   "execution_count": 77,
   "id": "57f7420c-a8c7-4638-8061-0bf5a20af463",
   "metadata": {
    "tags": []
   },
   "outputs": [
    {
     "data": {
      "text/html": [
       "\n",
       "    \n",
       "    <style type=\"text/css\">\n",
       "        .Table{\n",
       "            border-collapse:collapse;\n",
       "        }\n",
       "        .Table th{\n",
       "            background: #A0A0A0; color: #ffffff; padding:4px; border:#f0e0e0 1px solid;\n",
       "            font-weight: normal; font-family: monospace; font-size: 100%;\n",
       "        }\n",
       "        .Table td{\n",
       "            padding:4px; border:#f0e0e0 1px solid; font-size:100%;\n",
       "        }\n",
       "        .Table tr:nth-child(odd){\n",
       "            background: #ffffff;\n",
       "        }\n",
       "        .Table tr:nth-child(even){\n",
       "            background: #f3f1ff;\n",
       "        }\n",
       "        /* Tooltip container */\n",
       "        .djtooltip {\n",
       "        }\n",
       "        /* Tooltip text */\n",
       "        .djtooltip .djtooltiptext {\n",
       "            visibility: hidden;\n",
       "            width: 120px;\n",
       "            background-color: black;\n",
       "            color: #fff;\n",
       "            text-align: center;\n",
       "            padding: 5px 0;\n",
       "            border-radius: 6px;\n",
       "            /* Position the tooltip text - see examples below! */\n",
       "            position: absolute;\n",
       "            z-index: 1;\n",
       "        }\n",
       "        #primary {\n",
       "            font-weight: bold;\n",
       "            color: black;\n",
       "        }\n",
       "        #nonprimary {\n",
       "            font-weight: normal;\n",
       "            color: white;\n",
       "        }\n",
       "\n",
       "        /* Show the tooltip text when you mouse over the tooltip container */\n",
       "        .djtooltip:hover .djtooltiptext {\n",
       "            visibility: visible;\n",
       "        }\n",
       "    </style>\n",
       "    \n",
       "    <b></b>\n",
       "        <div style=\"max-height:1000px;max-width:1500px;overflow:auto;\">\n",
       "        <table border=\"1\" class=\"Table\">\n",
       "            <thead> <tr style=\"text-align: right;\"> <th> <div class=\"djtooltip\">\n",
       "                            <p id=\"primary\">features_config_id</p>\n",
       "                            <span class=\"djtooltiptext\">so-called primary key, must be unique</span>\n",
       "                        </div></th><th><div class=\"djtooltip\">\n",
       "                            <p id=\"primary\">dropout_config_id</p>\n",
       "                            <span class=\"djtooltiptext\">so-called primary key, must be unique</span>\n",
       "                        </div></th><th><div class=\"djtooltip\">\n",
       "                            <p id=\"primary\">lr_config_id</p>\n",
       "                            <span class=\"djtooltiptext\">so-called primary key, must be unique</span>\n",
       "                        </div></th><th><div class=\"djtooltip\">\n",
       "                            <p id=\"primary\">epochs_config_id</p>\n",
       "                            <span class=\"djtooltiptext\">so-called primary key, must be unique</span>\n",
       "                        </div></th><th><div class=\"djtooltip\">\n",
       "                            <p id=\"nonprimary\">train_loss</p>\n",
       "                            <span class=\"djtooltiptext\"></span>\n",
       "                        </div> </th> </tr> </thead>\n",
       "            <tbody> <tr> <td>1</td>\n",
       "<td>1</td>\n",
       "<td>1</td>\n",
       "<td>1</td>\n",
       "<td>0.0685394</td></tr><tr><td>1</td>\n",
       "<td>1</td>\n",
       "<td>2</td>\n",
       "<td>1</td>\n",
       "<td>2.30979</td></tr><tr><td>2</td>\n",
       "<td>1</td>\n",
       "<td>1</td>\n",
       "<td>1</td>\n",
       "<td>0.00668384</td></tr><tr><td>2</td>\n",
       "<td>1</td>\n",
       "<td>2</td>\n",
       "<td>1</td>\n",
       "<td>0.275638</td></tr><tr><td>4</td>\n",
       "<td>1</td>\n",
       "<td>2</td>\n",
       "<td>1</td>\n",
       "<td>2.30982</td> </tr> </tbody>\n",
       "        </table>\n",
       "        \n",
       "        <p>Total: 5</p></div>\n",
       "        "
      ],
      "text/plain": [
       "*features_conf *dropout_confi *lr_config_id  *epochs_config train_loss    \n",
       "+------------+ +------------+ +------------+ +------------+ +------------+\n",
       "1              1              1              1              0.0685394     \n",
       "1              1              2              1              2.30979       \n",
       "2              1              1              1              0.00668384    \n",
       "2              1              2              1              0.275638      \n",
       "4              1              2              1              2.30982       \n",
       " (Total: 5)"
      ]
     },
     "execution_count": 77,
     "metadata": {},
     "output_type": "execute_result"
    }
   ],
   "source": [
    "Train()"
   ]
  },
  {
   "cell_type": "code",
   "execution_count": null,
   "id": "2e01e310-fe16-425a-99aa-1751ecb27ec4",
   "metadata": {},
   "outputs": [],
   "source": []
  }
 ],
 "metadata": {
  "kernelspec": {
   "display_name": "Python 3 (ipykernel)",
   "language": "python",
   "name": "python3"
  },
  "language_info": {
   "codemirror_mode": {
    "name": "ipython",
    "version": 3
   },
   "file_extension": ".py",
   "mimetype": "text/x-python",
   "name": "python",
   "nbconvert_exporter": "python",
   "pygments_lexer": "ipython3",
   "version": "3.11.3"
  }
 },
 "nbformat": 4,
 "nbformat_minor": 5
}
