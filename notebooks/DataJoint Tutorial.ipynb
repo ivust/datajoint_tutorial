{
 "cells": [
  {
   "cell_type": "markdown",
   "id": "f9deab4a",
   "metadata": {},
   "source": [
    "# DataJoint tutorial"
   ]
  },
  {
   "cell_type": "markdown",
   "id": "54e1c790",
   "metadata": {},
   "source": [
    "We run a lot of experiments and keeping track of them is hard (at least for me)\n",
    "![](figures/folders.png)"
   ]
  },
  {
   "cell_type": "markdown",
   "id": "2e88e51f",
   "metadata": {
    "tags": []
   },
   "source": [
    "## What do we want from an experiment tracking tool?"
   ]
  },
  {
   "cell_type": "markdown",
   "id": "b210b7e5",
   "metadata": {
    "tags": []
   },
   "source": [
    "### Storage and quering"
   ]
  },
  {
   "cell_type": "markdown",
   "id": "3270bf3d-8478-4813-801b-9720003c2bc8",
   "metadata": {},
   "source": [
    "- Make sure all the results are accessible and nothing is lost.\n",
    "- Maybe raw data storage should be supported as well.\n",
    "- Easy querying. For example, something like this is inconvenient:\n",
    "```python\n",
    "for param1 in list_of_param1_values:\n",
    "    for param2 in list_of_param2_values:\n",
    "        for param3 in list_of_param3_values:\n",
    "            results_file_path = get_file_path(root_folder, param1, param2, param3)\n",
    "            results = load_results(results_file_path)\n",
    "            ...\n",
    "```\n",
    "- For example, $0.5 \\leq \\text{param1} \\leq 1.5$ and $\\text{param2} \\geq 10 \\cdot \\text{param1}$ need to be coded as `if...else` statements\n",
    "- A table might be a better option\n",
    "\n",
    "![](figures/table.png)\n",
    "\n",
    "- A table needs to be manually kept up-to-date and stored somewhere. Also how do we store different types of data? Links to files?\n",
    "- What about pipelines, where the results of one experiment are inputs to the next one?"
   ]
  },
  {
   "cell_type": "markdown",
   "id": "7599ca55-bc5b-4c86-ad23-c7ec4ce3e3a3",
   "metadata": {
    "tags": []
   },
   "source": [
    "### There is a good solution to storage and querying problem"
   ]
  },
  {
   "cell_type": "markdown",
   "id": "5465988b-4382-446d-b36b-6f2ea475bdd9",
   "metadata": {},
   "source": [
    "Databases! For example, relational databases with SQL language for querying\n",
    "\n",
    "![](figures/database_cartoon.png)"
   ]
  },
  {
   "cell_type": "markdown",
   "id": "4cdb78df-91ec-44fc-a658-d549b8ae5021",
   "metadata": {
    "tags": []
   },
   "source": [
    "![](figures/params_database.jpg)"
   ]
  },
  {
   "cell_type": "markdown",
   "id": "cddc3b03-4e4d-4edd-b863-77a5b5728cba",
   "metadata": {
    "tags": []
   },
   "source": [
    "Querying is much easier than in manual looping over the file system:\n",
    "```sql\n",
    "SELECT res1\n",
    "FROM results\n",
    "    JOIN param1 ON (param1.id = results.id_p1)\n",
    "    JOIN param2 ON (param2.id = results.id_p2)\n",
    "WHERE\n",
    "    param1.value >= 0.5 AND \n",
    "    param1.value <= 1.5 AND \n",
    "    param2.value >= param1.value * 10\n",
    "```"
   ]
  },
  {
   "cell_type": "markdown",
   "id": "692fc605-f456-4998-bd9f-1b27f029c13e",
   "metadata": {},
   "source": [
    "- DataJoint is an easy-to-use wrapper on top of a SQL database. "
   ]
  },
  {
   "cell_type": "markdown",
   "id": "8d861804-b2bd-408c-b23a-e621a45df0a8",
   "metadata": {
    "tags": []
   },
   "source": [
    "### Computation"
   ]
  },
  {
   "cell_type": "markdown",
   "id": "2d41d635-9bd8-4a67-84b3-18e0c27d9580",
   "metadata": {},
   "source": [
    "- DataJoint is not just an SQL database wrapper. It also allows us to define computational pipeline (a bit lime Makefile).\n",
    "- The database tables can be automatically populated based on the data saved in their dependent tables.\n",
    "- The auto population jobs are tracked in a global table enabling parallel computations (see later)."
   ]
  },
  {
   "cell_type": "markdown",
   "id": "933d11a8-86bb-452e-b299-89503b42a8da",
   "metadata": {
    "tags": []
   },
   "source": [
    "## An example"
   ]
  },
  {
   "cell_type": "markdown",
   "id": "a057a349-fea1-43eb-89b8-b4a67eacaa34",
   "metadata": {},
   "source": [
    "Let's train a neural network on MNIST digits and use DataJoint to keep track of the results."
   ]
  },
  {
   "cell_type": "code",
   "execution_count": null,
   "id": "a333331f-b0b6-40a5-b72e-a6b71c26445d",
   "metadata": {
    "tags": []
   },
   "outputs": [],
   "source": [
    "import torch.optim as optim\n",
    "from datajoint_tutorial.torch_network import Net, get_dataloaders, train, test"
   ]
  },
  {
   "cell_type": "code",
   "execution_count": null,
   "id": "afd88abd-794a-46ad-b8e4-12a9dac31082",
   "metadata": {
    "tags": []
   },
   "outputs": [],
   "source": [
    "net = Net(num_features_1=32, num_features_2=64, dropout_prob=0.25)"
   ]
  },
  {
   "cell_type": "code",
   "execution_count": null,
   "id": "b32f6bf6-02ba-4668-b57a-92bb0da24b96",
   "metadata": {
    "tags": []
   },
   "outputs": [],
   "source": [
    "train_loader, test_loader = get_dataloaders(batch_size=4)"
   ]
  },
  {
   "cell_type": "code",
   "execution_count": null,
   "id": "03ecd338-f9ec-49a4-b758-ac278b029f8e",
   "metadata": {
    "tags": []
   },
   "outputs": [],
   "source": [
    "import matplotlib.pyplot as plt"
   ]
  },
  {
   "cell_type": "code",
   "execution_count": null,
   "id": "2a0c11a8-44d3-41cb-8af5-58d304aa3d06",
   "metadata": {
    "tags": []
   },
   "outputs": [],
   "source": [
    "for (imgs, labels) in train_loader:\n",
    "    break\n",
    "    \n",
    "plt.figure(figsize=(10, 3))\n",
    "\n",
    "for i in range(4):\n",
    "    plt.subplot(1, 4, i + 1)\n",
    "    plt.imshow(imgs[i,0], cmap=\"gray\")\n",
    "    plt.axis(\"off\")"
   ]
  },
  {
   "cell_type": "code",
   "execution_count": null,
   "id": "fd5b5707-c20d-41ac-8733-e7db1705ffab",
   "metadata": {
    "tags": []
   },
   "outputs": [],
   "source": [
    "net_output = net(imgs)\n",
    "net_output.shape"
   ]
  },
  {
   "cell_type": "markdown",
   "id": "90c27280-c740-43d6-8f48-19c9cc805387",
   "metadata": {
    "tags": []
   },
   "source": [
    "### Setting up DataJoint schema"
   ]
  },
  {
   "cell_type": "code",
   "execution_count": null,
   "id": "3d329319",
   "metadata": {
    "tags": []
   },
   "outputs": [],
   "source": [
    "import datajoint as dj"
   ]
  },
  {
   "cell_type": "code",
   "execution_count": null,
   "id": "8f226384",
   "metadata": {
    "tags": []
   },
   "outputs": [],
   "source": [
    "# Database connection\n",
    "\n",
    "dj.config['database.host'] = 'localhost'\n",
    "dj.config['database.user'] = 'root'\n",
    "dj.config['database.password'] = 'password'"
   ]
  },
  {
   "cell_type": "code",
   "execution_count": null,
   "id": "016823e0-2387-4782-bab9-ee7ff37693ea",
   "metadata": {
    "tags": []
   },
   "outputs": [],
   "source": [
    "# schema.drop()"
   ]
  },
  {
   "cell_type": "code",
   "execution_count": null,
   "id": "5f990dbf",
   "metadata": {
    "tags": []
   },
   "outputs": [],
   "source": [
    "# Schema is a collection of tables\n",
    "\n",
    "schema = dj.schema('tutorial', locals())"
   ]
  },
  {
   "cell_type": "markdown",
   "id": "c08a3414-64be-440b-bc93-7f26a5230b24",
   "metadata": {},
   "source": [
    "Our model contains the following parameters:\n",
    "\n",
    "- Number of features in the first and second layer\n",
    "- Dropout probability\n",
    "- Optimizer learning rate\n",
    "- Number of optimization epochs"
   ]
  },
  {
   "cell_type": "code",
   "execution_count": null,
   "id": "874c076d",
   "metadata": {
    "tags": []
   },
   "outputs": [],
   "source": [
    "@schema\n",
    "class NumFeatures(dj.Manual):\n",
    "    definition = \"\"\"\n",
    "    features_config_id  : tinyint # so-called primary key, must be unique\n",
    "    ---\n",
    "    num_features_1      : int\n",
    "    num_features_2      : int\n",
    "    \"\"\""
   ]
  },
  {
   "cell_type": "code",
   "execution_count": null,
   "id": "56712ee8",
   "metadata": {
    "tags": []
   },
   "outputs": [],
   "source": [
    "NumFeatures()"
   ]
  },
  {
   "cell_type": "code",
   "execution_count": null,
   "id": "bb3a3253",
   "metadata": {
    "tags": []
   },
   "outputs": [],
   "source": [
    "NumFeatures().insert1([1, 32, 32])"
   ]
  },
  {
   "cell_type": "code",
   "execution_count": null,
   "id": "dfbb05ce",
   "metadata": {
    "tags": []
   },
   "outputs": [],
   "source": [
    "NumFeatures()"
   ]
  },
  {
   "cell_type": "code",
   "execution_count": null,
   "id": "79cbc084",
   "metadata": {
    "tags": []
   },
   "outputs": [],
   "source": [
    "NumFeatures().insert([\n",
    "    [2, 16, 32],\n",
    "    [3, 32, 64],\n",
    "    [4, 64, 64]\n",
    "])"
   ]
  },
  {
   "cell_type": "code",
   "execution_count": null,
   "id": "7d86b619",
   "metadata": {
    "tags": []
   },
   "outputs": [],
   "source": [
    "NumFeatures()"
   ]
  },
  {
   "cell_type": "code",
   "execution_count": null,
   "id": "5d674597-a99a-45bb-ae51-9f285998f5cb",
   "metadata": {
    "tags": []
   },
   "outputs": [],
   "source": [
    "some_features = NumFeatures() & 'num_features_1 > 20'"
   ]
  },
  {
   "cell_type": "code",
   "execution_count": null,
   "id": "a41f6d70-4d67-42c2-8885-d19f0b533145",
   "metadata": {
    "tags": []
   },
   "outputs": [],
   "source": [
    "some_features"
   ]
  },
  {
   "cell_type": "code",
   "execution_count": null,
   "id": "50917801-534e-48d7-bab6-77355fe041d4",
   "metadata": {
    "tags": []
   },
   "outputs": [],
   "source": [
    "some_features = NumFeatures() & 'num_features_1 > num_features_2'"
   ]
  },
  {
   "cell_type": "code",
   "execution_count": null,
   "id": "9d621170-7f35-4853-8522-34143dc41e64",
   "metadata": {
    "tags": []
   },
   "outputs": [],
   "source": [
    "some_features"
   ]
  },
  {
   "cell_type": "code",
   "execution_count": null,
   "id": "f7263a95-9ef5-4c9c-93f7-a92dbaa21cc0",
   "metadata": {
    "tags": []
   },
   "outputs": [],
   "source": [
    "some_features = NumFeatures() & 'num_features_1 = num_features_2'"
   ]
  },
  {
   "cell_type": "code",
   "execution_count": null,
   "id": "915921b3-6534-41e5-b6fa-cd8bc1050124",
   "metadata": {
    "tags": []
   },
   "outputs": [],
   "source": [
    "some_features"
   ]
  },
  {
   "cell_type": "code",
   "execution_count": null,
   "id": "af4fa017-72b1-45ab-a483-cfd2a80d7c28",
   "metadata": {
    "tags": []
   },
   "outputs": [],
   "source": [
    "some_features.fetch()"
   ]
  },
  {
   "cell_type": "code",
   "execution_count": null,
   "id": "384755e5-f0bf-41d2-8607-e29e500fc355",
   "metadata": {
    "tags": []
   },
   "outputs": [],
   "source": [
    "some_features.fetch(as_dict=True)"
   ]
  },
  {
   "cell_type": "code",
   "execution_count": null,
   "id": "2cf571c5-0944-4414-afab-c4cc0ecdfb0c",
   "metadata": {
    "tags": []
   },
   "outputs": [],
   "source": [
    "some_features.fetch(format=\"frame\")"
   ]
  },
  {
   "cell_type": "code",
   "execution_count": null,
   "id": "5da9e7d5-e4c3-485b-af49-ace1c0f05985",
   "metadata": {
    "tags": []
   },
   "outputs": [],
   "source": [
    "some_features = NumFeatures() & dict(features_config_id=1, some_key=\"some_value\")"
   ]
  },
  {
   "cell_type": "code",
   "execution_count": null,
   "id": "df38cbdf-ebae-421c-a45b-4c038bcfa1ce",
   "metadata": {
    "tags": []
   },
   "outputs": [],
   "source": [
    "some_features"
   ]
  },
  {
   "cell_type": "code",
   "execution_count": null,
   "id": "b31f0d5c-f119-4fbf-a689-ec4fa6bd70ff",
   "metadata": {
    "tags": []
   },
   "outputs": [],
   "source": [
    "some_features.fetch1()"
   ]
  },
  {
   "cell_type": "code",
   "execution_count": null,
   "id": "2723bd4b",
   "metadata": {
    "tags": []
   },
   "outputs": [],
   "source": [
    "@schema\n",
    "class DropoutProb(dj.Lookup):\n",
    "    definition = \"\"\"\n",
    "    dropout_config_id  : tinyint # so-called primary key, must be unique\n",
    "    ---\n",
    "    dropout_prob       : float\n",
    "    \"\"\"\n",
    "        \n",
    "    contents = [[1, 0.25], [2, 0.5]]"
   ]
  },
  {
   "cell_type": "code",
   "execution_count": null,
   "id": "991d5d31-1300-4e29-8156-b5245f6d17d9",
   "metadata": {
    "tags": []
   },
   "outputs": [],
   "source": [
    "DropoutProb()"
   ]
  },
  {
   "cell_type": "code",
   "execution_count": null,
   "id": "4e7b284a-f247-474c-ae8c-c6e9a206721d",
   "metadata": {
    "tags": []
   },
   "outputs": [],
   "source": [
    "@schema\n",
    "class LearningRate(dj.Lookup):\n",
    "    definition = \"\"\"\n",
    "    lr_config_id  : tinyint # so-called primary key, must be unique\n",
    "    ---\n",
    "    lr            : float\n",
    "    \"\"\"\n",
    "        \n",
    "    contents = [[1, 1e-3], [2, 1e-2]]"
   ]
  },
  {
   "cell_type": "code",
   "execution_count": null,
   "id": "ebc51b8c-772a-4850-9c1f-c09ed5933e3c",
   "metadata": {
    "tags": []
   },
   "outputs": [],
   "source": [
    "LearningRate()"
   ]
  },
  {
   "cell_type": "code",
   "execution_count": null,
   "id": "92626af8-bace-45c8-af33-a07156ff21d4",
   "metadata": {
    "tags": []
   },
   "outputs": [],
   "source": [
    "@schema\n",
    "class NumEpochs(dj.Lookup):\n",
    "    definition = \"\"\"\n",
    "    epochs_config_id  : tinyint # so-called primary key, must be unique\n",
    "    ---\n",
    "    epochs            : int\n",
    "    \"\"\"\n",
    "        \n",
    "    contents = [[1, 1], [2, 10], [3, 50]]"
   ]
  },
  {
   "cell_type": "code",
   "execution_count": null,
   "id": "fc8111e0-ad86-4481-a77f-f7db63b24846",
   "metadata": {
    "tags": []
   },
   "outputs": [],
   "source": [
    "NumEpochs()"
   ]
  },
  {
   "cell_type": "code",
   "execution_count": null,
   "id": "39e37bf7-6240-44fe-81a8-14b67e99836e",
   "metadata": {
    "tags": []
   },
   "outputs": [],
   "source": [
    "NumEpochs() & dict(epochs_config_id=2)"
   ]
  },
  {
   "cell_type": "code",
   "execution_count": null,
   "id": "457f8eb3-2c9d-4cf3-9650-ffdb5b072e1b",
   "metadata": {
    "tags": []
   },
   "outputs": [],
   "source": [
    "NumEpochs() & [dict(epochs_config_id=2), dict(epochs_config_id=3)]"
   ]
  },
  {
   "cell_type": "code",
   "execution_count": null,
   "id": "58d5e7b3-8193-486a-a59e-8875de776141",
   "metadata": {
    "tags": []
   },
   "outputs": [],
   "source": [
    "NumEpochs() & ['epochs_config_id=2', dict(epochs_config_id=3)]"
   ]
  },
  {
   "cell_type": "code",
   "execution_count": null,
   "id": "c55ef851-a77d-4ef5-90b9-61e934aa382b",
   "metadata": {
    "tags": []
   },
   "outputs": [],
   "source": [
    "(NumEpochs() & [dict(epochs_config_id=2), dict(epochs_config_id=3)]).delete()"
   ]
  },
  {
   "cell_type": "code",
   "execution_count": null,
   "id": "5b88acb2-975a-4bf5-bcc6-41ef07d06db7",
   "metadata": {
    "tags": []
   },
   "outputs": [],
   "source": [
    "NumEpochs()"
   ]
  },
  {
   "cell_type": "code",
   "execution_count": null,
   "id": "903d88a2-f0c1-4a2f-8b1b-21c3f3227bb4",
   "metadata": {
    "tags": []
   },
   "outputs": [],
   "source": [
    "dj.Diagram(schema)"
   ]
  },
  {
   "cell_type": "code",
   "execution_count": null,
   "id": "0fe9ff46-adff-47bd-ae69-af9faf128f59",
   "metadata": {
    "tags": []
   },
   "outputs": [],
   "source": [
    "@schema\n",
    "class Train(dj.Computed):\n",
    "    definition = \"\"\"\n",
    "    -> NumFeatures\n",
    "    -> DropoutProb\n",
    "    -> LearningRate\n",
    "    -> NumEpochs\n",
    "    ---\n",
    "    train_loss      : float\n",
    "    model_weights   : longblob\n",
    "    \"\"\"\n",
    "        \n",
    "    def make(self, key):\n",
    "        pass"
   ]
  },
  {
   "cell_type": "code",
   "execution_count": null,
   "id": "00c75791",
   "metadata": {
    "tags": []
   },
   "outputs": [],
   "source": [
    "Train()"
   ]
  },
  {
   "cell_type": "code",
   "execution_count": null,
   "id": "f9648f59-b130-4a9d-b6bb-ee1994f0874c",
   "metadata": {
    "tags": []
   },
   "outputs": [],
   "source": [
    "dj.Diagram(schema)"
   ]
  },
  {
   "cell_type": "code",
   "execution_count": null,
   "id": "c5a88188-e4e0-407a-a528-ce89d8b4b6b9",
   "metadata": {
    "tags": []
   },
   "outputs": [],
   "source": [
    "NumFeatures() * Train()"
   ]
  },
  {
   "cell_type": "code",
   "execution_count": null,
   "id": "9ec0c4e4-1acf-452f-8d3e-aa4bd51b3293",
   "metadata": {
    "tags": []
   },
   "outputs": [],
   "source": [
    "Train().drop()"
   ]
  },
  {
   "cell_type": "code",
   "execution_count": null,
   "id": "cdec8e84-e146-4ea9-8bae-f938a75ea83a",
   "metadata": {
    "tags": []
   },
   "outputs": [],
   "source": [
    "NumFeatures()"
   ]
  },
  {
   "cell_type": "code",
   "execution_count": null,
   "id": "80293ffb-fd93-4770-9840-8e82c6dd3dcb",
   "metadata": {
    "tags": []
   },
   "outputs": [],
   "source": [
    "@schema\n",
    "class Train(dj.Computed):\n",
    "    definition = \"\"\"\n",
    "    -> NumFeatures\n",
    "    -> DropoutProb\n",
    "    -> LearningRate\n",
    "    -> NumEpochs\n",
    "    ---\n",
    "    train_loss      : float\n",
    "    \"\"\"\n",
    "    \n",
    "    class Weights(dj.Part):\n",
    "        definition = \"\"\"  # weights of the trained model\n",
    "        -> Train\n",
    "        layer    : varchar(64)   # layer name\n",
    "        ---\n",
    "        weights  : longblob      # numpy array of model weigths\n",
    "        \"\"\"\n",
    "        \n",
    "    def make(self, key):\n",
    "        train_loader, test_loader = get_dataloaders(batch_size=64)\n",
    "        \n",
    "        num_features_1, num_features_2 = (NumFeatures() & key).fetch1(\"num_features_1\", \"num_features_2\")\n",
    "        dropout_prob = (DropoutProb() & key).fetch1(\"dropout_prob\")\n",
    "        lr = (LearningRate() & key).fetch1(\"lr\")\n",
    "        num_epochs = (NumEpochs() & key).fetch1(\"epochs\")\n",
    "        \n",
    "        model = Net(num_features_1=num_features_1, num_features_2=num_features_2, dropout_prob=dropout_prob)\n",
    "        optimizer = optim.Adam(model.parameters(), lr=lr)\n",
    "        \n",
    "        for epoch in range(1, num_epochs + 1):\n",
    "            loss = train(model, train_loader, optimizer, epoch)\n",
    "            \n",
    "        key[\"train_loss\"] = float(loss.detach().numpy())\n",
    "        self.insert1(key)\n",
    "        del key[\"train_loss\"]\n",
    "        \n",
    "        for k, v in model.state_dict().items():\n",
    "            key[\"layer\"] = k\n",
    "            key[\"weights\"] = v.numpy()\n",
    "            self.Weights.insert1(key)"
   ]
  },
  {
   "cell_type": "code",
   "execution_count": null,
   "id": "1f296f46-11a2-4e95-8fc0-bc58377ffd4f",
   "metadata": {
    "tags": []
   },
   "outputs": [],
   "source": [
    "Train().progress(display=True)"
   ]
  },
  {
   "cell_type": "code",
   "execution_count": null,
   "id": "cf1e3ff5-48e5-4acc-a3a4-1973b8234aec",
   "metadata": {
    "tags": []
   },
   "outputs": [],
   "source": [
    "Train().populate(max_calls=1)"
   ]
  },
  {
   "cell_type": "code",
   "execution_count": null,
   "id": "6dd36982-3adf-46d9-8e24-cd889e3b5fdb",
   "metadata": {},
   "outputs": [],
   "source": [
    "Train().populate(max_calls=1)"
   ]
  },
  {
   "cell_type": "code",
   "execution_count": null,
   "id": "47f94279-6d39-42bc-95f2-a62b6fe0a486",
   "metadata": {
    "tags": []
   },
   "outputs": [],
   "source": [
    "Train()"
   ]
  },
  {
   "cell_type": "code",
   "execution_count": null,
   "id": "2bc71b33-d5a5-4fd0-983a-7bcec0ecc27f",
   "metadata": {
    "tags": []
   },
   "outputs": [],
   "source": [
    "Train().progress(display=True)"
   ]
  },
  {
   "cell_type": "code",
   "execution_count": null,
   "id": "966ebc01-78a5-4f0e-a953-601d79a5e18a",
   "metadata": {
    "tags": []
   },
   "outputs": [],
   "source": [
    "Train().Weights()"
   ]
  },
  {
   "cell_type": "code",
   "execution_count": null,
   "id": "198a5de9-4423-4b8a-aae6-c4a914cad9db",
   "metadata": {
    "tags": []
   },
   "outputs": [],
   "source": [
    "Train().Weights() & dict(layer=\"conv2.bias\")"
   ]
  },
  {
   "cell_type": "code",
   "execution_count": null,
   "id": "f752ed3d-e2e4-44b6-a442-c0aedd3cc2f2",
   "metadata": {
    "tags": []
   },
   "outputs": [],
   "source": [
    "(Train().Weights() & dict(layer=\"conv2.bias\")).fetch1(\"weights\")"
   ]
  },
  {
   "cell_type": "code",
   "execution_count": null,
   "id": "cdc32b5a-4b0e-4f9c-94bf-2ed6da474700",
   "metadata": {
    "tags": []
   },
   "outputs": [],
   "source": [
    "Train().Weights().fetch(as_dict=True)"
   ]
  },
  {
   "cell_type": "markdown",
   "id": "b854d8c6-34a5-48b0-9a82-c16fea0ded9b",
   "metadata": {
    "tags": []
   },
   "source": [
    "### Parallel jobs"
   ]
  },
  {
   "cell_type": "code",
   "execution_count": null,
   "id": "83aa9f9b-545d-496c-ae8f-4b106c363d4d",
   "metadata": {
    "tags": []
   },
   "outputs": [],
   "source": [
    "schema.jobs"
   ]
  },
  {
   "cell_type": "code",
   "execution_count": null,
   "id": "ffac9f3d-80a3-4373-a6a2-d204e496be5a",
   "metadata": {
    "tags": []
   },
   "outputs": [],
   "source": [
    "print(schema.jobs.fetch(\"error_stack\", limit=1)[0])"
   ]
  },
  {
   "cell_type": "code",
   "execution_count": null,
   "id": "3614377c-54cb-4719-aba2-25cc0b651df5",
   "metadata": {
    "tags": []
   },
   "outputs": [],
   "source": [
    "schema.jobs.fetch(\"key\")"
   ]
  },
  {
   "cell_type": "code",
   "execution_count": null,
   "id": "b20605ba-e238-4302-a84b-2afda499aae4",
   "metadata": {
    "tags": []
   },
   "outputs": [],
   "source": [
    "Train()"
   ]
  },
  {
   "cell_type": "code",
   "execution_count": null,
   "id": "2ed3f15b-56ff-4531-9e02-f02ad6c4dfdf",
   "metadata": {
    "tags": []
   },
   "outputs": [],
   "source": [
    "best_loss_key = Train().fetch(\"KEY\", order_by=\"train_loss\", limit=1)"
   ]
  },
  {
   "cell_type": "code",
   "execution_count": null,
   "id": "d14e3c47-03ca-4ee9-9c57-7bd5e9b2ae54",
   "metadata": {
    "tags": []
   },
   "outputs": [],
   "source": [
    "best_loss_key"
   ]
  },
  {
   "cell_type": "code",
   "execution_count": null,
   "id": "82203afe-606d-40a1-8d5d-e761a46030b9",
   "metadata": {
    "tags": []
   },
   "outputs": [],
   "source": [
    "Train() & best_loss_key"
   ]
  },
  {
   "cell_type": "code",
   "execution_count": null,
   "id": "f0d016a6-5516-47e1-997f-5737752dbf6e",
   "metadata": {
    "tags": []
   },
   "outputs": [],
   "source": [
    "Train() * NumFeatures() * DropoutProb() & best_loss_key"
   ]
  },
  {
   "cell_type": "code",
   "execution_count": null,
   "id": "9a8521f4-5b53-44e7-b0a5-6960161309e5",
   "metadata": {
    "tags": []
   },
   "outputs": [],
   "source": [
    "Train().Weights() & best_loss_key"
   ]
  },
  {
   "cell_type": "markdown",
   "id": "5f60e1ae-bc6c-4b10-a0b9-2fd31c954174",
   "metadata": {
    "tags": []
   },
   "source": [
    "### Results consistency"
   ]
  },
  {
   "cell_type": "code",
   "execution_count": null,
   "id": "71f70904-db20-4c7e-a1b4-35ee47d75745",
   "metadata": {},
   "outputs": [],
   "source": [
    "DropoutProb()"
   ]
  },
  {
   "cell_type": "code",
   "execution_count": null,
   "id": "00dd857a-b7b8-44c3-8a0c-f52c15cb7ad3",
   "metadata": {
    "tags": []
   },
   "outputs": [],
   "source": [
    "Train()"
   ]
  },
  {
   "cell_type": "code",
   "execution_count": null,
   "id": "71f54a83-73f8-4e96-93f3-3d8941685a54",
   "metadata": {
    "tags": []
   },
   "outputs": [],
   "source": [
    "DropoutProb() & \"dropout_prob = 0.5\""
   ]
  },
  {
   "cell_type": "code",
   "execution_count": null,
   "id": "5c8294f8-efa1-446d-b0e0-ef7a81f366e5",
   "metadata": {
    "tags": []
   },
   "outputs": [],
   "source": [
    "(DropoutProb() & \"dropout_prob = 0.5\").delete()"
   ]
  },
  {
   "cell_type": "code",
   "execution_count": null,
   "id": "57f7420c-a8c7-4638-8061-0bf5a20af463",
   "metadata": {
    "tags": []
   },
   "outputs": [],
   "source": [
    "Train()"
   ]
  },
  {
   "cell_type": "code",
   "execution_count": null,
   "id": "2e01e310-fe16-425a-99aa-1751ecb27ec4",
   "metadata": {},
   "outputs": [],
   "source": []
  }
 ],
 "metadata": {
  "kernelspec": {
   "display_name": "Python 3 (ipykernel)",
   "language": "python",
   "name": "python3"
  },
  "language_info": {
   "codemirror_mode": {
    "name": "ipython",
    "version": 3
   },
   "file_extension": ".py",
   "mimetype": "text/x-python",
   "name": "python",
   "nbconvert_exporter": "python",
   "pygments_lexer": "ipython3",
   "version": "3.11.3"
  }
 },
 "nbformat": 4,
 "nbformat_minor": 5
}
